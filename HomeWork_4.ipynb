{
 "cells": [
  {
   "cell_type": "markdown",
   "source": [
    "# Home work #4 (Spaceship Titanic)"
   ],
   "metadata": {
    "collapsed": false
   }
  },
  {
   "cell_type": "markdown",
   "source": [
    "Tasks:\n",
    "- Считывание датафрейма. Считайте датафрейм и сделайте при считывании все признаки строковыми (hints: используйте dtype).\n",
    "\n",
    "- Выведите несколько первых, последних, случайных строк (случайные используя встроенный метод и сгенерируйте массив из случайных индексов, по которым будут браться строки)\n",
    "\n",
    "- Преобразования показателей. Обработайте каждый показатель в соответствии с тем типом данных, которым он должен быть (из первого пункта у нас должны быть изначально все показатели str типа)\n",
    "\n",
    "- Обработайте пропуски\n",
    "\n",
    "- Попытайтесь перейти от строкового типа данных к числовым\n",
    "\n",
    "- Посчитайте базовые статистики показателей используя группировку и встроенные методы\n",
    "\n",
    "- Попробуйте составить несколько предположений о данных, основываясь на полученных результатах"
   ],
   "metadata": {
    "collapsed": false
   }
  },
  {
   "cell_type": "code",
   "execution_count": 101,
   "outputs": [],
   "source": [
    "import pandas as pd"
   ],
   "metadata": {
    "collapsed": false,
    "ExecuteTime": {
     "start_time": "2023-05-25T10:51:41.672801Z",
     "end_time": "2023-05-25T10:51:41.697443Z"
    }
   }
  },
  {
   "cell_type": "code",
   "execution_count": 102,
   "outputs": [],
   "source": [
    "df = pd.read_csv(\"data/spaceship-titanic/train.csv\", sep=',')"
   ],
   "metadata": {
    "collapsed": false,
    "ExecuteTime": {
     "start_time": "2023-05-25T10:51:44.783164Z",
     "end_time": "2023-05-25T10:51:44.877912Z"
    }
   }
  },
  {
   "cell_type": "code",
   "execution_count": 103,
   "outputs": [
    {
     "data": {
      "text/plain": "  PassengerId HomePlanet CryoSleep  Cabin  Destination   Age    VIP  \\\n0     0001_01     Europa     False  B/0/P  TRAPPIST-1e  39.0  False   \n1     0002_01      Earth     False  F/0/S  TRAPPIST-1e  24.0  False   \n2     0003_01     Europa     False  A/0/S  TRAPPIST-1e  58.0   True   \n3     0003_02     Europa     False  A/0/S  TRAPPIST-1e  33.0  False   \n4     0004_01      Earth     False  F/1/S  TRAPPIST-1e  16.0  False   \n\n   RoomService  FoodCourt  ShoppingMall     Spa  VRDeck               Name  \\\n0          0.0        0.0           0.0     0.0     0.0    Maham Ofracculy   \n1        109.0        9.0          25.0   549.0    44.0       Juanna Vines   \n2         43.0     3576.0           0.0  6715.0    49.0      Altark Susent   \n3          0.0     1283.0         371.0  3329.0   193.0       Solam Susent   \n4        303.0       70.0         151.0   565.0     2.0  Willy Santantines   \n\n   Transported  \n0        False  \n1         True  \n2        False  \n3        False  \n4         True  ",
      "text/html": "<div>\n<style scoped>\n    .dataframe tbody tr th:only-of-type {\n        vertical-align: middle;\n    }\n\n    .dataframe tbody tr th {\n        vertical-align: top;\n    }\n\n    .dataframe thead th {\n        text-align: right;\n    }\n</style>\n<table border=\"1\" class=\"dataframe\">\n  <thead>\n    <tr style=\"text-align: right;\">\n      <th></th>\n      <th>PassengerId</th>\n      <th>HomePlanet</th>\n      <th>CryoSleep</th>\n      <th>Cabin</th>\n      <th>Destination</th>\n      <th>Age</th>\n      <th>VIP</th>\n      <th>RoomService</th>\n      <th>FoodCourt</th>\n      <th>ShoppingMall</th>\n      <th>Spa</th>\n      <th>VRDeck</th>\n      <th>Name</th>\n      <th>Transported</th>\n    </tr>\n  </thead>\n  <tbody>\n    <tr>\n      <th>0</th>\n      <td>0001_01</td>\n      <td>Europa</td>\n      <td>False</td>\n      <td>B/0/P</td>\n      <td>TRAPPIST-1e</td>\n      <td>39.0</td>\n      <td>False</td>\n      <td>0.0</td>\n      <td>0.0</td>\n      <td>0.0</td>\n      <td>0.0</td>\n      <td>0.0</td>\n      <td>Maham Ofracculy</td>\n      <td>False</td>\n    </tr>\n    <tr>\n      <th>1</th>\n      <td>0002_01</td>\n      <td>Earth</td>\n      <td>False</td>\n      <td>F/0/S</td>\n      <td>TRAPPIST-1e</td>\n      <td>24.0</td>\n      <td>False</td>\n      <td>109.0</td>\n      <td>9.0</td>\n      <td>25.0</td>\n      <td>549.0</td>\n      <td>44.0</td>\n      <td>Juanna Vines</td>\n      <td>True</td>\n    </tr>\n    <tr>\n      <th>2</th>\n      <td>0003_01</td>\n      <td>Europa</td>\n      <td>False</td>\n      <td>A/0/S</td>\n      <td>TRAPPIST-1e</td>\n      <td>58.0</td>\n      <td>True</td>\n      <td>43.0</td>\n      <td>3576.0</td>\n      <td>0.0</td>\n      <td>6715.0</td>\n      <td>49.0</td>\n      <td>Altark Susent</td>\n      <td>False</td>\n    </tr>\n    <tr>\n      <th>3</th>\n      <td>0003_02</td>\n      <td>Europa</td>\n      <td>False</td>\n      <td>A/0/S</td>\n      <td>TRAPPIST-1e</td>\n      <td>33.0</td>\n      <td>False</td>\n      <td>0.0</td>\n      <td>1283.0</td>\n      <td>371.0</td>\n      <td>3329.0</td>\n      <td>193.0</td>\n      <td>Solam Susent</td>\n      <td>False</td>\n    </tr>\n    <tr>\n      <th>4</th>\n      <td>0004_01</td>\n      <td>Earth</td>\n      <td>False</td>\n      <td>F/1/S</td>\n      <td>TRAPPIST-1e</td>\n      <td>16.0</td>\n      <td>False</td>\n      <td>303.0</td>\n      <td>70.0</td>\n      <td>151.0</td>\n      <td>565.0</td>\n      <td>2.0</td>\n      <td>Willy Santantines</td>\n      <td>True</td>\n    </tr>\n  </tbody>\n</table>\n</div>"
     },
     "execution_count": 103,
     "metadata": {},
     "output_type": "execute_result"
    }
   ],
   "source": [
    "df.head()"
   ],
   "metadata": {
    "collapsed": false,
    "ExecuteTime": {
     "start_time": "2023-05-25T10:52:47.711238Z",
     "end_time": "2023-05-25T10:52:47.742218Z"
    }
   }
  },
  {
   "cell_type": "code",
   "execution_count": 104,
   "outputs": [
    {
     "data": {
      "text/plain": "     PassengerId HomePlanet CryoSleep     Cabin    Destination   Age    VIP  \\\n8688     9276_01     Europa     False    A/98/P    55 Cancri e  41.0   True   \n8689     9278_01      Earth      True  G/1499/S  PSO J318.5-22  18.0  False   \n8690     9279_01      Earth     False  G/1500/S    TRAPPIST-1e  26.0  False   \n8691     9280_01     Europa     False   E/608/S    55 Cancri e  32.0  False   \n8692     9280_02     Europa     False   E/608/S    TRAPPIST-1e  44.0  False   \n\n      RoomService  FoodCourt  ShoppingMall     Spa  VRDeck               Name  \\\n8688          0.0     6819.0           0.0  1643.0    74.0  Gravior Noxnuther   \n8689          0.0        0.0           0.0     0.0     0.0    Kurta Mondalley   \n8690          0.0        0.0        1872.0     1.0     0.0       Fayey Connon   \n8691          0.0     1049.0           0.0   353.0  3235.0   Celeon Hontichre   \n8692        126.0     4688.0           0.0     0.0    12.0   Propsh Hontichre   \n\n      Transported  \n8688        False  \n8689        False  \n8690         True  \n8691        False  \n8692         True  ",
      "text/html": "<div>\n<style scoped>\n    .dataframe tbody tr th:only-of-type {\n        vertical-align: middle;\n    }\n\n    .dataframe tbody tr th {\n        vertical-align: top;\n    }\n\n    .dataframe thead th {\n        text-align: right;\n    }\n</style>\n<table border=\"1\" class=\"dataframe\">\n  <thead>\n    <tr style=\"text-align: right;\">\n      <th></th>\n      <th>PassengerId</th>\n      <th>HomePlanet</th>\n      <th>CryoSleep</th>\n      <th>Cabin</th>\n      <th>Destination</th>\n      <th>Age</th>\n      <th>VIP</th>\n      <th>RoomService</th>\n      <th>FoodCourt</th>\n      <th>ShoppingMall</th>\n      <th>Spa</th>\n      <th>VRDeck</th>\n      <th>Name</th>\n      <th>Transported</th>\n    </tr>\n  </thead>\n  <tbody>\n    <tr>\n      <th>8688</th>\n      <td>9276_01</td>\n      <td>Europa</td>\n      <td>False</td>\n      <td>A/98/P</td>\n      <td>55 Cancri e</td>\n      <td>41.0</td>\n      <td>True</td>\n      <td>0.0</td>\n      <td>6819.0</td>\n      <td>0.0</td>\n      <td>1643.0</td>\n      <td>74.0</td>\n      <td>Gravior Noxnuther</td>\n      <td>False</td>\n    </tr>\n    <tr>\n      <th>8689</th>\n      <td>9278_01</td>\n      <td>Earth</td>\n      <td>True</td>\n      <td>G/1499/S</td>\n      <td>PSO J318.5-22</td>\n      <td>18.0</td>\n      <td>False</td>\n      <td>0.0</td>\n      <td>0.0</td>\n      <td>0.0</td>\n      <td>0.0</td>\n      <td>0.0</td>\n      <td>Kurta Mondalley</td>\n      <td>False</td>\n    </tr>\n    <tr>\n      <th>8690</th>\n      <td>9279_01</td>\n      <td>Earth</td>\n      <td>False</td>\n      <td>G/1500/S</td>\n      <td>TRAPPIST-1e</td>\n      <td>26.0</td>\n      <td>False</td>\n      <td>0.0</td>\n      <td>0.0</td>\n      <td>1872.0</td>\n      <td>1.0</td>\n      <td>0.0</td>\n      <td>Fayey Connon</td>\n      <td>True</td>\n    </tr>\n    <tr>\n      <th>8691</th>\n      <td>9280_01</td>\n      <td>Europa</td>\n      <td>False</td>\n      <td>E/608/S</td>\n      <td>55 Cancri e</td>\n      <td>32.0</td>\n      <td>False</td>\n      <td>0.0</td>\n      <td>1049.0</td>\n      <td>0.0</td>\n      <td>353.0</td>\n      <td>3235.0</td>\n      <td>Celeon Hontichre</td>\n      <td>False</td>\n    </tr>\n    <tr>\n      <th>8692</th>\n      <td>9280_02</td>\n      <td>Europa</td>\n      <td>False</td>\n      <td>E/608/S</td>\n      <td>TRAPPIST-1e</td>\n      <td>44.0</td>\n      <td>False</td>\n      <td>126.0</td>\n      <td>4688.0</td>\n      <td>0.0</td>\n      <td>0.0</td>\n      <td>12.0</td>\n      <td>Propsh Hontichre</td>\n      <td>True</td>\n    </tr>\n  </tbody>\n</table>\n</div>"
     },
     "execution_count": 104,
     "metadata": {},
     "output_type": "execute_result"
    }
   ],
   "source": [
    "df.tail()"
   ],
   "metadata": {
    "collapsed": false,
    "ExecuteTime": {
     "start_time": "2023-05-25T10:52:55.668482Z",
     "end_time": "2023-05-25T10:52:55.703316Z"
    }
   }
  },
  {
   "cell_type": "code",
   "execution_count": 105,
   "outputs": [
    {
     "data": {
      "text/plain": "     PassengerId HomePlanet CryoSleep     Cabin  Destination   Age    VIP  \\\n5093     5440_03      Earth     False  F/1041/S  TRAPPIST-1e  27.0  False   \n340      0378_05     Europa      True    B/11/S  TRAPPIST-1e  13.0  False   \n4833     5156_02     Europa     False   B/200/S  TRAPPIST-1e  29.0  False   \n5969     6325_01      Earth      True  G/1026/S  TRAPPIST-1e  34.0  False   \n4315     4596_01        NaN      True   G/751/S  TRAPPIST-1e  28.0  False   \n\n      RoomService  FoodCourt  ShoppingMall  Spa  VRDeck             Name  \\\n5093       1109.0        0.0           0.0  0.0     0.0   Briney Beckeey   \n340           0.0        0.0           0.0  0.0     0.0  Polaton Pirejus   \n4833          0.0     4198.0         227.0  1.0  1415.0    Atonon Traild   \n5969          0.0        0.0           0.0  0.0     0.0    Adamie Benney   \n4315          0.0        0.0           0.0  0.0     0.0      Ale Booneid   \n\n      Transported  \n5093        False  \n340          True  \n4833         True  \n5969         True  \n4315         True  ",
      "text/html": "<div>\n<style scoped>\n    .dataframe tbody tr th:only-of-type {\n        vertical-align: middle;\n    }\n\n    .dataframe tbody tr th {\n        vertical-align: top;\n    }\n\n    .dataframe thead th {\n        text-align: right;\n    }\n</style>\n<table border=\"1\" class=\"dataframe\">\n  <thead>\n    <tr style=\"text-align: right;\">\n      <th></th>\n      <th>PassengerId</th>\n      <th>HomePlanet</th>\n      <th>CryoSleep</th>\n      <th>Cabin</th>\n      <th>Destination</th>\n      <th>Age</th>\n      <th>VIP</th>\n      <th>RoomService</th>\n      <th>FoodCourt</th>\n      <th>ShoppingMall</th>\n      <th>Spa</th>\n      <th>VRDeck</th>\n      <th>Name</th>\n      <th>Transported</th>\n    </tr>\n  </thead>\n  <tbody>\n    <tr>\n      <th>5093</th>\n      <td>5440_03</td>\n      <td>Earth</td>\n      <td>False</td>\n      <td>F/1041/S</td>\n      <td>TRAPPIST-1e</td>\n      <td>27.0</td>\n      <td>False</td>\n      <td>1109.0</td>\n      <td>0.0</td>\n      <td>0.0</td>\n      <td>0.0</td>\n      <td>0.0</td>\n      <td>Briney Beckeey</td>\n      <td>False</td>\n    </tr>\n    <tr>\n      <th>340</th>\n      <td>0378_05</td>\n      <td>Europa</td>\n      <td>True</td>\n      <td>B/11/S</td>\n      <td>TRAPPIST-1e</td>\n      <td>13.0</td>\n      <td>False</td>\n      <td>0.0</td>\n      <td>0.0</td>\n      <td>0.0</td>\n      <td>0.0</td>\n      <td>0.0</td>\n      <td>Polaton Pirejus</td>\n      <td>True</td>\n    </tr>\n    <tr>\n      <th>4833</th>\n      <td>5156_02</td>\n      <td>Europa</td>\n      <td>False</td>\n      <td>B/200/S</td>\n      <td>TRAPPIST-1e</td>\n      <td>29.0</td>\n      <td>False</td>\n      <td>0.0</td>\n      <td>4198.0</td>\n      <td>227.0</td>\n      <td>1.0</td>\n      <td>1415.0</td>\n      <td>Atonon Traild</td>\n      <td>True</td>\n    </tr>\n    <tr>\n      <th>5969</th>\n      <td>6325_01</td>\n      <td>Earth</td>\n      <td>True</td>\n      <td>G/1026/S</td>\n      <td>TRAPPIST-1e</td>\n      <td>34.0</td>\n      <td>False</td>\n      <td>0.0</td>\n      <td>0.0</td>\n      <td>0.0</td>\n      <td>0.0</td>\n      <td>0.0</td>\n      <td>Adamie Benney</td>\n      <td>True</td>\n    </tr>\n    <tr>\n      <th>4315</th>\n      <td>4596_01</td>\n      <td>NaN</td>\n      <td>True</td>\n      <td>G/751/S</td>\n      <td>TRAPPIST-1e</td>\n      <td>28.0</td>\n      <td>False</td>\n      <td>0.0</td>\n      <td>0.0</td>\n      <td>0.0</td>\n      <td>0.0</td>\n      <td>0.0</td>\n      <td>Ale Booneid</td>\n      <td>True</td>\n    </tr>\n  </tbody>\n</table>\n</div>"
     },
     "execution_count": 105,
     "metadata": {},
     "output_type": "execute_result"
    }
   ],
   "source": [
    "df.sample(5)"
   ],
   "metadata": {
    "collapsed": false,
    "ExecuteTime": {
     "start_time": "2023-05-25T10:53:00.123458Z",
     "end_time": "2023-05-25T10:53:00.155373Z"
    }
   }
  },
  {
   "cell_type": "code",
   "execution_count": 109,
   "outputs": [
    {
     "data": {
      "text/plain": "     PassengerId HomePlanet CryoSleep     Cabin    Destination   Age    VIP  \\\n2350     2532_01       Mars     False   F/489/S    TRAPPIST-1e  24.0  False   \n3754     4014_02     Europa     False   B/125/P    55 Cancri e  28.0  False   \n8212     8776_01      Earth     False   E/574/S    TRAPPIST-1e  40.0  False   \n8520     9094_01      Earth      True  G/1465/S  PSO J318.5-22  14.0  False   \n134      0146_01      Earth     False    G/25/S    TRAPPIST-1e  56.0  False   \n6895     7303_01      Earth     False   E/487/S    TRAPPIST-1e  51.0  False   \n6417     6779_01     Europa     False   B/258/S    TRAPPIST-1e  37.0  False   \n133      0144_01      Earth     False    F/31/S    TRAPPIST-1e  20.0  False   \n4864     5188_03      Earth      True   G/838/P    TRAPPIST-1e  12.0  False   \n3947     4213_01      Earth     False   G/691/S  PSO J318.5-22  23.0  False   \n\n     RoomService FoodCourt ShoppingMall    Spa  VRDeck               Name  \\\n2350       737.0      37.0       1682.0    0.0     0.0         Gorn Traie   \n3754         0.0    3238.0          0.0  750.0  2368.0                NaN   \n8212         0.0       0.0        286.0    6.0   570.0   Winia Headardyer   \n8520         0.0       0.0          0.0    0.0     0.0     Aleen Hayertez   \n134          0.0       0.0          0.0    0.0     0.0  Verly Wolferguson   \n6895         3.0      33.0         12.0   38.0   896.0   Lonnez Adavisons   \n6417         0.0    7920.0        270.0    1.0   322.0      Terope Busive   \n133          0.0     420.0        210.0    0.0     0.0      Guadae Dayers   \n4864         0.0       0.0          0.0    0.0     0.0       Wally Bootez   \n3947         4.0     157.0        142.0    NaN   196.0   Fayen Morrodgers   \n\n     Transported  \n2350       False  \n3754       False  \n8212        True  \n8520       False  \n134        False  \n6895       False  \n6417        True  \n133         True  \n4864       False  \n3947       False  ",
      "text/html": "<div>\n<style scoped>\n    .dataframe tbody tr th:only-of-type {\n        vertical-align: middle;\n    }\n\n    .dataframe tbody tr th {\n        vertical-align: top;\n    }\n\n    .dataframe thead th {\n        text-align: right;\n    }\n</style>\n<table border=\"1\" class=\"dataframe\">\n  <thead>\n    <tr style=\"text-align: right;\">\n      <th></th>\n      <th>PassengerId</th>\n      <th>HomePlanet</th>\n      <th>CryoSleep</th>\n      <th>Cabin</th>\n      <th>Destination</th>\n      <th>Age</th>\n      <th>VIP</th>\n      <th>RoomService</th>\n      <th>FoodCourt</th>\n      <th>ShoppingMall</th>\n      <th>Spa</th>\n      <th>VRDeck</th>\n      <th>Name</th>\n      <th>Transported</th>\n    </tr>\n  </thead>\n  <tbody>\n    <tr>\n      <th>2350</th>\n      <td>2532_01</td>\n      <td>Mars</td>\n      <td>False</td>\n      <td>F/489/S</td>\n      <td>TRAPPIST-1e</td>\n      <td>24.0</td>\n      <td>False</td>\n      <td>737.0</td>\n      <td>37.0</td>\n      <td>1682.0</td>\n      <td>0.0</td>\n      <td>0.0</td>\n      <td>Gorn Traie</td>\n      <td>False</td>\n    </tr>\n    <tr>\n      <th>3754</th>\n      <td>4014_02</td>\n      <td>Europa</td>\n      <td>False</td>\n      <td>B/125/P</td>\n      <td>55 Cancri e</td>\n      <td>28.0</td>\n      <td>False</td>\n      <td>0.0</td>\n      <td>3238.0</td>\n      <td>0.0</td>\n      <td>750.0</td>\n      <td>2368.0</td>\n      <td>NaN</td>\n      <td>False</td>\n    </tr>\n    <tr>\n      <th>8212</th>\n      <td>8776_01</td>\n      <td>Earth</td>\n      <td>False</td>\n      <td>E/574/S</td>\n      <td>TRAPPIST-1e</td>\n      <td>40.0</td>\n      <td>False</td>\n      <td>0.0</td>\n      <td>0.0</td>\n      <td>286.0</td>\n      <td>6.0</td>\n      <td>570.0</td>\n      <td>Winia Headardyer</td>\n      <td>True</td>\n    </tr>\n    <tr>\n      <th>8520</th>\n      <td>9094_01</td>\n      <td>Earth</td>\n      <td>True</td>\n      <td>G/1465/S</td>\n      <td>PSO J318.5-22</td>\n      <td>14.0</td>\n      <td>False</td>\n      <td>0.0</td>\n      <td>0.0</td>\n      <td>0.0</td>\n      <td>0.0</td>\n      <td>0.0</td>\n      <td>Aleen Hayertez</td>\n      <td>False</td>\n    </tr>\n    <tr>\n      <th>134</th>\n      <td>0146_01</td>\n      <td>Earth</td>\n      <td>False</td>\n      <td>G/25/S</td>\n      <td>TRAPPIST-1e</td>\n      <td>56.0</td>\n      <td>False</td>\n      <td>0.0</td>\n      <td>0.0</td>\n      <td>0.0</td>\n      <td>0.0</td>\n      <td>0.0</td>\n      <td>Verly Wolferguson</td>\n      <td>False</td>\n    </tr>\n    <tr>\n      <th>6895</th>\n      <td>7303_01</td>\n      <td>Earth</td>\n      <td>False</td>\n      <td>E/487/S</td>\n      <td>TRAPPIST-1e</td>\n      <td>51.0</td>\n      <td>False</td>\n      <td>3.0</td>\n      <td>33.0</td>\n      <td>12.0</td>\n      <td>38.0</td>\n      <td>896.0</td>\n      <td>Lonnez Adavisons</td>\n      <td>False</td>\n    </tr>\n    <tr>\n      <th>6417</th>\n      <td>6779_01</td>\n      <td>Europa</td>\n      <td>False</td>\n      <td>B/258/S</td>\n      <td>TRAPPIST-1e</td>\n      <td>37.0</td>\n      <td>False</td>\n      <td>0.0</td>\n      <td>7920.0</td>\n      <td>270.0</td>\n      <td>1.0</td>\n      <td>322.0</td>\n      <td>Terope Busive</td>\n      <td>True</td>\n    </tr>\n    <tr>\n      <th>133</th>\n      <td>0144_01</td>\n      <td>Earth</td>\n      <td>False</td>\n      <td>F/31/S</td>\n      <td>TRAPPIST-1e</td>\n      <td>20.0</td>\n      <td>False</td>\n      <td>0.0</td>\n      <td>420.0</td>\n      <td>210.0</td>\n      <td>0.0</td>\n      <td>0.0</td>\n      <td>Guadae Dayers</td>\n      <td>True</td>\n    </tr>\n    <tr>\n      <th>4864</th>\n      <td>5188_03</td>\n      <td>Earth</td>\n      <td>True</td>\n      <td>G/838/P</td>\n      <td>TRAPPIST-1e</td>\n      <td>12.0</td>\n      <td>False</td>\n      <td>0.0</td>\n      <td>0.0</td>\n      <td>0.0</td>\n      <td>0.0</td>\n      <td>0.0</td>\n      <td>Wally Bootez</td>\n      <td>False</td>\n    </tr>\n    <tr>\n      <th>3947</th>\n      <td>4213_01</td>\n      <td>Earth</td>\n      <td>False</td>\n      <td>G/691/S</td>\n      <td>PSO J318.5-22</td>\n      <td>23.0</td>\n      <td>False</td>\n      <td>4.0</td>\n      <td>157.0</td>\n      <td>142.0</td>\n      <td>NaN</td>\n      <td>196.0</td>\n      <td>Fayen Morrodgers</td>\n      <td>False</td>\n    </tr>\n  </tbody>\n</table>\n</div>"
     },
     "execution_count": 109,
     "metadata": {},
     "output_type": "execute_result"
    }
   ],
   "source": [
    "df_rand = df.sample(10)\n",
    "df_rand"
   ],
   "metadata": {
    "collapsed": false,
    "ExecuteTime": {
     "start_time": "2023-05-25T10:54:03.577623Z",
     "end_time": "2023-05-25T10:54:03.610518Z"
    }
   }
  },
  {
   "cell_type": "code",
   "execution_count": 107,
   "outputs": [
    {
     "data": {
      "text/plain": "PassengerId      object\nHomePlanet       object\nCryoSleep        object\nCabin            object\nDestination      object\nAge             float64\nVIP              object\nRoomService     float64\nFoodCourt       float64\nShoppingMall    float64\nSpa             float64\nVRDeck          float64\nName             object\nTransported        bool\ndtype: object"
     },
     "execution_count": 107,
     "metadata": {},
     "output_type": "execute_result"
    }
   ],
   "source": [
    "df.dtypes"
   ],
   "metadata": {
    "collapsed": false,
    "ExecuteTime": {
     "start_time": "2023-05-25T10:53:23.970397Z",
     "end_time": "2023-05-25T10:53:23.999206Z"
    }
   }
  },
  {
   "cell_type": "code",
   "execution_count": 108,
   "outputs": [
    {
     "data": {
      "text/plain": "PassengerId     object\nHomePlanet      object\nCryoSleep       object\nCabin           object\nDestination     object\nAge             object\nVIP             object\nRoomService     object\nFoodCourt       object\nShoppingMall    object\nSpa             object\nVRDeck          object\nName            object\nTransported     object\ndtype: object"
     },
     "execution_count": 108,
     "metadata": {},
     "output_type": "execute_result"
    }
   ],
   "source": [
    "#изменение типа признаков\n",
    "df = df.astype(dtype=object)\n",
    "df.dtypes"
   ],
   "metadata": {
    "collapsed": false,
    "ExecuteTime": {
     "start_time": "2023-05-25T10:53:31.951011Z",
     "end_time": "2023-05-25T10:53:31.982474Z"
    }
   }
  },
  {
   "cell_type": "code",
   "execution_count": 111,
   "outputs": [
    {
     "data": {
      "text/plain": "PassengerId      object\nHomePlanet       object\nCryoSleep        object\nCabin            object\nDestination      object\nAge             float64\nVIP              object\nRoomService     float64\nFoodCourt       float64\nShoppingMall    float64\nSpa             float64\nVRDeck          float64\nName             object\nTransported      object\ndtype: object"
     },
     "execution_count": 111,
     "metadata": {},
     "output_type": "execute_result"
    }
   ],
   "source": [
    "#преобразование показателей\n",
    "df = df.astype({'Age': float, 'RoomService': float, 'FoodCourt': float, 'ShoppingMall': float, 'Spa': float, 'VRDeck': float})\n",
    "df.dtypes"
   ],
   "metadata": {
    "collapsed": false,
    "ExecuteTime": {
     "start_time": "2023-05-25T10:54:53.516051Z",
     "end_time": "2023-05-25T10:54:53.549073Z"
    }
   }
  },
  {
   "cell_type": "code",
   "execution_count": 112,
   "outputs": [
    {
     "name": "stdout",
     "output_type": "stream",
     "text": [
      "<class 'pandas.core.frame.DataFrame'>\n",
      "Int64Index: 8514 entries, 0 to 8692\n",
      "Data columns (total 12 columns):\n",
      " #   Column        Non-Null Count  Dtype  \n",
      "---  ------        --------------  -----  \n",
      " 0   PassengerId   8514 non-null   object \n",
      " 1   HomePlanet    8315 non-null   object \n",
      " 2   CryoSleep     8298 non-null   object \n",
      " 3   Age           8514 non-null   float64\n",
      " 4   VIP           8317 non-null   object \n",
      " 5   RoomService   8334 non-null   float64\n",
      " 6   FoodCourt     8335 non-null   float64\n",
      " 7   ShoppingMall  8310 non-null   float64\n",
      " 8   Spa           8332 non-null   float64\n",
      " 9   VRDeck        8330 non-null   float64\n",
      " 10  Name          8317 non-null   object \n",
      " 11  Transported   8514 non-null   object \n",
      "dtypes: float64(6), object(6)\n",
      "memory usage: 864.7+ KB\n"
     ]
    }
   ],
   "source": [
    "df = df[df.Age.notna()]\n",
    "df = df.drop(\"Cabin\", axis=1, errors='ignore')\n",
    "df = df.drop(\"Destination\", axis=1, errors='ignore')\n",
    "df.info()"
   ],
   "metadata": {
    "collapsed": false,
    "ExecuteTime": {
     "start_time": "2023-05-25T10:55:14.387654Z",
     "end_time": "2023-05-25T10:55:14.435603Z"
    }
   }
  },
  {
   "cell_type": "code",
   "execution_count": 113,
   "outputs": [
    {
     "data": {
      "text/plain": "Earth     4514\nEuropa    2085\nMars      1716\nNaN        199\nName: HomePlanet, dtype: int64"
     },
     "execution_count": 113,
     "metadata": {},
     "output_type": "execute_result"
    }
   ],
   "source": [
    "df.HomePlanet.value_counts(dropna=False)"
   ],
   "metadata": {
    "collapsed": false,
    "ExecuteTime": {
     "start_time": "2023-05-25T10:55:27.497113Z",
     "end_time": "2023-05-25T10:55:27.526974Z"
    }
   }
  },
  {
   "cell_type": "code",
   "execution_count": 114,
   "outputs": [
    {
     "data": {
      "text/plain": "Earth     4713\nEuropa    2085\nMars      1716\nName: HomePlanet, dtype: int64"
     },
     "execution_count": 114,
     "metadata": {},
     "output_type": "execute_result"
    }
   ],
   "source": [
    "df[\"HomePlanet\"] = df[\"HomePlanet\"].fillna('Earth')\n",
    "df.HomePlanet.value_counts(dropna=False)"
   ],
   "metadata": {
    "collapsed": false,
    "ExecuteTime": {
     "start_time": "2023-05-25T10:55:45.891192Z",
     "end_time": "2023-05-25T10:55:45.897172Z"
    }
   }
  },
  {
   "cell_type": "code",
   "execution_count": 116,
   "outputs": [
    {
     "data": {
      "text/plain": "array([0, 1], dtype=int64)"
     },
     "execution_count": 116,
     "metadata": {},
     "output_type": "execute_result"
    }
   ],
   "source": [
    "df.CryoSleep.value_counts(dropna=False)\n",
    "df[\"CryoSleep\"] = df[\"CryoSleep\"].fillna('False')\n",
    "df.CryoSleep = df.CryoSleep.replace({False: 0, True: 1})\n",
    "df.CryoSleep.unique()"
   ],
   "metadata": {
    "collapsed": false,
    "ExecuteTime": {
     "start_time": "2023-05-25T10:56:08.594644Z",
     "end_time": "2023-05-25T10:56:08.626306Z"
    }
   }
  },
  {
   "cell_type": "code",
   "execution_count": 117,
   "outputs": [
    {
     "data": {
      "text/plain": "array([0, 1], dtype=int64)"
     },
     "execution_count": 117,
     "metadata": {},
     "output_type": "execute_result"
    }
   ],
   "source": [
    "df.VIP.value_counts(dropna=False)\n",
    "df[\"VIP\"] = df[\"VIP\"].fillna(False)\n",
    "df.VIP = df.VIP.replace({False: 0, True: 1})\n",
    "df.VIP.unique()"
   ],
   "metadata": {
    "collapsed": false,
    "ExecuteTime": {
     "start_time": "2023-05-25T10:56:15.070192Z",
     "end_time": "2023-05-25T10:56:15.101361Z"
    }
   }
  },
  {
   "cell_type": "code",
   "execution_count": 119,
   "outputs": [],
   "source": [
    "df.Transported = df.Transported.replace({False: 0, True: 1})"
   ],
   "metadata": {
    "collapsed": false,
    "ExecuteTime": {
     "start_time": "2023-05-25T10:56:56.011517Z",
     "end_time": "2023-05-25T10:56:56.038676Z"
    }
   }
  },
  {
   "cell_type": "code",
   "execution_count": 120,
   "outputs": [
    {
     "name": "stdout",
     "output_type": "stream",
     "text": [
      "<class 'pandas.core.frame.DataFrame'>\n",
      "Int64Index: 8514 entries, 0 to 8692\n",
      "Data columns (total 12 columns):\n",
      " #   Column        Non-Null Count  Dtype  \n",
      "---  ------        --------------  -----  \n",
      " 0   PassengerId   8514 non-null   object \n",
      " 1   HomePlanet    8514 non-null   object \n",
      " 2   CryoSleep     8514 non-null   int64  \n",
      " 3   Age           8514 non-null   float64\n",
      " 4   VIP           8514 non-null   int64  \n",
      " 5   RoomService   8334 non-null   float64\n",
      " 6   FoodCourt     8335 non-null   float64\n",
      " 7   ShoppingMall  8310 non-null   float64\n",
      " 8   Spa           8332 non-null   float64\n",
      " 9   VRDeck        8330 non-null   float64\n",
      " 10  Name          8317 non-null   object \n",
      " 11  Transported   8514 non-null   int64  \n",
      "dtypes: float64(6), int64(3), object(3)\n",
      "memory usage: 864.7+ KB\n"
     ]
    }
   ],
   "source": [
    "df.info()"
   ],
   "metadata": {
    "collapsed": false,
    "ExecuteTime": {
     "start_time": "2023-05-25T10:57:00.435217Z",
     "end_time": "2023-05-25T10:57:00.478094Z"
    }
   }
  },
  {
   "cell_type": "code",
   "execution_count": 126,
   "outputs": [
    {
     "data": {
      "text/plain": "    RoomService                     \n           mean median  min      max\nVIP                                 \n0    220.155283    0.0  0.0  14327.0\n1    467.989691    0.0  0.0   8243.0",
      "text/html": "<div>\n<style scoped>\n    .dataframe tbody tr th:only-of-type {\n        vertical-align: middle;\n    }\n\n    .dataframe tbody tr th {\n        vertical-align: top;\n    }\n\n    .dataframe thead tr th {\n        text-align: left;\n    }\n\n    .dataframe thead tr:last-of-type th {\n        text-align: right;\n    }\n</style>\n<table border=\"1\" class=\"dataframe\">\n  <thead>\n    <tr>\n      <th></th>\n      <th colspan=\"4\" halign=\"left\">RoomService</th>\n    </tr>\n    <tr>\n      <th></th>\n      <th>mean</th>\n      <th>median</th>\n      <th>min</th>\n      <th>max</th>\n    </tr>\n    <tr>\n      <th>VIP</th>\n      <th></th>\n      <th></th>\n      <th></th>\n      <th></th>\n    </tr>\n  </thead>\n  <tbody>\n    <tr>\n      <th>0</th>\n      <td>220.155283</td>\n      <td>0.0</td>\n      <td>0.0</td>\n      <td>14327.0</td>\n    </tr>\n    <tr>\n      <th>1</th>\n      <td>467.989691</td>\n      <td>0.0</td>\n      <td>0.0</td>\n      <td>8243.0</td>\n    </tr>\n  </tbody>\n</table>\n</div>"
     },
     "execution_count": 126,
     "metadata": {},
     "output_type": "execute_result"
    }
   ],
   "source": [
    "df[[\"RoomService\", \"VIP\"]][df.RoomService != ''].groupby(\"VIP\").agg([\"mean\", \"median\", \"min\", \"max\"])"
   ],
   "metadata": {
    "collapsed": false,
    "ExecuteTime": {
     "start_time": "2023-05-25T10:59:02.703984Z",
     "end_time": "2023-05-25T10:59:02.737901Z"
    }
   }
  },
  {
   "cell_type": "code",
   "execution_count": 127,
   "outputs": [
    {
     "name": "stdout",
     "output_type": "stream",
     "text": [
      "<class 'pandas.core.frame.DataFrame'>\n",
      "Int64Index: 8514 entries, 0 to 8692\n",
      "Data columns (total 12 columns):\n",
      " #   Column        Non-Null Count  Dtype  \n",
      "---  ------        --------------  -----  \n",
      " 0   PassengerId   8514 non-null   object \n",
      " 1   HomePlanet    8514 non-null   object \n",
      " 2   CryoSleep     8514 non-null   int64  \n",
      " 3   Age           8514 non-null   float64\n",
      " 4   VIP           8514 non-null   int64  \n",
      " 5   RoomService   8514 non-null   float64\n",
      " 6   FoodCourt     8514 non-null   float64\n",
      " 7   ShoppingMall  8514 non-null   float64\n",
      " 8   Spa           8514 non-null   float64\n",
      " 9   VRDeck        8514 non-null   float64\n",
      " 10  Name          8514 non-null   object \n",
      " 11  Transported   8514 non-null   int64  \n",
      "dtypes: float64(6), int64(3), object(3)\n",
      "memory usage: 864.7+ KB\n"
     ]
    }
   ],
   "source": [
    "df = df.fillna({\"RoomService\": 0.0, \"FoodCourt\": 0.0, \"ShoppingMall\": 0.0, \"Spa\": 0.0, \"VRDeck\": 0.0, \"Name\": \"NA\"})\n",
    "df.info()"
   ],
   "metadata": {
    "collapsed": false,
    "ExecuteTime": {
     "start_time": "2023-05-25T10:59:09.452373Z",
     "end_time": "2023-05-25T10:59:09.480287Z"
    }
   }
  },
  {
   "cell_type": "code",
   "execution_count": 128,
   "outputs": [
    {
     "data": {
      "text/plain": "         CryoSleep          Age          VIP   RoomService     FoodCourt  \\\ncount  8514.000000  8514.000000  8514.000000   8514.000000   8514.000000   \nmean      0.347075    28.827930     0.023256    221.147992    449.297980   \nstd       0.476068    14.489021     0.150724    663.939245   1598.407975   \nmin       0.000000     0.000000     0.000000      0.000000      0.000000   \n25%       0.000000    19.000000     0.000000      0.000000      0.000000   \n50%       0.000000    27.000000     0.000000      0.000000      0.000000   \n75%       1.000000    38.000000     0.000000     42.000000     62.000000   \nmax       1.000000    79.000000     1.000000  14327.000000  29813.000000   \n\n       ShoppingMall           Spa        VRDeck  Transported  \ncount   8514.000000   8514.000000   8514.000000  8514.000000  \nmean     171.043810    303.636951    298.762156     0.503641  \nstd      602.376961   1120.733002   1138.416271     0.500016  \nmin        0.000000      0.000000      0.000000     0.000000  \n25%        0.000000      0.000000      0.000000     0.000000  \n50%        0.000000      0.000000      0.000000     1.000000  \n75%       23.000000     54.000000     40.000000     1.000000  \nmax    23492.000000  22408.000000  24133.000000     1.000000  ",
      "text/html": "<div>\n<style scoped>\n    .dataframe tbody tr th:only-of-type {\n        vertical-align: middle;\n    }\n\n    .dataframe tbody tr th {\n        vertical-align: top;\n    }\n\n    .dataframe thead th {\n        text-align: right;\n    }\n</style>\n<table border=\"1\" class=\"dataframe\">\n  <thead>\n    <tr style=\"text-align: right;\">\n      <th></th>\n      <th>CryoSleep</th>\n      <th>Age</th>\n      <th>VIP</th>\n      <th>RoomService</th>\n      <th>FoodCourt</th>\n      <th>ShoppingMall</th>\n      <th>Spa</th>\n      <th>VRDeck</th>\n      <th>Transported</th>\n    </tr>\n  </thead>\n  <tbody>\n    <tr>\n      <th>count</th>\n      <td>8514.000000</td>\n      <td>8514.000000</td>\n      <td>8514.000000</td>\n      <td>8514.000000</td>\n      <td>8514.000000</td>\n      <td>8514.000000</td>\n      <td>8514.000000</td>\n      <td>8514.000000</td>\n      <td>8514.000000</td>\n    </tr>\n    <tr>\n      <th>mean</th>\n      <td>0.347075</td>\n      <td>28.827930</td>\n      <td>0.023256</td>\n      <td>221.147992</td>\n      <td>449.297980</td>\n      <td>171.043810</td>\n      <td>303.636951</td>\n      <td>298.762156</td>\n      <td>0.503641</td>\n    </tr>\n    <tr>\n      <th>std</th>\n      <td>0.476068</td>\n      <td>14.489021</td>\n      <td>0.150724</td>\n      <td>663.939245</td>\n      <td>1598.407975</td>\n      <td>602.376961</td>\n      <td>1120.733002</td>\n      <td>1138.416271</td>\n      <td>0.500016</td>\n    </tr>\n    <tr>\n      <th>min</th>\n      <td>0.000000</td>\n      <td>0.000000</td>\n      <td>0.000000</td>\n      <td>0.000000</td>\n      <td>0.000000</td>\n      <td>0.000000</td>\n      <td>0.000000</td>\n      <td>0.000000</td>\n      <td>0.000000</td>\n    </tr>\n    <tr>\n      <th>25%</th>\n      <td>0.000000</td>\n      <td>19.000000</td>\n      <td>0.000000</td>\n      <td>0.000000</td>\n      <td>0.000000</td>\n      <td>0.000000</td>\n      <td>0.000000</td>\n      <td>0.000000</td>\n      <td>0.000000</td>\n    </tr>\n    <tr>\n      <th>50%</th>\n      <td>0.000000</td>\n      <td>27.000000</td>\n      <td>0.000000</td>\n      <td>0.000000</td>\n      <td>0.000000</td>\n      <td>0.000000</td>\n      <td>0.000000</td>\n      <td>0.000000</td>\n      <td>1.000000</td>\n    </tr>\n    <tr>\n      <th>75%</th>\n      <td>1.000000</td>\n      <td>38.000000</td>\n      <td>0.000000</td>\n      <td>42.000000</td>\n      <td>62.000000</td>\n      <td>23.000000</td>\n      <td>54.000000</td>\n      <td>40.000000</td>\n      <td>1.000000</td>\n    </tr>\n    <tr>\n      <th>max</th>\n      <td>1.000000</td>\n      <td>79.000000</td>\n      <td>1.000000</td>\n      <td>14327.000000</td>\n      <td>29813.000000</td>\n      <td>23492.000000</td>\n      <td>22408.000000</td>\n      <td>24133.000000</td>\n      <td>1.000000</td>\n    </tr>\n  </tbody>\n</table>\n</div>"
     },
     "execution_count": 128,
     "metadata": {},
     "output_type": "execute_result"
    }
   ],
   "source": [
    "df.describe()"
   ],
   "metadata": {
    "collapsed": false,
    "ExecuteTime": {
     "start_time": "2023-05-25T10:59:17.134378Z",
     "end_time": "2023-05-25T10:59:17.186593Z"
    }
   }
  },
  {
   "cell_type": "code",
   "execution_count": 130,
   "outputs": [
    {
     "data": {
      "text/plain": "                   Age       \n                  mean median\nTransported                  \n0            29.922858   27.0\n1            27.748834   26.0",
      "text/html": "<div>\n<style scoped>\n    .dataframe tbody tr th:only-of-type {\n        vertical-align: middle;\n    }\n\n    .dataframe tbody tr th {\n        vertical-align: top;\n    }\n\n    .dataframe thead tr th {\n        text-align: left;\n    }\n\n    .dataframe thead tr:last-of-type th {\n        text-align: right;\n    }\n</style>\n<table border=\"1\" class=\"dataframe\">\n  <thead>\n    <tr>\n      <th></th>\n      <th colspan=\"2\" halign=\"left\">Age</th>\n    </tr>\n    <tr>\n      <th></th>\n      <th>mean</th>\n      <th>median</th>\n    </tr>\n    <tr>\n      <th>Transported</th>\n      <th></th>\n      <th></th>\n    </tr>\n  </thead>\n  <tbody>\n    <tr>\n      <th>0</th>\n      <td>29.922858</td>\n      <td>27.0</td>\n    </tr>\n    <tr>\n      <th>1</th>\n      <td>27.748834</td>\n      <td>26.0</td>\n    </tr>\n  </tbody>\n</table>\n</div>"
     },
     "execution_count": 130,
     "metadata": {},
     "output_type": "execute_result"
    }
   ],
   "source": [
    "df[[\"Age\", \"Transported\"]].groupby(\"Transported\").agg([\"mean\", \"median\"])"
   ],
   "metadata": {
    "collapsed": false,
    "ExecuteTime": {
     "start_time": "2023-05-25T11:00:30.389594Z",
     "end_time": "2023-05-25T11:00:30.417637Z"
    }
   }
  },
  {
   "cell_type": "code",
   "execution_count": 134,
   "outputs": [
    {
     "data": {
      "text/plain": "             Age\nmean    28.82793\nmedian  27.00000",
      "text/html": "<div>\n<style scoped>\n    .dataframe tbody tr th:only-of-type {\n        vertical-align: middle;\n    }\n\n    .dataframe tbody tr th {\n        vertical-align: top;\n    }\n\n    .dataframe thead th {\n        text-align: right;\n    }\n</style>\n<table border=\"1\" class=\"dataframe\">\n  <thead>\n    <tr style=\"text-align: right;\">\n      <th></th>\n      <th>Age</th>\n    </tr>\n  </thead>\n  <tbody>\n    <tr>\n      <th>mean</th>\n      <td>28.82793</td>\n    </tr>\n    <tr>\n      <th>median</th>\n      <td>27.00000</td>\n    </tr>\n  </tbody>\n</table>\n</div>"
     },
     "execution_count": 134,
     "metadata": {},
     "output_type": "execute_result"
    }
   ],
   "source": [
    "df[[\"Age\"]].agg([\"mean\", \"median\"])"
   ],
   "metadata": {
    "collapsed": false,
    "ExecuteTime": {
     "start_time": "2023-05-25T11:02:35.092670Z",
     "end_time": "2023-05-25T11:02:35.145045Z"
    }
   }
  },
  {
   "cell_type": "code",
   "execution_count": 141,
   "outputs": [
    {
     "data": {
      "text/plain": "1    0.503641\n0    0.496359\nName: Transported, dtype: float64"
     },
     "execution_count": 141,
     "metadata": {},
     "output_type": "execute_result"
    }
   ],
   "source": [
    "df.Transported.value_counts(normalize=True)"
   ],
   "metadata": {
    "collapsed": false,
    "ExecuteTime": {
     "start_time": "2023-05-25T11:08:03.059090Z",
     "end_time": "2023-05-25T11:08:03.077905Z"
    }
   }
  },
  {
   "cell_type": "code",
   "execution_count": 145,
   "outputs": [
    {
     "data": {
      "text/plain": "0    0.976744\n1    0.023256\nName: VIP, dtype: float64"
     },
     "execution_count": 145,
     "metadata": {},
     "output_type": "execute_result"
    }
   ],
   "source": [
    "df.VIP.value_counts(normalize=True)"
   ],
   "metadata": {
    "collapsed": false,
    "ExecuteTime": {
     "start_time": "2023-05-25T11:11:21.835492Z",
     "end_time": "2023-05-25T11:11:21.855541Z"
    }
   }
  },
  {
   "cell_type": "code",
   "execution_count": 135,
   "outputs": [
    {
     "data": {
      "text/plain": "Earth     0.553559\nEuropa    0.244891\nMars      0.201550\nName: HomePlanet, dtype: float64"
     },
     "execution_count": 135,
     "metadata": {},
     "output_type": "execute_result"
    }
   ],
   "source": [
    "df.HomePlanet.value_counts(normalize=True)"
   ],
   "metadata": {
    "collapsed": false,
    "ExecuteTime": {
     "start_time": "2023-05-25T11:02:48.906561Z",
     "end_time": "2023-05-25T11:02:48.926289Z"
    }
   }
  },
  {
   "cell_type": "code",
   "execution_count": 136,
   "outputs": [
    {
     "data": {
      "text/plain": "0    0.652925\n1    0.347075\nName: CryoSleep, dtype: float64"
     },
     "execution_count": 136,
     "metadata": {},
     "output_type": "execute_result"
    }
   ],
   "source": [
    "df.CryoSleep.value_counts(normalize=True)"
   ],
   "metadata": {
    "collapsed": false,
    "ExecuteTime": {
     "start_time": "2023-05-25T11:02:52.014732Z",
     "end_time": "2023-05-25T11:02:52.041659Z"
    }
   }
  },
  {
   "cell_type": "code",
   "execution_count": 147,
   "outputs": [
    {
     "data": {
      "text/plain": "Transported  CryoSleep\n0            0            0.873166\n             1            0.126834\n1            1            0.564132\n             0            0.435868\ndtype: float64"
     },
     "execution_count": 147,
     "metadata": {},
     "output_type": "execute_result"
    }
   ],
   "source": [
    "df[[\"CryoSleep\", \"Transported\"]].groupby(\"Transported\").value_counts(normalize=True)"
   ],
   "metadata": {
    "collapsed": false,
    "ExecuteTime": {
     "start_time": "2023-05-25T11:29:05.081462Z",
     "end_time": "2023-05-25T11:29:05.126633Z"
    }
   }
  },
  {
   "cell_type": "code",
   "execution_count": 155,
   "outputs": [
    {
     "data": {
      "text/plain": "HomePlanet  Transported\nEarth       0              0.572035\n            1              0.427965\nEuropa      1              0.658513\n            0              0.341487\nMars        1              0.523310\n            0              0.476690\ndtype: float64"
     },
     "execution_count": 155,
     "metadata": {},
     "output_type": "execute_result"
    }
   ],
   "source": [
    "df[[\"HomePlanet\", \"Transported\"]].groupby(\"HomePlanet\").value_counts(normalize=True)"
   ],
   "metadata": {
    "collapsed": false,
    "ExecuteTime": {
     "start_time": "2023-05-25T11:37:58.521025Z",
     "end_time": "2023-05-25T11:37:58.567643Z"
    }
   }
  },
  {
   "cell_type": "code",
   "execution_count": 156,
   "outputs": [
    {
     "data": {
      "text/plain": "VIP  Transported\n0    1              0.506494\n     0              0.493506\n1    0              0.616162\n     1              0.383838\ndtype: float64"
     },
     "execution_count": 156,
     "metadata": {},
     "output_type": "execute_result"
    }
   ],
   "source": [
    "df[[\"VIP\", \"Transported\"]].groupby(\"VIP\").value_counts(normalize=True)"
   ],
   "metadata": {
    "collapsed": false,
    "ExecuteTime": {
     "start_time": "2023-05-25T11:44:46.404115Z",
     "end_time": "2023-05-25T11:44:46.448875Z"
    }
   }
  },
  {
   "cell_type": "markdown",
   "source": [
    "Resume:\n",
    "\n",
    "- около 50% пассажиров перешли в иное измерение, из них 43.6% находилось в креосне (при этом в целом на корабле в креосне находилось только 34.7%). Есть гипотеза, что вероятность транспортировки в иное измерение у пассажиров, находящихся в креосне, выше.\n",
    "\n",
    "- средний возраст пассажиров - 27 лет, средний возраст перешедших в другое измерение - 26 лет;\n",
    "\n",
    "- из всех пассажиров с Марса транспортировалось - 52.3%, из всех пассажиров с Европы транспортировалось - 65.8%, из всех пассажиров с Земли транспортировалось - 42.7%. При этом численность всех пассажиров с Земли превышает численность всех пассажиров с Марса и с Европы в два раза по каждой группе в отдельности. Есть гипотеза, что вероятность транспортировки в иное измерение у пассажиров с Земли ниже."
   ],
   "metadata": {
    "collapsed": false
   }
  }
 ],
 "metadata": {
  "kernelspec": {
   "display_name": "Python 3",
   "language": "python",
   "name": "python3"
  },
  "language_info": {
   "codemirror_mode": {
    "name": "ipython",
    "version": 2
   },
   "file_extension": ".py",
   "mimetype": "text/x-python",
   "name": "python",
   "nbconvert_exporter": "python",
   "pygments_lexer": "ipython2",
   "version": "2.7.6"
  }
 },
 "nbformat": 4,
 "nbformat_minor": 0
}
