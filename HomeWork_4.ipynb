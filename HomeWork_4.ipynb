{
 "cells": [
  {
   "cell_type": "markdown",
   "source": [
    "# Home work #4 (Spaceship Titanic)"
   ],
   "metadata": {
    "collapsed": false
   }
  },
  {
   "cell_type": "markdown",
   "source": [
    "Tasks:\n",
    "- Считывание датафрейма. Считайте датафрейм и сделайте при считывании все признаки строковыми (hints: используйте dtype).\n",
    "\n",
    "- Выведите несколько первых, последних, случайных строк (случайные используя встроенный метод и сгенерируйте массив из случайных индексов, по которым будут браться строки)\n",
    "\n",
    "- Преобразования показателей. Обработайте каждый показатель в соответствии с тем типом данных, которым он должен быть (из первого пункта у нас должны быть изначально все показатели str типа)\n",
    "\n",
    "- Обработайте пропуски\n",
    "\n",
    "- Попытайтесь перейти от строкового типа данных к числовым\n",
    "\n",
    "- Посчитайте базовые статистики показателей используя группировку и встроенные методы\n",
    "\n",
    "- Попробуйте составить несколько предположений о данных, основываясь на полученных результатах"
   ],
   "metadata": {
    "collapsed": false
   }
  },
  {
   "cell_type": "code",
   "execution_count": 92,
   "outputs": [],
   "source": [
    "import pandas as pd\n",
    "import random"
   ],
   "metadata": {
    "collapsed": false,
    "ExecuteTime": {
     "start_time": "2023-05-28T16:02:11.221447Z",
     "end_time": "2023-05-28T16:02:11.246378Z"
    }
   }
  },
  {
   "cell_type": "code",
   "execution_count": 3,
   "outputs": [],
   "source": [
    "df = pd.read_csv(\"data/spaceship-titanic/train.csv\", sep=',')"
   ],
   "metadata": {
    "collapsed": false,
    "ExecuteTime": {
     "start_time": "2023-05-28T14:10:28.787649Z",
     "end_time": "2023-05-28T14:10:28.878428Z"
    }
   }
  },
  {
   "cell_type": "code",
   "execution_count": 4,
   "outputs": [
    {
     "data": {
      "text/plain": "  PassengerId HomePlanet CryoSleep  Cabin  Destination   Age    VIP  \\\n0     0001_01     Europa     False  B/0/P  TRAPPIST-1e  39.0  False   \n1     0002_01      Earth     False  F/0/S  TRAPPIST-1e  24.0  False   \n2     0003_01     Europa     False  A/0/S  TRAPPIST-1e  58.0   True   \n3     0003_02     Europa     False  A/0/S  TRAPPIST-1e  33.0  False   \n4     0004_01      Earth     False  F/1/S  TRAPPIST-1e  16.0  False   \n\n   RoomService  FoodCourt  ShoppingMall     Spa  VRDeck               Name  \\\n0          0.0        0.0           0.0     0.0     0.0    Maham Ofracculy   \n1        109.0        9.0          25.0   549.0    44.0       Juanna Vines   \n2         43.0     3576.0           0.0  6715.0    49.0      Altark Susent   \n3          0.0     1283.0         371.0  3329.0   193.0       Solam Susent   \n4        303.0       70.0         151.0   565.0     2.0  Willy Santantines   \n\n   Transported  \n0        False  \n1         True  \n2        False  \n3        False  \n4         True  ",
      "text/html": "<div>\n<style scoped>\n    .dataframe tbody tr th:only-of-type {\n        vertical-align: middle;\n    }\n\n    .dataframe tbody tr th {\n        vertical-align: top;\n    }\n\n    .dataframe thead th {\n        text-align: right;\n    }\n</style>\n<table border=\"1\" class=\"dataframe\">\n  <thead>\n    <tr style=\"text-align: right;\">\n      <th></th>\n      <th>PassengerId</th>\n      <th>HomePlanet</th>\n      <th>CryoSleep</th>\n      <th>Cabin</th>\n      <th>Destination</th>\n      <th>Age</th>\n      <th>VIP</th>\n      <th>RoomService</th>\n      <th>FoodCourt</th>\n      <th>ShoppingMall</th>\n      <th>Spa</th>\n      <th>VRDeck</th>\n      <th>Name</th>\n      <th>Transported</th>\n    </tr>\n  </thead>\n  <tbody>\n    <tr>\n      <th>0</th>\n      <td>0001_01</td>\n      <td>Europa</td>\n      <td>False</td>\n      <td>B/0/P</td>\n      <td>TRAPPIST-1e</td>\n      <td>39.0</td>\n      <td>False</td>\n      <td>0.0</td>\n      <td>0.0</td>\n      <td>0.0</td>\n      <td>0.0</td>\n      <td>0.0</td>\n      <td>Maham Ofracculy</td>\n      <td>False</td>\n    </tr>\n    <tr>\n      <th>1</th>\n      <td>0002_01</td>\n      <td>Earth</td>\n      <td>False</td>\n      <td>F/0/S</td>\n      <td>TRAPPIST-1e</td>\n      <td>24.0</td>\n      <td>False</td>\n      <td>109.0</td>\n      <td>9.0</td>\n      <td>25.0</td>\n      <td>549.0</td>\n      <td>44.0</td>\n      <td>Juanna Vines</td>\n      <td>True</td>\n    </tr>\n    <tr>\n      <th>2</th>\n      <td>0003_01</td>\n      <td>Europa</td>\n      <td>False</td>\n      <td>A/0/S</td>\n      <td>TRAPPIST-1e</td>\n      <td>58.0</td>\n      <td>True</td>\n      <td>43.0</td>\n      <td>3576.0</td>\n      <td>0.0</td>\n      <td>6715.0</td>\n      <td>49.0</td>\n      <td>Altark Susent</td>\n      <td>False</td>\n    </tr>\n    <tr>\n      <th>3</th>\n      <td>0003_02</td>\n      <td>Europa</td>\n      <td>False</td>\n      <td>A/0/S</td>\n      <td>TRAPPIST-1e</td>\n      <td>33.0</td>\n      <td>False</td>\n      <td>0.0</td>\n      <td>1283.0</td>\n      <td>371.0</td>\n      <td>3329.0</td>\n      <td>193.0</td>\n      <td>Solam Susent</td>\n      <td>False</td>\n    </tr>\n    <tr>\n      <th>4</th>\n      <td>0004_01</td>\n      <td>Earth</td>\n      <td>False</td>\n      <td>F/1/S</td>\n      <td>TRAPPIST-1e</td>\n      <td>16.0</td>\n      <td>False</td>\n      <td>303.0</td>\n      <td>70.0</td>\n      <td>151.0</td>\n      <td>565.0</td>\n      <td>2.0</td>\n      <td>Willy Santantines</td>\n      <td>True</td>\n    </tr>\n  </tbody>\n</table>\n</div>"
     },
     "execution_count": 4,
     "metadata": {},
     "output_type": "execute_result"
    }
   ],
   "source": [
    "df.head()"
   ],
   "metadata": {
    "collapsed": false,
    "ExecuteTime": {
     "start_time": "2023-05-28T14:10:33.947191Z",
     "end_time": "2023-05-28T14:10:34.118587Z"
    }
   }
  },
  {
   "cell_type": "code",
   "execution_count": 5,
   "outputs": [
    {
     "data": {
      "text/plain": "     PassengerId HomePlanet CryoSleep     Cabin    Destination   Age    VIP  \\\n8688     9276_01     Europa     False    A/98/P    55 Cancri e  41.0   True   \n8689     9278_01      Earth      True  G/1499/S  PSO J318.5-22  18.0  False   \n8690     9279_01      Earth     False  G/1500/S    TRAPPIST-1e  26.0  False   \n8691     9280_01     Europa     False   E/608/S    55 Cancri e  32.0  False   \n8692     9280_02     Europa     False   E/608/S    TRAPPIST-1e  44.0  False   \n\n      RoomService  FoodCourt  ShoppingMall     Spa  VRDeck               Name  \\\n8688          0.0     6819.0           0.0  1643.0    74.0  Gravior Noxnuther   \n8689          0.0        0.0           0.0     0.0     0.0    Kurta Mondalley   \n8690          0.0        0.0        1872.0     1.0     0.0       Fayey Connon   \n8691          0.0     1049.0           0.0   353.0  3235.0   Celeon Hontichre   \n8692        126.0     4688.0           0.0     0.0    12.0   Propsh Hontichre   \n\n      Transported  \n8688        False  \n8689        False  \n8690         True  \n8691        False  \n8692         True  ",
      "text/html": "<div>\n<style scoped>\n    .dataframe tbody tr th:only-of-type {\n        vertical-align: middle;\n    }\n\n    .dataframe tbody tr th {\n        vertical-align: top;\n    }\n\n    .dataframe thead th {\n        text-align: right;\n    }\n</style>\n<table border=\"1\" class=\"dataframe\">\n  <thead>\n    <tr style=\"text-align: right;\">\n      <th></th>\n      <th>PassengerId</th>\n      <th>HomePlanet</th>\n      <th>CryoSleep</th>\n      <th>Cabin</th>\n      <th>Destination</th>\n      <th>Age</th>\n      <th>VIP</th>\n      <th>RoomService</th>\n      <th>FoodCourt</th>\n      <th>ShoppingMall</th>\n      <th>Spa</th>\n      <th>VRDeck</th>\n      <th>Name</th>\n      <th>Transported</th>\n    </tr>\n  </thead>\n  <tbody>\n    <tr>\n      <th>8688</th>\n      <td>9276_01</td>\n      <td>Europa</td>\n      <td>False</td>\n      <td>A/98/P</td>\n      <td>55 Cancri e</td>\n      <td>41.0</td>\n      <td>True</td>\n      <td>0.0</td>\n      <td>6819.0</td>\n      <td>0.0</td>\n      <td>1643.0</td>\n      <td>74.0</td>\n      <td>Gravior Noxnuther</td>\n      <td>False</td>\n    </tr>\n    <tr>\n      <th>8689</th>\n      <td>9278_01</td>\n      <td>Earth</td>\n      <td>True</td>\n      <td>G/1499/S</td>\n      <td>PSO J318.5-22</td>\n      <td>18.0</td>\n      <td>False</td>\n      <td>0.0</td>\n      <td>0.0</td>\n      <td>0.0</td>\n      <td>0.0</td>\n      <td>0.0</td>\n      <td>Kurta Mondalley</td>\n      <td>False</td>\n    </tr>\n    <tr>\n      <th>8690</th>\n      <td>9279_01</td>\n      <td>Earth</td>\n      <td>False</td>\n      <td>G/1500/S</td>\n      <td>TRAPPIST-1e</td>\n      <td>26.0</td>\n      <td>False</td>\n      <td>0.0</td>\n      <td>0.0</td>\n      <td>1872.0</td>\n      <td>1.0</td>\n      <td>0.0</td>\n      <td>Fayey Connon</td>\n      <td>True</td>\n    </tr>\n    <tr>\n      <th>8691</th>\n      <td>9280_01</td>\n      <td>Europa</td>\n      <td>False</td>\n      <td>E/608/S</td>\n      <td>55 Cancri e</td>\n      <td>32.0</td>\n      <td>False</td>\n      <td>0.0</td>\n      <td>1049.0</td>\n      <td>0.0</td>\n      <td>353.0</td>\n      <td>3235.0</td>\n      <td>Celeon Hontichre</td>\n      <td>False</td>\n    </tr>\n    <tr>\n      <th>8692</th>\n      <td>9280_02</td>\n      <td>Europa</td>\n      <td>False</td>\n      <td>E/608/S</td>\n      <td>TRAPPIST-1e</td>\n      <td>44.0</td>\n      <td>False</td>\n      <td>126.0</td>\n      <td>4688.0</td>\n      <td>0.0</td>\n      <td>0.0</td>\n      <td>12.0</td>\n      <td>Propsh Hontichre</td>\n      <td>True</td>\n    </tr>\n  </tbody>\n</table>\n</div>"
     },
     "execution_count": 5,
     "metadata": {},
     "output_type": "execute_result"
    }
   ],
   "source": [
    "df.tail()"
   ],
   "metadata": {
    "collapsed": false,
    "ExecuteTime": {
     "start_time": "2023-05-28T14:10:37.111444Z",
     "end_time": "2023-05-28T14:10:37.174494Z"
    }
   }
  },
  {
   "cell_type": "code",
   "execution_count": 6,
   "outputs": [
    {
     "data": {
      "text/plain": "     PassengerId HomePlanet CryoSleep     Cabin  Destination   Age    VIP  \\\n1958     2092_03       Mars     False       NaN  TRAPPIST-1e  13.0    NaN   \n5930     6293_01      Earth     False  F/1301/P  TRAPPIST-1e  24.0  False   \n5555     5923_01       Mars      True  F/1129/S  55 Cancri e  30.0  False   \n1405     1484_01      Earth       NaN    E/93/P  TRAPPIST-1e  16.0  False   \n1166     1232_02     Europa     False    C/49/S  55 Cancri e  29.0  False   \n\n      RoomService  FoodCourt  ShoppingMall     Spa  VRDeck              Name  \\\n1958       6726.0        0.0        1605.0  1266.0     0.0        Cray Stpie   \n5930          0.0     1049.0           1.0     0.0     0.0  Thel Sweekstarks   \n5555          0.0        0.0           0.0     0.0     0.0      Oafron Batte   \n1405         92.0        1.0         884.0     0.0     0.0   Lan Roachoanand   \n1166          0.0       42.0           0.0  4651.0   661.0      Tope Geraing   \n\n      Transported  \n1958        False  \n5930        False  \n5555         True  \n1405        False  \n1166        False  ",
      "text/html": "<div>\n<style scoped>\n    .dataframe tbody tr th:only-of-type {\n        vertical-align: middle;\n    }\n\n    .dataframe tbody tr th {\n        vertical-align: top;\n    }\n\n    .dataframe thead th {\n        text-align: right;\n    }\n</style>\n<table border=\"1\" class=\"dataframe\">\n  <thead>\n    <tr style=\"text-align: right;\">\n      <th></th>\n      <th>PassengerId</th>\n      <th>HomePlanet</th>\n      <th>CryoSleep</th>\n      <th>Cabin</th>\n      <th>Destination</th>\n      <th>Age</th>\n      <th>VIP</th>\n      <th>RoomService</th>\n      <th>FoodCourt</th>\n      <th>ShoppingMall</th>\n      <th>Spa</th>\n      <th>VRDeck</th>\n      <th>Name</th>\n      <th>Transported</th>\n    </tr>\n  </thead>\n  <tbody>\n    <tr>\n      <th>1958</th>\n      <td>2092_03</td>\n      <td>Mars</td>\n      <td>False</td>\n      <td>NaN</td>\n      <td>TRAPPIST-1e</td>\n      <td>13.0</td>\n      <td>NaN</td>\n      <td>6726.0</td>\n      <td>0.0</td>\n      <td>1605.0</td>\n      <td>1266.0</td>\n      <td>0.0</td>\n      <td>Cray Stpie</td>\n      <td>False</td>\n    </tr>\n    <tr>\n      <th>5930</th>\n      <td>6293_01</td>\n      <td>Earth</td>\n      <td>False</td>\n      <td>F/1301/P</td>\n      <td>TRAPPIST-1e</td>\n      <td>24.0</td>\n      <td>False</td>\n      <td>0.0</td>\n      <td>1049.0</td>\n      <td>1.0</td>\n      <td>0.0</td>\n      <td>0.0</td>\n      <td>Thel Sweekstarks</td>\n      <td>False</td>\n    </tr>\n    <tr>\n      <th>5555</th>\n      <td>5923_01</td>\n      <td>Mars</td>\n      <td>True</td>\n      <td>F/1129/S</td>\n      <td>55 Cancri e</td>\n      <td>30.0</td>\n      <td>False</td>\n      <td>0.0</td>\n      <td>0.0</td>\n      <td>0.0</td>\n      <td>0.0</td>\n      <td>0.0</td>\n      <td>Oafron Batte</td>\n      <td>True</td>\n    </tr>\n    <tr>\n      <th>1405</th>\n      <td>1484_01</td>\n      <td>Earth</td>\n      <td>NaN</td>\n      <td>E/93/P</td>\n      <td>TRAPPIST-1e</td>\n      <td>16.0</td>\n      <td>False</td>\n      <td>92.0</td>\n      <td>1.0</td>\n      <td>884.0</td>\n      <td>0.0</td>\n      <td>0.0</td>\n      <td>Lan Roachoanand</td>\n      <td>False</td>\n    </tr>\n    <tr>\n      <th>1166</th>\n      <td>1232_02</td>\n      <td>Europa</td>\n      <td>False</td>\n      <td>C/49/S</td>\n      <td>55 Cancri e</td>\n      <td>29.0</td>\n      <td>False</td>\n      <td>0.0</td>\n      <td>42.0</td>\n      <td>0.0</td>\n      <td>4651.0</td>\n      <td>661.0</td>\n      <td>Tope Geraing</td>\n      <td>False</td>\n    </tr>\n  </tbody>\n</table>\n</div>"
     },
     "execution_count": 6,
     "metadata": {},
     "output_type": "execute_result"
    }
   ],
   "source": [
    "df.sample(5)"
   ],
   "metadata": {
    "collapsed": false,
    "ExecuteTime": {
     "start_time": "2023-05-28T14:10:41.019572Z",
     "end_time": "2023-05-28T14:10:41.061355Z"
    }
   }
  },
  {
   "cell_type": "code",
   "execution_count": 210,
   "outputs": [
    {
     "data": {
      "text/plain": "     PassengerId HomePlanet  CryoSleep   Age  VIP  RoomService  FoodCourt  \\\n2127     2280_01     Europa          0  18.0    0         20.0     1064.0   \n2700     2892_03      Earth          1   0.0    0          0.0        0.0   \n8127     8681_02       Mars          0   1.0    0          0.0        0.0   \n2821     3042_01      Earth          0  30.0    0          0.0        0.0   \n2176     2325_01      Earth          1  22.0    0          0.0        0.0   \n...          ...        ...        ...   ...  ...          ...        ...   \n5315     5681_01      Earth          1  66.0    0          0.0        0.0   \n2038     2182_01     Europa          0  31.0    0         46.0     1935.0   \n5786     6128_02      Earth          0  16.0    0          7.0        0.0   \n5021     5365_01      Earth          0  60.0    0        943.0       53.0   \n3438     3706_02       Mars          0  18.0    0        131.0        0.0   \n\n      ShoppingMall    Spa   VRDeck                Name  Transported  \n2127           0.0    0.0  11643.0      Lesat Femoused            0  \n2700           0.0    0.0      0.0     Sharie Gallenry            1  \n8127           0.0    0.0      0.0         Rionk Facle            1  \n2821         301.0    0.0    437.0      Maya Mejiaddox            0  \n2176           0.0    0.0      0.0      Kimmie Hurchez            0  \n...            ...    ...      ...                 ...          ...  \n5315           0.0    0.0      0.0        Jodip Ellson            1  \n2038           0.0  995.0   1254.0  Unukath Tiouserful            0  \n5786         311.0    0.0    683.0         Belly Serry            0  \n5021           0.0    0.0      0.0      Pristy Whiters            0  \n3438         980.0    1.0      0.0         Honda Kidie            1  \n\n[3000 rows x 12 columns]",
      "text/html": "<div>\n<style scoped>\n    .dataframe tbody tr th:only-of-type {\n        vertical-align: middle;\n    }\n\n    .dataframe tbody tr th {\n        vertical-align: top;\n    }\n\n    .dataframe thead th {\n        text-align: right;\n    }\n</style>\n<table border=\"1\" class=\"dataframe\">\n  <thead>\n    <tr style=\"text-align: right;\">\n      <th></th>\n      <th>PassengerId</th>\n      <th>HomePlanet</th>\n      <th>CryoSleep</th>\n      <th>Age</th>\n      <th>VIP</th>\n      <th>RoomService</th>\n      <th>FoodCourt</th>\n      <th>ShoppingMall</th>\n      <th>Spa</th>\n      <th>VRDeck</th>\n      <th>Name</th>\n      <th>Transported</th>\n    </tr>\n  </thead>\n  <tbody>\n    <tr>\n      <th>2127</th>\n      <td>2280_01</td>\n      <td>Europa</td>\n      <td>0</td>\n      <td>18.0</td>\n      <td>0</td>\n      <td>20.0</td>\n      <td>1064.0</td>\n      <td>0.0</td>\n      <td>0.0</td>\n      <td>11643.0</td>\n      <td>Lesat Femoused</td>\n      <td>0</td>\n    </tr>\n    <tr>\n      <th>2700</th>\n      <td>2892_03</td>\n      <td>Earth</td>\n      <td>1</td>\n      <td>0.0</td>\n      <td>0</td>\n      <td>0.0</td>\n      <td>0.0</td>\n      <td>0.0</td>\n      <td>0.0</td>\n      <td>0.0</td>\n      <td>Sharie Gallenry</td>\n      <td>1</td>\n    </tr>\n    <tr>\n      <th>8127</th>\n      <td>8681_02</td>\n      <td>Mars</td>\n      <td>0</td>\n      <td>1.0</td>\n      <td>0</td>\n      <td>0.0</td>\n      <td>0.0</td>\n      <td>0.0</td>\n      <td>0.0</td>\n      <td>0.0</td>\n      <td>Rionk Facle</td>\n      <td>1</td>\n    </tr>\n    <tr>\n      <th>2821</th>\n      <td>3042_01</td>\n      <td>Earth</td>\n      <td>0</td>\n      <td>30.0</td>\n      <td>0</td>\n      <td>0.0</td>\n      <td>0.0</td>\n      <td>301.0</td>\n      <td>0.0</td>\n      <td>437.0</td>\n      <td>Maya Mejiaddox</td>\n      <td>0</td>\n    </tr>\n    <tr>\n      <th>2176</th>\n      <td>2325_01</td>\n      <td>Earth</td>\n      <td>1</td>\n      <td>22.0</td>\n      <td>0</td>\n      <td>0.0</td>\n      <td>0.0</td>\n      <td>0.0</td>\n      <td>0.0</td>\n      <td>0.0</td>\n      <td>Kimmie Hurchez</td>\n      <td>0</td>\n    </tr>\n    <tr>\n      <th>...</th>\n      <td>...</td>\n      <td>...</td>\n      <td>...</td>\n      <td>...</td>\n      <td>...</td>\n      <td>...</td>\n      <td>...</td>\n      <td>...</td>\n      <td>...</td>\n      <td>...</td>\n      <td>...</td>\n      <td>...</td>\n    </tr>\n    <tr>\n      <th>5315</th>\n      <td>5681_01</td>\n      <td>Earth</td>\n      <td>1</td>\n      <td>66.0</td>\n      <td>0</td>\n      <td>0.0</td>\n      <td>0.0</td>\n      <td>0.0</td>\n      <td>0.0</td>\n      <td>0.0</td>\n      <td>Jodip Ellson</td>\n      <td>1</td>\n    </tr>\n    <tr>\n      <th>2038</th>\n      <td>2182_01</td>\n      <td>Europa</td>\n      <td>0</td>\n      <td>31.0</td>\n      <td>0</td>\n      <td>46.0</td>\n      <td>1935.0</td>\n      <td>0.0</td>\n      <td>995.0</td>\n      <td>1254.0</td>\n      <td>Unukath Tiouserful</td>\n      <td>0</td>\n    </tr>\n    <tr>\n      <th>5786</th>\n      <td>6128_02</td>\n      <td>Earth</td>\n      <td>0</td>\n      <td>16.0</td>\n      <td>0</td>\n      <td>7.0</td>\n      <td>0.0</td>\n      <td>311.0</td>\n      <td>0.0</td>\n      <td>683.0</td>\n      <td>Belly Serry</td>\n      <td>0</td>\n    </tr>\n    <tr>\n      <th>5021</th>\n      <td>5365_01</td>\n      <td>Earth</td>\n      <td>0</td>\n      <td>60.0</td>\n      <td>0</td>\n      <td>943.0</td>\n      <td>53.0</td>\n      <td>0.0</td>\n      <td>0.0</td>\n      <td>0.0</td>\n      <td>Pristy Whiters</td>\n      <td>0</td>\n    </tr>\n    <tr>\n      <th>3438</th>\n      <td>3706_02</td>\n      <td>Mars</td>\n      <td>0</td>\n      <td>18.0</td>\n      <td>0</td>\n      <td>131.0</td>\n      <td>0.0</td>\n      <td>980.0</td>\n      <td>1.0</td>\n      <td>0.0</td>\n      <td>Honda Kidie</td>\n      <td>1</td>\n    </tr>\n  </tbody>\n</table>\n<p>3000 rows × 12 columns</p>\n</div>"
     },
     "execution_count": 210,
     "metadata": {},
     "output_type": "execute_result"
    }
   ],
   "source": [
    "#создание таблицы из рандомных строк\n",
    "df_rand = df.sample(3000)\n",
    "df_rand"
   ],
   "metadata": {
    "collapsed": false,
    "ExecuteTime": {
     "start_time": "2023-05-28T20:24:31.720788Z",
     "end_time": "2023-05-28T20:24:31.759869Z"
    }
   }
  },
  {
   "cell_type": "code",
   "execution_count": 8,
   "outputs": [
    {
     "data": {
      "text/plain": "PassengerId      object\nHomePlanet       object\nCryoSleep        object\nCabin            object\nDestination      object\nAge             float64\nVIP              object\nRoomService     float64\nFoodCourt       float64\nShoppingMall    float64\nSpa             float64\nVRDeck          float64\nName             object\nTransported        bool\ndtype: object"
     },
     "execution_count": 8,
     "metadata": {},
     "output_type": "execute_result"
    }
   ],
   "source": [
    "df.dtypes"
   ],
   "metadata": {
    "collapsed": false,
    "ExecuteTime": {
     "start_time": "2023-05-28T14:10:48.204003Z",
     "end_time": "2023-05-28T14:10:48.232013Z"
    }
   }
  },
  {
   "cell_type": "code",
   "execution_count": 9,
   "outputs": [
    {
     "data": {
      "text/plain": "PassengerId     object\nHomePlanet      object\nCryoSleep       object\nCabin           object\nDestination     object\nAge             object\nVIP             object\nRoomService     object\nFoodCourt       object\nShoppingMall    object\nSpa             object\nVRDeck          object\nName            object\nTransported     object\ndtype: object"
     },
     "execution_count": 9,
     "metadata": {},
     "output_type": "execute_result"
    }
   ],
   "source": [
    "#изменение типа признаков\n",
    "df = df.astype(dtype=object)\n",
    "df.dtypes"
   ],
   "metadata": {
    "collapsed": false,
    "ExecuteTime": {
     "start_time": "2023-05-28T14:10:51.875805Z",
     "end_time": "2023-05-28T14:10:51.912666Z"
    }
   }
  },
  {
   "cell_type": "code",
   "execution_count": 10,
   "outputs": [
    {
     "data": {
      "text/plain": "PassengerId      object\nHomePlanet       object\nCryoSleep        object\nCabin            object\nDestination      object\nAge             float64\nVIP              object\nRoomService     float64\nFoodCourt       float64\nShoppingMall    float64\nSpa             float64\nVRDeck          float64\nName             object\nTransported      object\ndtype: object"
     },
     "execution_count": 10,
     "metadata": {},
     "output_type": "execute_result"
    }
   ],
   "source": [
    "#преобразование показателей\n",
    "df = df.astype({'Age': float, 'RoomService': float, 'FoodCourt': float, 'ShoppingMall': float, 'Spa': float, 'VRDeck': float})\n",
    "df.dtypes"
   ],
   "metadata": {
    "collapsed": false,
    "ExecuteTime": {
     "start_time": "2023-05-28T14:10:54.872286Z",
     "end_time": "2023-05-28T14:10:54.909187Z"
    }
   }
  },
  {
   "cell_type": "code",
   "execution_count": 11,
   "outputs": [
    {
     "name": "stdout",
     "output_type": "stream",
     "text": [
      "<class 'pandas.core.frame.DataFrame'>\n",
      "Int64Index: 8514 entries, 0 to 8692\n",
      "Data columns (total 12 columns):\n",
      " #   Column        Non-Null Count  Dtype  \n",
      "---  ------        --------------  -----  \n",
      " 0   PassengerId   8514 non-null   object \n",
      " 1   HomePlanet    8315 non-null   object \n",
      " 2   CryoSleep     8298 non-null   object \n",
      " 3   Age           8514 non-null   float64\n",
      " 4   VIP           8317 non-null   object \n",
      " 5   RoomService   8334 non-null   float64\n",
      " 6   FoodCourt     8335 non-null   float64\n",
      " 7   ShoppingMall  8310 non-null   float64\n",
      " 8   Spa           8332 non-null   float64\n",
      " 9   VRDeck        8330 non-null   float64\n",
      " 10  Name          8317 non-null   object \n",
      " 11  Transported   8514 non-null   object \n",
      "dtypes: float64(6), object(6)\n",
      "memory usage: 864.7+ KB\n"
     ]
    }
   ],
   "source": [
    "df = df[df.Age.notna()]\n",
    "df = df.drop(\"Cabin\", axis=1, errors='ignore')\n",
    "df = df.drop(\"Destination\", axis=1, errors='ignore')\n",
    "df.info()"
   ],
   "metadata": {
    "collapsed": false,
    "ExecuteTime": {
     "start_time": "2023-05-28T14:10:58.761003Z",
     "end_time": "2023-05-28T14:10:58.879684Z"
    }
   }
  },
  {
   "cell_type": "code",
   "execution_count": 12,
   "outputs": [
    {
     "data": {
      "text/plain": "Earth     4514\nEuropa    2085\nMars      1716\nNaN        199\nName: HomePlanet, dtype: int64"
     },
     "execution_count": 12,
     "metadata": {},
     "output_type": "execute_result"
    }
   ],
   "source": [
    "df.HomePlanet.value_counts(dropna=False)"
   ],
   "metadata": {
    "collapsed": false,
    "ExecuteTime": {
     "start_time": "2023-05-28T14:11:02.223148Z",
     "end_time": "2023-05-28T14:11:02.248080Z"
    }
   }
  },
  {
   "cell_type": "code",
   "execution_count": 13,
   "outputs": [
    {
     "data": {
      "text/plain": "Earth     4713\nEuropa    2085\nMars      1716\nName: HomePlanet, dtype: int64"
     },
     "execution_count": 13,
     "metadata": {},
     "output_type": "execute_result"
    }
   ],
   "source": [
    "df[\"HomePlanet\"] = df[\"HomePlanet\"].fillna('Earth')\n",
    "df.HomePlanet.value_counts(dropna=False)"
   ],
   "metadata": {
    "collapsed": false,
    "ExecuteTime": {
     "start_time": "2023-05-28T14:11:04.453960Z",
     "end_time": "2023-05-28T14:11:04.495947Z"
    }
   }
  },
  {
   "cell_type": "code",
   "execution_count": 33,
   "outputs": [
    {
     "data": {
      "text/plain": "array([0, 1], dtype=int64)"
     },
     "execution_count": 33,
     "metadata": {},
     "output_type": "execute_result"
    }
   ],
   "source": [
    "df.CryoSleep.value_counts(dropna=False)\n",
    "df[\"CryoSleep\"] = df[\"CryoSleep\"].fillna('False')\n",
    "df.CryoSleep = df.CryoSleep.replace({'False': 0, True: 1})\n",
    "df.CryoSleep.unique()"
   ],
   "metadata": {
    "collapsed": false,
    "ExecuteTime": {
     "start_time": "2023-05-28T14:17:14.450209Z",
     "end_time": "2023-05-28T14:17:14.507417Z"
    }
   }
  },
  {
   "cell_type": "code",
   "execution_count": 34,
   "outputs": [
    {
     "data": {
      "text/plain": "array([0, 1], dtype=int64)"
     },
     "execution_count": 34,
     "metadata": {},
     "output_type": "execute_result"
    }
   ],
   "source": [
    "df.VIP.value_counts(dropna=False)\n",
    "df[\"VIP\"] = df[\"VIP\"].fillna(False)\n",
    "df.VIP = df.VIP.replace({False: 0, True: 1})\n",
    "df.VIP.unique()"
   ],
   "metadata": {
    "collapsed": false,
    "ExecuteTime": {
     "start_time": "2023-05-28T14:17:21.052049Z",
     "end_time": "2023-05-28T14:17:21.095215Z"
    }
   }
  },
  {
   "cell_type": "code",
   "execution_count": 35,
   "outputs": [],
   "source": [
    "df.Transported = df.Transported.replace({False: 0, True: 1})"
   ],
   "metadata": {
    "collapsed": false,
    "ExecuteTime": {
     "start_time": "2023-05-28T14:17:25.364380Z",
     "end_time": "2023-05-28T14:17:25.379181Z"
    }
   }
  },
  {
   "cell_type": "code",
   "execution_count": 36,
   "outputs": [
    {
     "name": "stdout",
     "output_type": "stream",
     "text": [
      "<class 'pandas.core.frame.DataFrame'>\n",
      "Int64Index: 8514 entries, 0 to 8692\n",
      "Data columns (total 12 columns):\n",
      " #   Column        Non-Null Count  Dtype  \n",
      "---  ------        --------------  -----  \n",
      " 0   PassengerId   8514 non-null   object \n",
      " 1   HomePlanet    8514 non-null   object \n",
      " 2   CryoSleep     8514 non-null   int64  \n",
      " 3   Age           8514 non-null   float64\n",
      " 4   VIP           8514 non-null   int64  \n",
      " 5   RoomService   8514 non-null   float64\n",
      " 6   FoodCourt     8514 non-null   float64\n",
      " 7   ShoppingMall  8514 non-null   float64\n",
      " 8   Spa           8514 non-null   float64\n",
      " 9   VRDeck        8514 non-null   float64\n",
      " 10  Name          8514 non-null   object \n",
      " 11  Transported   8514 non-null   int64  \n",
      "dtypes: float64(6), int64(3), object(3)\n",
      "memory usage: 864.7+ KB\n"
     ]
    }
   ],
   "source": [
    "df.info()"
   ],
   "metadata": {
    "collapsed": false,
    "ExecuteTime": {
     "start_time": "2023-05-28T14:17:27.513208Z",
     "end_time": "2023-05-28T14:17:27.558266Z"
    }
   }
  },
  {
   "cell_type": "code",
   "execution_count": 37,
   "outputs": [
    {
     "data": {
      "text/plain": "    RoomService                     \n           mean median  min      max\nVIP                                 \n0    215.495911    0.0  0.0  14327.0\n1    458.535354    0.0  0.0   8243.0",
      "text/html": "<div>\n<style scoped>\n    .dataframe tbody tr th:only-of-type {\n        vertical-align: middle;\n    }\n\n    .dataframe tbody tr th {\n        vertical-align: top;\n    }\n\n    .dataframe thead tr th {\n        text-align: left;\n    }\n\n    .dataframe thead tr:last-of-type th {\n        text-align: right;\n    }\n</style>\n<table border=\"1\" class=\"dataframe\">\n  <thead>\n    <tr>\n      <th></th>\n      <th colspan=\"4\" halign=\"left\">RoomService</th>\n    </tr>\n    <tr>\n      <th></th>\n      <th>mean</th>\n      <th>median</th>\n      <th>min</th>\n      <th>max</th>\n    </tr>\n    <tr>\n      <th>VIP</th>\n      <th></th>\n      <th></th>\n      <th></th>\n      <th></th>\n    </tr>\n  </thead>\n  <tbody>\n    <tr>\n      <th>0</th>\n      <td>215.495911</td>\n      <td>0.0</td>\n      <td>0.0</td>\n      <td>14327.0</td>\n    </tr>\n    <tr>\n      <th>1</th>\n      <td>458.535354</td>\n      <td>0.0</td>\n      <td>0.0</td>\n      <td>8243.0</td>\n    </tr>\n  </tbody>\n</table>\n</div>"
     },
     "execution_count": 37,
     "metadata": {},
     "output_type": "execute_result"
    }
   ],
   "source": [
    "df[[\"RoomService\", \"VIP\"]][df.RoomService != ''].groupby(\"VIP\").agg([\"mean\", \"median\", \"min\", \"max\"])"
   ],
   "metadata": {
    "collapsed": false,
    "ExecuteTime": {
     "start_time": "2023-05-28T14:17:34.331043Z",
     "end_time": "2023-05-28T14:17:34.407838Z"
    }
   }
  },
  {
   "cell_type": "code",
   "execution_count": 38,
   "outputs": [
    {
     "name": "stdout",
     "output_type": "stream",
     "text": [
      "<class 'pandas.core.frame.DataFrame'>\n",
      "Int64Index: 8514 entries, 0 to 8692\n",
      "Data columns (total 12 columns):\n",
      " #   Column        Non-Null Count  Dtype  \n",
      "---  ------        --------------  -----  \n",
      " 0   PassengerId   8514 non-null   object \n",
      " 1   HomePlanet    8514 non-null   object \n",
      " 2   CryoSleep     8514 non-null   int64  \n",
      " 3   Age           8514 non-null   float64\n",
      " 4   VIP           8514 non-null   int64  \n",
      " 5   RoomService   8514 non-null   float64\n",
      " 6   FoodCourt     8514 non-null   float64\n",
      " 7   ShoppingMall  8514 non-null   float64\n",
      " 8   Spa           8514 non-null   float64\n",
      " 9   VRDeck        8514 non-null   float64\n",
      " 10  Name          8514 non-null   object \n",
      " 11  Transported   8514 non-null   int64  \n",
      "dtypes: float64(6), int64(3), object(3)\n",
      "memory usage: 864.7+ KB\n"
     ]
    }
   ],
   "source": [
    "df = df.fillna({\"RoomService\": 0.0, \"FoodCourt\": 0.0, \"ShoppingMall\": 0.0, \"Spa\": 0.0, \"VRDeck\": 0.0, \"Name\": \"NA\"})\n",
    "df.info()"
   ],
   "metadata": {
    "collapsed": false,
    "ExecuteTime": {
     "start_time": "2023-05-28T14:17:38.600168Z",
     "end_time": "2023-05-28T14:17:38.645048Z"
    }
   }
  },
  {
   "cell_type": "code",
   "execution_count": 39,
   "outputs": [
    {
     "data": {
      "text/plain": "         CryoSleep          Age          VIP   RoomService     FoodCourt  \\\ncount  8514.000000  8514.000000  8514.000000   8514.000000   8514.000000   \nmean      0.347075    28.827930     0.023256    221.147992    449.297980   \nstd       0.476068    14.489021     0.150724    663.939245   1598.407975   \nmin       0.000000     0.000000     0.000000      0.000000      0.000000   \n25%       0.000000    19.000000     0.000000      0.000000      0.000000   \n50%       0.000000    27.000000     0.000000      0.000000      0.000000   \n75%       1.000000    38.000000     0.000000     42.000000     62.000000   \nmax       1.000000    79.000000     1.000000  14327.000000  29813.000000   \n\n       ShoppingMall           Spa        VRDeck  Transported  \ncount   8514.000000   8514.000000   8514.000000  8514.000000  \nmean     171.043810    303.636951    298.762156     0.503641  \nstd      602.376961   1120.733002   1138.416271     0.500016  \nmin        0.000000      0.000000      0.000000     0.000000  \n25%        0.000000      0.000000      0.000000     0.000000  \n50%        0.000000      0.000000      0.000000     1.000000  \n75%       23.000000     54.000000     40.000000     1.000000  \nmax    23492.000000  22408.000000  24133.000000     1.000000  ",
      "text/html": "<div>\n<style scoped>\n    .dataframe tbody tr th:only-of-type {\n        vertical-align: middle;\n    }\n\n    .dataframe tbody tr th {\n        vertical-align: top;\n    }\n\n    .dataframe thead th {\n        text-align: right;\n    }\n</style>\n<table border=\"1\" class=\"dataframe\">\n  <thead>\n    <tr style=\"text-align: right;\">\n      <th></th>\n      <th>CryoSleep</th>\n      <th>Age</th>\n      <th>VIP</th>\n      <th>RoomService</th>\n      <th>FoodCourt</th>\n      <th>ShoppingMall</th>\n      <th>Spa</th>\n      <th>VRDeck</th>\n      <th>Transported</th>\n    </tr>\n  </thead>\n  <tbody>\n    <tr>\n      <th>count</th>\n      <td>8514.000000</td>\n      <td>8514.000000</td>\n      <td>8514.000000</td>\n      <td>8514.000000</td>\n      <td>8514.000000</td>\n      <td>8514.000000</td>\n      <td>8514.000000</td>\n      <td>8514.000000</td>\n      <td>8514.000000</td>\n    </tr>\n    <tr>\n      <th>mean</th>\n      <td>0.347075</td>\n      <td>28.827930</td>\n      <td>0.023256</td>\n      <td>221.147992</td>\n      <td>449.297980</td>\n      <td>171.043810</td>\n      <td>303.636951</td>\n      <td>298.762156</td>\n      <td>0.503641</td>\n    </tr>\n    <tr>\n      <th>std</th>\n      <td>0.476068</td>\n      <td>14.489021</td>\n      <td>0.150724</td>\n      <td>663.939245</td>\n      <td>1598.407975</td>\n      <td>602.376961</td>\n      <td>1120.733002</td>\n      <td>1138.416271</td>\n      <td>0.500016</td>\n    </tr>\n    <tr>\n      <th>min</th>\n      <td>0.000000</td>\n      <td>0.000000</td>\n      <td>0.000000</td>\n      <td>0.000000</td>\n      <td>0.000000</td>\n      <td>0.000000</td>\n      <td>0.000000</td>\n      <td>0.000000</td>\n      <td>0.000000</td>\n    </tr>\n    <tr>\n      <th>25%</th>\n      <td>0.000000</td>\n      <td>19.000000</td>\n      <td>0.000000</td>\n      <td>0.000000</td>\n      <td>0.000000</td>\n      <td>0.000000</td>\n      <td>0.000000</td>\n      <td>0.000000</td>\n      <td>0.000000</td>\n    </tr>\n    <tr>\n      <th>50%</th>\n      <td>0.000000</td>\n      <td>27.000000</td>\n      <td>0.000000</td>\n      <td>0.000000</td>\n      <td>0.000000</td>\n      <td>0.000000</td>\n      <td>0.000000</td>\n      <td>0.000000</td>\n      <td>1.000000</td>\n    </tr>\n    <tr>\n      <th>75%</th>\n      <td>1.000000</td>\n      <td>38.000000</td>\n      <td>0.000000</td>\n      <td>42.000000</td>\n      <td>62.000000</td>\n      <td>23.000000</td>\n      <td>54.000000</td>\n      <td>40.000000</td>\n      <td>1.000000</td>\n    </tr>\n    <tr>\n      <th>max</th>\n      <td>1.000000</td>\n      <td>79.000000</td>\n      <td>1.000000</td>\n      <td>14327.000000</td>\n      <td>29813.000000</td>\n      <td>23492.000000</td>\n      <td>22408.000000</td>\n      <td>24133.000000</td>\n      <td>1.000000</td>\n    </tr>\n  </tbody>\n</table>\n</div>"
     },
     "execution_count": 39,
     "metadata": {},
     "output_type": "execute_result"
    }
   ],
   "source": [
    "df.describe()"
   ],
   "metadata": {
    "collapsed": false,
    "ExecuteTime": {
     "start_time": "2023-05-28T14:17:41.961865Z",
     "end_time": "2023-05-28T14:17:42.064890Z"
    }
   }
  },
  {
   "cell_type": "code",
   "execution_count": 40,
   "outputs": [
    {
     "data": {
      "text/plain": "     PassengerId HomePlanet  CryoSleep  Age  VIP  RoomService  FoodCourt  \\\n1763     1874_01      Earth          1  0.0    0          0.0        0.0   \n774      0811_03       Mars          0  0.0    0          0.0        0.0   \n773      0811_02       Mars          1  0.0    0          0.0        0.0   \n5982     6334_04      Earth          1  0.0    0          0.0        0.0   \n771      0809_04       Mars          0  0.0    0          0.0        0.0   \n...          ...        ...        ...  ...  ...          ...        ...   \n3803     4061_03       Mars          1  1.0    0          0.0        0.0   \n4308     4592_04       Mars          1  1.0    0          0.0        0.0   \n4392     4663_02      Earth          1  1.0    0          0.0        0.0   \n3785     4042_01     Europa          0  1.0    0          0.0        0.0   \n1695     1800_05      Earth          1  1.0    0          0.0        0.0   \n\n      ShoppingMall  Spa  VRDeck                Name  Transported  \n1763           0.0  0.0     0.0  Armene Woodgezalez            0  \n774            0.0  0.0     0.0         Phams Nutte            1  \n773            0.0  0.0     0.0           Pan Nutte            1  \n5982           0.0  0.0     0.0         Vick Jenson            1  \n771            0.0  0.0     0.0         Wales Meake            1  \n...            ...  ...     ...                 ...          ...  \n3803           0.0  0.0     0.0                  NA            1  \n4308           0.0  0.0     0.0           Pil Carté            1  \n4392           0.0  0.0     0.0          Dia Cartez            1  \n3785           0.0  0.0     0.0      Mesatz Stewder            1  \n1695           0.0  0.0     0.0        Wandy Goffey            1  \n\n[200 rows x 12 columns]",
      "text/html": "<div>\n<style scoped>\n    .dataframe tbody tr th:only-of-type {\n        vertical-align: middle;\n    }\n\n    .dataframe tbody tr th {\n        vertical-align: top;\n    }\n\n    .dataframe thead th {\n        text-align: right;\n    }\n</style>\n<table border=\"1\" class=\"dataframe\">\n  <thead>\n    <tr style=\"text-align: right;\">\n      <th></th>\n      <th>PassengerId</th>\n      <th>HomePlanet</th>\n      <th>CryoSleep</th>\n      <th>Age</th>\n      <th>VIP</th>\n      <th>RoomService</th>\n      <th>FoodCourt</th>\n      <th>ShoppingMall</th>\n      <th>Spa</th>\n      <th>VRDeck</th>\n      <th>Name</th>\n      <th>Transported</th>\n    </tr>\n  </thead>\n  <tbody>\n    <tr>\n      <th>1763</th>\n      <td>1874_01</td>\n      <td>Earth</td>\n      <td>1</td>\n      <td>0.0</td>\n      <td>0</td>\n      <td>0.0</td>\n      <td>0.0</td>\n      <td>0.0</td>\n      <td>0.0</td>\n      <td>0.0</td>\n      <td>Armene Woodgezalez</td>\n      <td>0</td>\n    </tr>\n    <tr>\n      <th>774</th>\n      <td>0811_03</td>\n      <td>Mars</td>\n      <td>0</td>\n      <td>0.0</td>\n      <td>0</td>\n      <td>0.0</td>\n      <td>0.0</td>\n      <td>0.0</td>\n      <td>0.0</td>\n      <td>0.0</td>\n      <td>Phams Nutte</td>\n      <td>1</td>\n    </tr>\n    <tr>\n      <th>773</th>\n      <td>0811_02</td>\n      <td>Mars</td>\n      <td>1</td>\n      <td>0.0</td>\n      <td>0</td>\n      <td>0.0</td>\n      <td>0.0</td>\n      <td>0.0</td>\n      <td>0.0</td>\n      <td>0.0</td>\n      <td>Pan Nutte</td>\n      <td>1</td>\n    </tr>\n    <tr>\n      <th>5982</th>\n      <td>6334_04</td>\n      <td>Earth</td>\n      <td>1</td>\n      <td>0.0</td>\n      <td>0</td>\n      <td>0.0</td>\n      <td>0.0</td>\n      <td>0.0</td>\n      <td>0.0</td>\n      <td>0.0</td>\n      <td>Vick Jenson</td>\n      <td>1</td>\n    </tr>\n    <tr>\n      <th>771</th>\n      <td>0809_04</td>\n      <td>Mars</td>\n      <td>0</td>\n      <td>0.0</td>\n      <td>0</td>\n      <td>0.0</td>\n      <td>0.0</td>\n      <td>0.0</td>\n      <td>0.0</td>\n      <td>0.0</td>\n      <td>Wales Meake</td>\n      <td>1</td>\n    </tr>\n    <tr>\n      <th>...</th>\n      <td>...</td>\n      <td>...</td>\n      <td>...</td>\n      <td>...</td>\n      <td>...</td>\n      <td>...</td>\n      <td>...</td>\n      <td>...</td>\n      <td>...</td>\n      <td>...</td>\n      <td>...</td>\n      <td>...</td>\n    </tr>\n    <tr>\n      <th>3803</th>\n      <td>4061_03</td>\n      <td>Mars</td>\n      <td>1</td>\n      <td>1.0</td>\n      <td>0</td>\n      <td>0.0</td>\n      <td>0.0</td>\n      <td>0.0</td>\n      <td>0.0</td>\n      <td>0.0</td>\n      <td>NA</td>\n      <td>1</td>\n    </tr>\n    <tr>\n      <th>4308</th>\n      <td>4592_04</td>\n      <td>Mars</td>\n      <td>1</td>\n      <td>1.0</td>\n      <td>0</td>\n      <td>0.0</td>\n      <td>0.0</td>\n      <td>0.0</td>\n      <td>0.0</td>\n      <td>0.0</td>\n      <td>Pil Carté</td>\n      <td>1</td>\n    </tr>\n    <tr>\n      <th>4392</th>\n      <td>4663_02</td>\n      <td>Earth</td>\n      <td>1</td>\n      <td>1.0</td>\n      <td>0</td>\n      <td>0.0</td>\n      <td>0.0</td>\n      <td>0.0</td>\n      <td>0.0</td>\n      <td>0.0</td>\n      <td>Dia Cartez</td>\n      <td>1</td>\n    </tr>\n    <tr>\n      <th>3785</th>\n      <td>4042_01</td>\n      <td>Europa</td>\n      <td>0</td>\n      <td>1.0</td>\n      <td>0</td>\n      <td>0.0</td>\n      <td>0.0</td>\n      <td>0.0</td>\n      <td>0.0</td>\n      <td>0.0</td>\n      <td>Mesatz Stewder</td>\n      <td>1</td>\n    </tr>\n    <tr>\n      <th>1695</th>\n      <td>1800_05</td>\n      <td>Earth</td>\n      <td>1</td>\n      <td>1.0</td>\n      <td>0</td>\n      <td>0.0</td>\n      <td>0.0</td>\n      <td>0.0</td>\n      <td>0.0</td>\n      <td>0.0</td>\n      <td>Wandy Goffey</td>\n      <td>1</td>\n    </tr>\n  </tbody>\n</table>\n<p>200 rows × 12 columns</p>\n</div>"
     },
     "execution_count": 40,
     "metadata": {},
     "output_type": "execute_result"
    }
   ],
   "source": [
    "df.sort_values(by=\"Age\", ascending=True).head(200)\n",
    "df"
   ],
   "metadata": {
    "collapsed": false,
    "ExecuteTime": {
     "start_time": "2023-05-28T14:17:49.520877Z",
     "end_time": "2023-05-28T14:17:49.590724Z"
    }
   }
  },
  {
   "cell_type": "code",
   "execution_count": 41,
   "outputs": [
    {
     "data": {
      "text/plain": "                   Age       \n                  mean median\nTransported                  \n0            29.922858   27.0\n1            27.748834   26.0",
      "text/html": "<div>\n<style scoped>\n    .dataframe tbody tr th:only-of-type {\n        vertical-align: middle;\n    }\n\n    .dataframe tbody tr th {\n        vertical-align: top;\n    }\n\n    .dataframe thead tr th {\n        text-align: left;\n    }\n\n    .dataframe thead tr:last-of-type th {\n        text-align: right;\n    }\n</style>\n<table border=\"1\" class=\"dataframe\">\n  <thead>\n    <tr>\n      <th></th>\n      <th colspan=\"2\" halign=\"left\">Age</th>\n    </tr>\n    <tr>\n      <th></th>\n      <th>mean</th>\n      <th>median</th>\n    </tr>\n    <tr>\n      <th>Transported</th>\n      <th></th>\n      <th></th>\n    </tr>\n  </thead>\n  <tbody>\n    <tr>\n      <th>0</th>\n      <td>29.922858</td>\n      <td>27.0</td>\n    </tr>\n    <tr>\n      <th>1</th>\n      <td>27.748834</td>\n      <td>26.0</td>\n    </tr>\n  </tbody>\n</table>\n</div>"
     },
     "execution_count": 41,
     "metadata": {},
     "output_type": "execute_result"
    }
   ],
   "source": [
    "df[[\"Age\", \"Transported\"]].groupby(\"Transported\").agg([\"mean\", \"median\"])"
   ],
   "metadata": {
    "collapsed": false,
    "ExecuteTime": {
     "start_time": "2023-05-28T14:17:54.311081Z",
     "end_time": "2023-05-28T14:17:54.369915Z"
    }
   }
  },
  {
   "cell_type": "code",
   "execution_count": 42,
   "outputs": [
    {
     "data": {
      "text/plain": "             Age\nmean    28.82793\nmedian  27.00000",
      "text/html": "<div>\n<style scoped>\n    .dataframe tbody tr th:only-of-type {\n        vertical-align: middle;\n    }\n\n    .dataframe tbody tr th {\n        vertical-align: top;\n    }\n\n    .dataframe thead th {\n        text-align: right;\n    }\n</style>\n<table border=\"1\" class=\"dataframe\">\n  <thead>\n    <tr style=\"text-align: right;\">\n      <th></th>\n      <th>Age</th>\n    </tr>\n  </thead>\n  <tbody>\n    <tr>\n      <th>mean</th>\n      <td>28.82793</td>\n    </tr>\n    <tr>\n      <th>median</th>\n      <td>27.00000</td>\n    </tr>\n  </tbody>\n</table>\n</div>"
     },
     "execution_count": 42,
     "metadata": {},
     "output_type": "execute_result"
    }
   ],
   "source": [
    "df[[\"Age\"]].agg([\"mean\", \"median\"])"
   ],
   "metadata": {
    "collapsed": false,
    "ExecuteTime": {
     "start_time": "2023-05-28T14:17:58.859996Z",
     "end_time": "2023-05-28T14:17:58.916880Z"
    }
   }
  },
  {
   "cell_type": "code",
   "execution_count": 43,
   "outputs": [
    {
     "data": {
      "text/plain": "1    0.503641\n0    0.496359\nName: Transported, dtype: float64"
     },
     "execution_count": 43,
     "metadata": {},
     "output_type": "execute_result"
    }
   ],
   "source": [
    "df.Transported.value_counts(normalize=True)"
   ],
   "metadata": {
    "collapsed": false,
    "ExecuteTime": {
     "start_time": "2023-05-28T14:18:03.200844Z",
     "end_time": "2023-05-28T14:18:03.247998Z"
    }
   }
  },
  {
   "cell_type": "code",
   "execution_count": 44,
   "outputs": [
    {
     "data": {
      "text/plain": "0    0.976744\n1    0.023256\nName: VIP, dtype: float64"
     },
     "execution_count": 44,
     "metadata": {},
     "output_type": "execute_result"
    }
   ],
   "source": [
    "df.VIP.value_counts(normalize=True)"
   ],
   "metadata": {
    "collapsed": false,
    "ExecuteTime": {
     "start_time": "2023-05-28T14:18:10.516370Z",
     "end_time": "2023-05-28T14:18:10.549281Z"
    }
   }
  },
  {
   "cell_type": "code",
   "execution_count": 45,
   "outputs": [
    {
     "data": {
      "text/plain": "Earth     0.553559\nEuropa    0.244891\nMars      0.201550\nName: HomePlanet, dtype: float64"
     },
     "execution_count": 45,
     "metadata": {},
     "output_type": "execute_result"
    }
   ],
   "source": [
    "df.HomePlanet.value_counts(normalize=True)"
   ],
   "metadata": {
    "collapsed": false,
    "ExecuteTime": {
     "start_time": "2023-05-28T14:18:15.554841Z",
     "end_time": "2023-05-28T14:18:15.589746Z"
    }
   }
  },
  {
   "cell_type": "code",
   "execution_count": 46,
   "outputs": [
    {
     "data": {
      "text/plain": "0    0.652925\n1    0.347075\nName: CryoSleep, dtype: float64"
     },
     "execution_count": 46,
     "metadata": {},
     "output_type": "execute_result"
    }
   ],
   "source": [
    "df.CryoSleep.value_counts(normalize=True)"
   ],
   "metadata": {
    "collapsed": false,
    "ExecuteTime": {
     "start_time": "2023-05-28T14:18:26.449177Z",
     "end_time": "2023-05-28T14:18:26.499306Z"
    }
   }
  },
  {
   "cell_type": "code",
   "execution_count": 80,
   "outputs": [
    {
     "data": {
      "text/plain": "CryoSleep  Transported\n0          0              0.663788\n           1              0.336212\n1          1              0.818613\n           0              0.181387\ndtype: float64"
     },
     "execution_count": 80,
     "metadata": {},
     "output_type": "execute_result"
    }
   ],
   "source": [
    "df[[\"CryoSleep\", \"Transported\"]].groupby(\"CryoSleep\").value_counts(normalize=True)"
   ],
   "metadata": {
    "collapsed": false,
    "ExecuteTime": {
     "start_time": "2023-05-28T15:05:33.476687Z",
     "end_time": "2023-05-28T15:05:33.514351Z"
    }
   }
  },
  {
   "cell_type": "code",
   "execution_count": 178,
   "outputs": [
    {
     "data": {
      "text/plain": "HomePlanet  Transported\nEarth       0              0.572035\n            1              0.427965\nEuropa      1              0.658513\n            0              0.341487\nMars        1              0.523310\n            0              0.476690\ndtype: float64"
     },
     "execution_count": 178,
     "metadata": {},
     "output_type": "execute_result"
    }
   ],
   "source": [
    "df[[\"HomePlanet\", \"Transported\"]].groupby(\"HomePlanet\").value_counts(normalize=True)"
   ],
   "metadata": {
    "collapsed": false,
    "ExecuteTime": {
     "start_time": "2023-05-28T19:35:59.861583Z",
     "end_time": "2023-05-28T19:35:59.905657Z"
    }
   }
  },
  {
   "cell_type": "code",
   "execution_count": 49,
   "outputs": [
    {
     "data": {
      "text/plain": "VIP  Transported\n0    1              0.506494\n     0              0.493506\n1    0              0.616162\n     1              0.383838\ndtype: float64"
     },
     "execution_count": 49,
     "metadata": {},
     "output_type": "execute_result"
    }
   ],
   "source": [
    "df[[\"VIP\", \"Transported\"]].groupby(\"VIP\").value_counts(normalize=True)"
   ],
   "metadata": {
    "collapsed": false,
    "ExecuteTime": {
     "start_time": "2023-05-28T14:18:37.195595Z",
     "end_time": "2023-05-28T14:18:37.232495Z"
    }
   }
  },
  {
   "cell_type": "markdown",
   "source": [
    "Resume:\n",
    "\n",
    "- около 50% пассажиров перешли в иное измерение, из них 43.6% находилось в креосне (при этом в целом на корабле в креосне находилось только 34.7%). Есть гипотеза, что вероятность транспортировки в иное измерение у пассажиров, находящихся в креосне, выше.\n",
    "\n",
    "- средний возраст пассажиров - 27 лет, средний возраст перешедших в другое измерение - 26 лет;\n",
    "\n",
    "- из всех пассажиров с Марса транспортировалось - 52.3%, из всех пассажиров с Европы транспортировалось - 65.8%, из всех пассажиров с Земли транспортировалось - 42.7%. При этом численность всех пассажиров с Земли превышает численность всех пассажиров с Марса и с Европы в два раза по каждой группе в отдельности. Есть гипотеза, что вероятность транспортировки в иное измерение у пассажиров с Земли ниже."
   ],
   "metadata": {
    "collapsed": false
   }
  },
  {
   "cell_type": "code",
   "execution_count": 73,
   "outputs": [
    {
     "data": {
      "text/plain": "<AxesSubplot:ylabel='Density'>"
     },
     "execution_count": 73,
     "metadata": {},
     "output_type": "execute_result"
    },
    {
     "data": {
      "text/plain": "<Figure size 432x288 with 1 Axes>",
      "image/png": "[encoded data removed]"
     },
     "metadata": {
      "needs_background": "light"
     },
     "output_type": "display_data"
    }
   ],
   "source": [
    "df[[\"Age\"]][df.Transported == 1].plot.density()"
   ],
   "metadata": {
    "collapsed": false,
    "ExecuteTime": {
     "start_time": "2023-05-28T14:53:24.871737Z",
     "end_time": "2023-05-28T14:53:25.108105Z"
    }
   }
  },
  {
   "cell_type": "code",
   "execution_count": 85,
   "outputs": [
    {
     "data": {
      "text/plain": "<AxesSubplot:ylabel='Density'>"
     },
     "execution_count": 85,
     "metadata": {},
     "output_type": "execute_result"
    },
    {
     "data": {
      "text/plain": "<Figure size 432x288 with 1 Axes>",
      "image/png": "[encoded data removed]"
     },
     "metadata": {
      "needs_background": "light"
     },
     "output_type": "display_data"
    }
   ],
   "source": [
    "df[\"Age\"].plot.density()"
   ],
   "metadata": {
    "collapsed": false,
    "ExecuteTime": {
     "start_time": "2023-05-28T15:53:04.622430Z",
     "end_time": "2023-05-28T15:53:04.937803Z"
    }
   }
  },
  {
   "cell_type": "code",
   "execution_count": 175,
   "outputs": [
    {
     "data": {
      "text/plain": "Age \n18.0    0.037313\n28.0    0.034981\n0.0     0.033582\n24.0    0.032649\n19.0    0.032183\n          ...   \n69.0    0.000233\n73.0    0.000233\n76.0    0.000233\n77.0    0.000233\n78.0    0.000233\nLength: 79, dtype: float64"
     },
     "execution_count": 175,
     "metadata": {},
     "output_type": "execute_result"
    }
   ],
   "source": [
    "df[[\"Age\"]][df.Transported == 1].value_counts(normalize=True)"
   ],
   "metadata": {
    "collapsed": false,
    "ExecuteTime": {
     "start_time": "2023-05-28T19:29:54.935518Z",
     "end_time": "2023-05-28T19:29:54.971747Z"
    }
   }
  },
  {
   "cell_type": "code",
   "execution_count": 151,
   "outputs": [
    {
     "name": "stdout",
     "output_type": "stream",
     "text": [
      "<class 'pandas.core.frame.DataFrame'>\n",
      "RangeIndex: 79 entries, 0 to 78\n",
      "Data columns (total 2 columns):\n",
      " #   Column           Non-Null Count  Dtype  \n",
      "---  ------           --------------  -----  \n",
      " 0   Age              79 non-null     float64\n",
      " 1   Probability_age  79 non-null     float64\n",
      "dtypes: float64(2)\n",
      "memory usage: 1.4 KB\n"
     ]
    }
   ],
   "source": [
    "df_age_tr = df[[\"Age\"]][df.Transported == 1].value_counts(normalize=True).to_frame(name = \"Probability_age\")\n",
    "df_age_tr.reset_index(inplace = True)\n",
    "df_age_tr.info()\n",
    "list_age = df_age_tr[\"Age\"].to_list"
   ],
   "metadata": {
    "collapsed": false,
    "ExecuteTime": {
     "start_time": "2023-05-28T17:08:17.556971Z",
     "end_time": "2023-05-28T17:08:17.593892Z"
    }
   }
  },
  {
   "cell_type": "code",
   "execution_count": 79,
   "outputs": [
    {
     "data": {
      "text/plain": "CryoSleep  HomePlanet\n0          Earth         0.249534\n1          Earth         0.220849\n           Europa        0.204757\n           Mars          0.138526\n0          Europa        0.115438\n           Mars          0.070896\ndtype: float64"
     },
     "execution_count": 79,
     "metadata": {},
     "output_type": "execute_result"
    }
   ],
   "source": [
    "#df[[\"CryoSleep\", \"HomePlanet\"]][df.Transported == 1].value_counts(normalize=True)"
   ],
   "metadata": {
    "collapsed": false,
    "ExecuteTime": {
     "start_time": "2023-05-28T15:04:06.049975Z",
     "end_time": "2023-05-28T15:04:06.075975Z"
    }
   }
  },
  {
   "cell_type": "markdown",
   "source": [
    "Предсказание"
   ],
   "metadata": {
    "collapsed": false
   }
  },
  {
   "cell_type": "code",
   "execution_count": 211,
   "outputs": [
    {
     "data": {
      "text/plain": "     PassengerId HomePlanet  CryoSleep   Age  VIP  RoomService  FoodCourt  \\\n2127     2280_01     Europa          0  18.0    0         20.0     1064.0   \n2700     2892_03      Earth          1   0.0    0          0.0        0.0   \n8127     8681_02       Mars          0   1.0    0          0.0        0.0   \n2821     3042_01      Earth          0  30.0    0          0.0        0.0   \n2176     2325_01      Earth          1  22.0    0          0.0        0.0   \n...          ...        ...        ...   ...  ...          ...        ...   \n5315     5681_01      Earth          1  66.0    0          0.0        0.0   \n2038     2182_01     Europa          0  31.0    0         46.0     1935.0   \n5786     6128_02      Earth          0  16.0    0          7.0        0.0   \n5021     5365_01      Earth          0  60.0    0        943.0       53.0   \n3438     3706_02       Mars          0  18.0    0        131.0        0.0   \n\n      ShoppingMall    Spa   VRDeck                Name  Transported  \n2127           0.0    0.0  11643.0      Lesat Femoused            0  \n2700           0.0    0.0      0.0     Sharie Gallenry            1  \n8127           0.0    0.0      0.0         Rionk Facle            1  \n2821         301.0    0.0    437.0      Maya Mejiaddox            0  \n2176           0.0    0.0      0.0      Kimmie Hurchez            0  \n...            ...    ...      ...                 ...          ...  \n5315           0.0    0.0      0.0        Jodip Ellson            1  \n2038           0.0  995.0   1254.0  Unukath Tiouserful            0  \n5786         311.0    0.0    683.0         Belly Serry            0  \n5021           0.0    0.0      0.0      Pristy Whiters            0  \n3438         980.0    1.0      0.0         Honda Kidie            1  \n\n[3000 rows x 12 columns]",
      "text/html": "<div>\n<style scoped>\n    .dataframe tbody tr th:only-of-type {\n        vertical-align: middle;\n    }\n\n    .dataframe tbody tr th {\n        vertical-align: top;\n    }\n\n    .dataframe thead th {\n        text-align: right;\n    }\n</style>\n<table border=\"1\" class=\"dataframe\">\n  <thead>\n    <tr style=\"text-align: right;\">\n      <th></th>\n      <th>PassengerId</th>\n      <th>HomePlanet</th>\n      <th>CryoSleep</th>\n      <th>Age</th>\n      <th>VIP</th>\n      <th>RoomService</th>\n      <th>FoodCourt</th>\n      <th>ShoppingMall</th>\n      <th>Spa</th>\n      <th>VRDeck</th>\n      <th>Name</th>\n      <th>Transported</th>\n    </tr>\n  </thead>\n  <tbody>\n    <tr>\n      <th>2127</th>\n      <td>2280_01</td>\n      <td>Europa</td>\n      <td>0</td>\n      <td>18.0</td>\n      <td>0</td>\n      <td>20.0</td>\n      <td>1064.0</td>\n      <td>0.0</td>\n      <td>0.0</td>\n      <td>11643.0</td>\n      <td>Lesat Femoused</td>\n      <td>0</td>\n    </tr>\n    <tr>\n      <th>2700</th>\n      <td>2892_03</td>\n      <td>Earth</td>\n      <td>1</td>\n      <td>0.0</td>\n      <td>0</td>\n      <td>0.0</td>\n      <td>0.0</td>\n      <td>0.0</td>\n      <td>0.0</td>\n      <td>0.0</td>\n      <td>Sharie Gallenry</td>\n      <td>1</td>\n    </tr>\n    <tr>\n      <th>8127</th>\n      <td>8681_02</td>\n      <td>Mars</td>\n      <td>0</td>\n      <td>1.0</td>\n      <td>0</td>\n      <td>0.0</td>\n      <td>0.0</td>\n      <td>0.0</td>\n      <td>0.0</td>\n      <td>0.0</td>\n      <td>Rionk Facle</td>\n      <td>1</td>\n    </tr>\n    <tr>\n      <th>2821</th>\n      <td>3042_01</td>\n      <td>Earth</td>\n      <td>0</td>\n      <td>30.0</td>\n      <td>0</td>\n      <td>0.0</td>\n      <td>0.0</td>\n      <td>301.0</td>\n      <td>0.0</td>\n      <td>437.0</td>\n      <td>Maya Mejiaddox</td>\n      <td>0</td>\n    </tr>\n    <tr>\n      <th>2176</th>\n      <td>2325_01</td>\n      <td>Earth</td>\n      <td>1</td>\n      <td>22.0</td>\n      <td>0</td>\n      <td>0.0</td>\n      <td>0.0</td>\n      <td>0.0</td>\n      <td>0.0</td>\n      <td>0.0</td>\n      <td>Kimmie Hurchez</td>\n      <td>0</td>\n    </tr>\n    <tr>\n      <th>...</th>\n      <td>...</td>\n      <td>...</td>\n      <td>...</td>\n      <td>...</td>\n      <td>...</td>\n      <td>...</td>\n      <td>...</td>\n      <td>...</td>\n      <td>...</td>\n      <td>...</td>\n      <td>...</td>\n      <td>...</td>\n    </tr>\n    <tr>\n      <th>5315</th>\n      <td>5681_01</td>\n      <td>Earth</td>\n      <td>1</td>\n      <td>66.0</td>\n      <td>0</td>\n      <td>0.0</td>\n      <td>0.0</td>\n      <td>0.0</td>\n      <td>0.0</td>\n      <td>0.0</td>\n      <td>Jodip Ellson</td>\n      <td>1</td>\n    </tr>\n    <tr>\n      <th>2038</th>\n      <td>2182_01</td>\n      <td>Europa</td>\n      <td>0</td>\n      <td>31.0</td>\n      <td>0</td>\n      <td>46.0</td>\n      <td>1935.0</td>\n      <td>0.0</td>\n      <td>995.0</td>\n      <td>1254.0</td>\n      <td>Unukath Tiouserful</td>\n      <td>0</td>\n    </tr>\n    <tr>\n      <th>5786</th>\n      <td>6128_02</td>\n      <td>Earth</td>\n      <td>0</td>\n      <td>16.0</td>\n      <td>0</td>\n      <td>7.0</td>\n      <td>0.0</td>\n      <td>311.0</td>\n      <td>0.0</td>\n      <td>683.0</td>\n      <td>Belly Serry</td>\n      <td>0</td>\n    </tr>\n    <tr>\n      <th>5021</th>\n      <td>5365_01</td>\n      <td>Earth</td>\n      <td>0</td>\n      <td>60.0</td>\n      <td>0</td>\n      <td>943.0</td>\n      <td>53.0</td>\n      <td>0.0</td>\n      <td>0.0</td>\n      <td>0.0</td>\n      <td>Pristy Whiters</td>\n      <td>0</td>\n    </tr>\n    <tr>\n      <th>3438</th>\n      <td>3706_02</td>\n      <td>Mars</td>\n      <td>0</td>\n      <td>18.0</td>\n      <td>0</td>\n      <td>131.0</td>\n      <td>0.0</td>\n      <td>980.0</td>\n      <td>1.0</td>\n      <td>0.0</td>\n      <td>Honda Kidie</td>\n      <td>1</td>\n    </tr>\n  </tbody>\n</table>\n<p>3000 rows × 12 columns</p>\n</div>"
     },
     "execution_count": 211,
     "metadata": {},
     "output_type": "execute_result"
    }
   ],
   "source": [
    "#на рандомной выборке делаем предсказание\n",
    "df_rand"
   ],
   "metadata": {
    "collapsed": false,
    "ExecuteTime": {
     "start_time": "2023-05-28T20:25:34.056214Z",
     "end_time": "2023-05-28T20:25:34.109102Z"
    }
   }
  },
  {
   "cell_type": "code",
   "execution_count": 212,
   "outputs": [
    {
     "data": {
      "text/plain": "     PassengerId HomePlanet  CryoSleep   Age  VIP  RoomService  FoodCourt  \\\n2127     2280_01     Europa          0  18.0    0         20.0     1064.0   \n2700     2892_03      Earth          1   0.0    0          0.0        0.0   \n8127     8681_02       Mars          0   1.0    0          0.0        0.0   \n2821     3042_01      Earth          0  30.0    0          0.0        0.0   \n2176     2325_01      Earth          1  22.0    0          0.0        0.0   \n...          ...        ...        ...   ...  ...          ...        ...   \n5315     5681_01      Earth          1  66.0    0          0.0        0.0   \n2038     2182_01     Europa          0  31.0    0         46.0     1935.0   \n5786     6128_02      Earth          0  16.0    0          7.0        0.0   \n5021     5365_01      Earth          0  60.0    0        943.0       53.0   \n3438     3706_02       Mars          0  18.0    0        131.0        0.0   \n\n      ShoppingMall    Spa   VRDeck                Name  \n2127           0.0    0.0  11643.0      Lesat Femoused  \n2700           0.0    0.0      0.0     Sharie Gallenry  \n8127           0.0    0.0      0.0         Rionk Facle  \n2821         301.0    0.0    437.0      Maya Mejiaddox  \n2176           0.0    0.0      0.0      Kimmie Hurchez  \n...            ...    ...      ...                 ...  \n5315           0.0    0.0      0.0        Jodip Ellson  \n2038           0.0  995.0   1254.0  Unukath Tiouserful  \n5786         311.0    0.0    683.0         Belly Serry  \n5021           0.0    0.0      0.0      Pristy Whiters  \n3438         980.0    1.0      0.0         Honda Kidie  \n\n[3000 rows x 11 columns]",
      "text/html": "<div>\n<style scoped>\n    .dataframe tbody tr th:only-of-type {\n        vertical-align: middle;\n    }\n\n    .dataframe tbody tr th {\n        vertical-align: top;\n    }\n\n    .dataframe thead th {\n        text-align: right;\n    }\n</style>\n<table border=\"1\" class=\"dataframe\">\n  <thead>\n    <tr style=\"text-align: right;\">\n      <th></th>\n      <th>PassengerId</th>\n      <th>HomePlanet</th>\n      <th>CryoSleep</th>\n      <th>Age</th>\n      <th>VIP</th>\n      <th>RoomService</th>\n      <th>FoodCourt</th>\n      <th>ShoppingMall</th>\n      <th>Spa</th>\n      <th>VRDeck</th>\n      <th>Name</th>\n    </tr>\n  </thead>\n  <tbody>\n    <tr>\n      <th>2127</th>\n      <td>2280_01</td>\n      <td>Europa</td>\n      <td>0</td>\n      <td>18.0</td>\n      <td>0</td>\n      <td>20.0</td>\n      <td>1064.0</td>\n      <td>0.0</td>\n      <td>0.0</td>\n      <td>11643.0</td>\n      <td>Lesat Femoused</td>\n    </tr>\n    <tr>\n      <th>2700</th>\n      <td>2892_03</td>\n      <td>Earth</td>\n      <td>1</td>\n      <td>0.0</td>\n      <td>0</td>\n      <td>0.0</td>\n      <td>0.0</td>\n      <td>0.0</td>\n      <td>0.0</td>\n      <td>0.0</td>\n      <td>Sharie Gallenry</td>\n    </tr>\n    <tr>\n      <th>8127</th>\n      <td>8681_02</td>\n      <td>Mars</td>\n      <td>0</td>\n      <td>1.0</td>\n      <td>0</td>\n      <td>0.0</td>\n      <td>0.0</td>\n      <td>0.0</td>\n      <td>0.0</td>\n      <td>0.0</td>\n      <td>Rionk Facle</td>\n    </tr>\n    <tr>\n      <th>2821</th>\n      <td>3042_01</td>\n      <td>Earth</td>\n      <td>0</td>\n      <td>30.0</td>\n      <td>0</td>\n      <td>0.0</td>\n      <td>0.0</td>\n      <td>301.0</td>\n      <td>0.0</td>\n      <td>437.0</td>\n      <td>Maya Mejiaddox</td>\n    </tr>\n    <tr>\n      <th>2176</th>\n      <td>2325_01</td>\n      <td>Earth</td>\n      <td>1</td>\n      <td>22.0</td>\n      <td>0</td>\n      <td>0.0</td>\n      <td>0.0</td>\n      <td>0.0</td>\n      <td>0.0</td>\n      <td>0.0</td>\n      <td>Kimmie Hurchez</td>\n    </tr>\n    <tr>\n      <th>...</th>\n      <td>...</td>\n      <td>...</td>\n      <td>...</td>\n      <td>...</td>\n      <td>...</td>\n      <td>...</td>\n      <td>...</td>\n      <td>...</td>\n      <td>...</td>\n      <td>...</td>\n      <td>...</td>\n    </tr>\n    <tr>\n      <th>5315</th>\n      <td>5681_01</td>\n      <td>Earth</td>\n      <td>1</td>\n      <td>66.0</td>\n      <td>0</td>\n      <td>0.0</td>\n      <td>0.0</td>\n      <td>0.0</td>\n      <td>0.0</td>\n      <td>0.0</td>\n      <td>Jodip Ellson</td>\n    </tr>\n    <tr>\n      <th>2038</th>\n      <td>2182_01</td>\n      <td>Europa</td>\n      <td>0</td>\n      <td>31.0</td>\n      <td>0</td>\n      <td>46.0</td>\n      <td>1935.0</td>\n      <td>0.0</td>\n      <td>995.0</td>\n      <td>1254.0</td>\n      <td>Unukath Tiouserful</td>\n    </tr>\n    <tr>\n      <th>5786</th>\n      <td>6128_02</td>\n      <td>Earth</td>\n      <td>0</td>\n      <td>16.0</td>\n      <td>0</td>\n      <td>7.0</td>\n      <td>0.0</td>\n      <td>311.0</td>\n      <td>0.0</td>\n      <td>683.0</td>\n      <td>Belly Serry</td>\n    </tr>\n    <tr>\n      <th>5021</th>\n      <td>5365_01</td>\n      <td>Earth</td>\n      <td>0</td>\n      <td>60.0</td>\n      <td>0</td>\n      <td>943.0</td>\n      <td>53.0</td>\n      <td>0.0</td>\n      <td>0.0</td>\n      <td>0.0</td>\n      <td>Pristy Whiters</td>\n    </tr>\n    <tr>\n      <th>3438</th>\n      <td>3706_02</td>\n      <td>Mars</td>\n      <td>0</td>\n      <td>18.0</td>\n      <td>0</td>\n      <td>131.0</td>\n      <td>0.0</td>\n      <td>980.0</td>\n      <td>1.0</td>\n      <td>0.0</td>\n      <td>Honda Kidie</td>\n    </tr>\n  </tbody>\n</table>\n<p>3000 rows × 11 columns</p>\n</div>"
     },
     "execution_count": 212,
     "metadata": {},
     "output_type": "execute_result"
    }
   ],
   "source": [
    "df_rand.drop(\"Transported\", axis=1) #убираем факт"
   ],
   "metadata": {
    "collapsed": false,
    "ExecuteTime": {
     "start_time": "2023-05-28T20:25:38.929551Z",
     "end_time": "2023-05-28T20:25:38.979413Z"
    }
   }
  },
  {
   "cell_type": "code",
   "execution_count": 101,
   "outputs": [],
   "source": [
    "#вероятность транспортировки по признаку \"Креосон\"\n",
    "def probability_cryosleep(df_rand):\n",
    "    if df_rand[\"CryoSleep\"] == 1:\n",
    "        val = 0.8186\n",
    "    else:\n",
    "        val = 0.1814\n",
    "    return val"
   ],
   "metadata": {
    "collapsed": false,
    "ExecuteTime": {
     "start_time": "2023-05-28T16:15:41.355061Z",
     "end_time": "2023-05-28T16:15:41.375426Z"
    }
   }
  },
  {
   "cell_type": "code",
   "execution_count": 213,
   "outputs": [],
   "source": [
    "df_rand[\"Probability_cryosleep\"] = df_rand.apply(probability_cryosleep, axis=1)"
   ],
   "metadata": {
    "collapsed": false,
    "ExecuteTime": {
     "start_time": "2023-05-28T20:25:44.588309Z",
     "end_time": "2023-05-28T20:25:44.610994Z"
    }
   }
  },
  {
   "cell_type": "code",
   "execution_count": 179,
   "outputs": [],
   "source": [
    "#вероятность транспортировки по признаку \"Дом\"\n",
    "def probability_home(df_rand):\n",
    "    if df_rand[\"HomePlanet\"] == \"Earth\":\n",
    "        val = 0.4280\n",
    "    elif df_rand[\"HomePlanet\"] == \"Europa\":\n",
    "        val = 0.6585\n",
    "    else:\n",
    "        val = 0.5233\n",
    "    return val"
   ],
   "metadata": {
    "collapsed": false,
    "ExecuteTime": {
     "start_time": "2023-05-28T19:37:13.648609Z",
     "end_time": "2023-05-28T19:37:13.679899Z"
    }
   }
  },
  {
   "cell_type": "code",
   "execution_count": 214,
   "outputs": [],
   "source": [
    "df_rand[\"Probability_home\"] = df_rand.apply(probability_home, axis=1)"
   ],
   "metadata": {
    "collapsed": false,
    "ExecuteTime": {
     "start_time": "2023-05-28T20:25:47.880737Z",
     "end_time": "2023-05-28T20:25:47.937616Z"
    }
   }
  },
  {
   "cell_type": "code",
   "execution_count": 215,
   "outputs": [
    {
     "data": {
      "text/plain": "     PassengerId HomePlanet  CryoSleep   Age  VIP  RoomService  FoodCourt  \\\n2127     2280_01     Europa          0  18.0    0         20.0     1064.0   \n2700     2892_03      Earth          1   0.0    0          0.0        0.0   \n8127     8681_02       Mars          0   1.0    0          0.0        0.0   \n2821     3042_01      Earth          0  30.0    0          0.0        0.0   \n2176     2325_01      Earth          1  22.0    0          0.0        0.0   \n...          ...        ...        ...   ...  ...          ...        ...   \n5315     5681_01      Earth          1  66.0    0          0.0        0.0   \n2038     2182_01     Europa          0  31.0    0         46.0     1935.0   \n5786     6128_02      Earth          0  16.0    0          7.0        0.0   \n5021     5365_01      Earth          0  60.0    0        943.0       53.0   \n3438     3706_02       Mars          0  18.0    0        131.0        0.0   \n\n      ShoppingMall    Spa   VRDeck                Name  Transported  \\\n2127           0.0    0.0  11643.0      Lesat Femoused            0   \n2700           0.0    0.0      0.0     Sharie Gallenry            1   \n8127           0.0    0.0      0.0         Rionk Facle            1   \n2821         301.0    0.0    437.0      Maya Mejiaddox            0   \n2176           0.0    0.0      0.0      Kimmie Hurchez            0   \n...            ...    ...      ...                 ...          ...   \n5315           0.0    0.0      0.0        Jodip Ellson            1   \n2038           0.0  995.0   1254.0  Unukath Tiouserful            0   \n5786         311.0    0.0    683.0         Belly Serry            0   \n5021           0.0    0.0      0.0      Pristy Whiters            0   \n3438         980.0    1.0      0.0         Honda Kidie            1   \n\n      Probability_cryosleep  Probability_home  \n2127                 0.1814            0.6585  \n2700                 0.8186            0.4280  \n8127                 0.1814            0.5233  \n2821                 0.1814            0.4280  \n2176                 0.8186            0.4280  \n...                     ...               ...  \n5315                 0.8186            0.4280  \n2038                 0.1814            0.6585  \n5786                 0.1814            0.4280  \n5021                 0.1814            0.4280  \n3438                 0.1814            0.5233  \n\n[3000 rows x 14 columns]",
      "text/html": "<div>\n<style scoped>\n    .dataframe tbody tr th:only-of-type {\n        vertical-align: middle;\n    }\n\n    .dataframe tbody tr th {\n        vertical-align: top;\n    }\n\n    .dataframe thead th {\n        text-align: right;\n    }\n</style>\n<table border=\"1\" class=\"dataframe\">\n  <thead>\n    <tr style=\"text-align: right;\">\n      <th></th>\n      <th>PassengerId</th>\n      <th>HomePlanet</th>\n      <th>CryoSleep</th>\n      <th>Age</th>\n      <th>VIP</th>\n      <th>RoomService</th>\n      <th>FoodCourt</th>\n      <th>ShoppingMall</th>\n      <th>Spa</th>\n      <th>VRDeck</th>\n      <th>Name</th>\n      <th>Transported</th>\n      <th>Probability_cryosleep</th>\n      <th>Probability_home</th>\n    </tr>\n  </thead>\n  <tbody>\n    <tr>\n      <th>2127</th>\n      <td>2280_01</td>\n      <td>Europa</td>\n      <td>0</td>\n      <td>18.0</td>\n      <td>0</td>\n      <td>20.0</td>\n      <td>1064.0</td>\n      <td>0.0</td>\n      <td>0.0</td>\n      <td>11643.0</td>\n      <td>Lesat Femoused</td>\n      <td>0</td>\n      <td>0.1814</td>\n      <td>0.6585</td>\n    </tr>\n    <tr>\n      <th>2700</th>\n      <td>2892_03</td>\n      <td>Earth</td>\n      <td>1</td>\n      <td>0.0</td>\n      <td>0</td>\n      <td>0.0</td>\n      <td>0.0</td>\n      <td>0.0</td>\n      <td>0.0</td>\n      <td>0.0</td>\n      <td>Sharie Gallenry</td>\n      <td>1</td>\n      <td>0.8186</td>\n      <td>0.4280</td>\n    </tr>\n    <tr>\n      <th>8127</th>\n      <td>8681_02</td>\n      <td>Mars</td>\n      <td>0</td>\n      <td>1.0</td>\n      <td>0</td>\n      <td>0.0</td>\n      <td>0.0</td>\n      <td>0.0</td>\n      <td>0.0</td>\n      <td>0.0</td>\n      <td>Rionk Facle</td>\n      <td>1</td>\n      <td>0.1814</td>\n      <td>0.5233</td>\n    </tr>\n    <tr>\n      <th>2821</th>\n      <td>3042_01</td>\n      <td>Earth</td>\n      <td>0</td>\n      <td>30.0</td>\n      <td>0</td>\n      <td>0.0</td>\n      <td>0.0</td>\n      <td>301.0</td>\n      <td>0.0</td>\n      <td>437.0</td>\n      <td>Maya Mejiaddox</td>\n      <td>0</td>\n      <td>0.1814</td>\n      <td>0.4280</td>\n    </tr>\n    <tr>\n      <th>2176</th>\n      <td>2325_01</td>\n      <td>Earth</td>\n      <td>1</td>\n      <td>22.0</td>\n      <td>0</td>\n      <td>0.0</td>\n      <td>0.0</td>\n      <td>0.0</td>\n      <td>0.0</td>\n      <td>0.0</td>\n      <td>Kimmie Hurchez</td>\n      <td>0</td>\n      <td>0.8186</td>\n      <td>0.4280</td>\n    </tr>\n    <tr>\n      <th>...</th>\n      <td>...</td>\n      <td>...</td>\n      <td>...</td>\n      <td>...</td>\n      <td>...</td>\n      <td>...</td>\n      <td>...</td>\n      <td>...</td>\n      <td>...</td>\n      <td>...</td>\n      <td>...</td>\n      <td>...</td>\n      <td>...</td>\n      <td>...</td>\n    </tr>\n    <tr>\n      <th>5315</th>\n      <td>5681_01</td>\n      <td>Earth</td>\n      <td>1</td>\n      <td>66.0</td>\n      <td>0</td>\n      <td>0.0</td>\n      <td>0.0</td>\n      <td>0.0</td>\n      <td>0.0</td>\n      <td>0.0</td>\n      <td>Jodip Ellson</td>\n      <td>1</td>\n      <td>0.8186</td>\n      <td>0.4280</td>\n    </tr>\n    <tr>\n      <th>2038</th>\n      <td>2182_01</td>\n      <td>Europa</td>\n      <td>0</td>\n      <td>31.0</td>\n      <td>0</td>\n      <td>46.0</td>\n      <td>1935.0</td>\n      <td>0.0</td>\n      <td>995.0</td>\n      <td>1254.0</td>\n      <td>Unukath Tiouserful</td>\n      <td>0</td>\n      <td>0.1814</td>\n      <td>0.6585</td>\n    </tr>\n    <tr>\n      <th>5786</th>\n      <td>6128_02</td>\n      <td>Earth</td>\n      <td>0</td>\n      <td>16.0</td>\n      <td>0</td>\n      <td>7.0</td>\n      <td>0.0</td>\n      <td>311.0</td>\n      <td>0.0</td>\n      <td>683.0</td>\n      <td>Belly Serry</td>\n      <td>0</td>\n      <td>0.1814</td>\n      <td>0.4280</td>\n    </tr>\n    <tr>\n      <th>5021</th>\n      <td>5365_01</td>\n      <td>Earth</td>\n      <td>0</td>\n      <td>60.0</td>\n      <td>0</td>\n      <td>943.0</td>\n      <td>53.0</td>\n      <td>0.0</td>\n      <td>0.0</td>\n      <td>0.0</td>\n      <td>Pristy Whiters</td>\n      <td>0</td>\n      <td>0.1814</td>\n      <td>0.4280</td>\n    </tr>\n    <tr>\n      <th>3438</th>\n      <td>3706_02</td>\n      <td>Mars</td>\n      <td>0</td>\n      <td>18.0</td>\n      <td>0</td>\n      <td>131.0</td>\n      <td>0.0</td>\n      <td>980.0</td>\n      <td>1.0</td>\n      <td>0.0</td>\n      <td>Honda Kidie</td>\n      <td>1</td>\n      <td>0.1814</td>\n      <td>0.5233</td>\n    </tr>\n  </tbody>\n</table>\n<p>3000 rows × 14 columns</p>\n</div>"
     },
     "execution_count": 215,
     "metadata": {},
     "output_type": "execute_result"
    }
   ],
   "source": [
    "df_rand"
   ],
   "metadata": {
    "collapsed": false,
    "ExecuteTime": {
     "start_time": "2023-05-28T20:25:53.690925Z",
     "end_time": "2023-05-28T20:25:53.762149Z"
    }
   }
  },
  {
   "cell_type": "code",
   "execution_count": 164,
   "outputs": [],
   "source": [
    "#df_rand = df_rand.merge(df_age_tr, how=\"left\", on=\"Age\")"
   ],
   "metadata": {
    "collapsed": false,
    "ExecuteTime": {
     "start_time": "2023-05-28T17:27:57.261646Z",
     "end_time": "2023-05-28T17:27:57.283169Z"
    }
   }
  },
  {
   "cell_type": "code",
   "execution_count": 171,
   "outputs": [],
   "source": [
    "#df_rand = df_rand.drop(\"Probability_age_x\", axis=1)\n",
    "#df_rand = df_rand.drop(\"Probability_age_y\", axis=1)"
   ],
   "metadata": {
    "collapsed": false,
    "ExecuteTime": {
     "start_time": "2023-05-28T17:30:50.964995Z",
     "end_time": "2023-05-28T17:30:50.990349Z"
    }
   }
  },
  {
   "cell_type": "code",
   "execution_count": 216,
   "outputs": [],
   "source": [
    "def transp_predict(df_rand):\n",
    "    if (df_rand[\"Probability_cryosleep\"] + df_rand[\"Probability_home\"]) / 2 > 0.5:\n",
    "        val = 1\n",
    "    else:\n",
    "        val = 0\n",
    "    return val"
   ],
   "metadata": {
    "collapsed": false,
    "ExecuteTime": {
     "start_time": "2023-05-28T20:26:20.613115Z",
     "end_time": "2023-05-28T20:26:20.634379Z"
    }
   }
  },
  {
   "cell_type": "code",
   "execution_count": 217,
   "outputs": [],
   "source": [
    "df_rand[\"Transported_predict\"] = df_rand.apply(transp_predict, axis=1)"
   ],
   "metadata": {
    "collapsed": false,
    "ExecuteTime": {
     "start_time": "2023-05-28T20:26:24.309436Z",
     "end_time": "2023-05-28T20:26:24.365990Z"
    }
   }
  },
  {
   "cell_type": "code",
   "execution_count": 218,
   "outputs": [
    {
     "data": {
      "text/plain": "     PassengerId HomePlanet  CryoSleep   Age  VIP  RoomService  FoodCourt  \\\n2127     2280_01     Europa          0  18.0    0         20.0     1064.0   \n2700     2892_03      Earth          1   0.0    0          0.0        0.0   \n8127     8681_02       Mars          0   1.0    0          0.0        0.0   \n2821     3042_01      Earth          0  30.0    0          0.0        0.0   \n2176     2325_01      Earth          1  22.0    0          0.0        0.0   \n...          ...        ...        ...   ...  ...          ...        ...   \n5315     5681_01      Earth          1  66.0    0          0.0        0.0   \n2038     2182_01     Europa          0  31.0    0         46.0     1935.0   \n5786     6128_02      Earth          0  16.0    0          7.0        0.0   \n5021     5365_01      Earth          0  60.0    0        943.0       53.0   \n3438     3706_02       Mars          0  18.0    0        131.0        0.0   \n\n      ShoppingMall    Spa   VRDeck                Name  Transported  \\\n2127           0.0    0.0  11643.0      Lesat Femoused            0   \n2700           0.0    0.0      0.0     Sharie Gallenry            1   \n8127           0.0    0.0      0.0         Rionk Facle            1   \n2821         301.0    0.0    437.0      Maya Mejiaddox            0   \n2176           0.0    0.0      0.0      Kimmie Hurchez            0   \n...            ...    ...      ...                 ...          ...   \n5315           0.0    0.0      0.0        Jodip Ellson            1   \n2038           0.0  995.0   1254.0  Unukath Tiouserful            0   \n5786         311.0    0.0    683.0         Belly Serry            0   \n5021           0.0    0.0      0.0      Pristy Whiters            0   \n3438         980.0    1.0      0.0         Honda Kidie            1   \n\n      Probability_cryosleep  Probability_home  Transported_predict  \n2127                 0.1814            0.6585                    0  \n2700                 0.8186            0.4280                    1  \n8127                 0.1814            0.5233                    0  \n2821                 0.1814            0.4280                    0  \n2176                 0.8186            0.4280                    1  \n...                     ...               ...                  ...  \n5315                 0.8186            0.4280                    1  \n2038                 0.1814            0.6585                    0  \n5786                 0.1814            0.4280                    0  \n5021                 0.1814            0.4280                    0  \n3438                 0.1814            0.5233                    0  \n\n[3000 rows x 15 columns]",
      "text/html": "<div>\n<style scoped>\n    .dataframe tbody tr th:only-of-type {\n        vertical-align: middle;\n    }\n\n    .dataframe tbody tr th {\n        vertical-align: top;\n    }\n\n    .dataframe thead th {\n        text-align: right;\n    }\n</style>\n<table border=\"1\" class=\"dataframe\">\n  <thead>\n    <tr style=\"text-align: right;\">\n      <th></th>\n      <th>PassengerId</th>\n      <th>HomePlanet</th>\n      <th>CryoSleep</th>\n      <th>Age</th>\n      <th>VIP</th>\n      <th>RoomService</th>\n      <th>FoodCourt</th>\n      <th>ShoppingMall</th>\n      <th>Spa</th>\n      <th>VRDeck</th>\n      <th>Name</th>\n      <th>Transported</th>\n      <th>Probability_cryosleep</th>\n      <th>Probability_home</th>\n      <th>Transported_predict</th>\n    </tr>\n  </thead>\n  <tbody>\n    <tr>\n      <th>2127</th>\n      <td>2280_01</td>\n      <td>Europa</td>\n      <td>0</td>\n      <td>18.0</td>\n      <td>0</td>\n      <td>20.0</td>\n      <td>1064.0</td>\n      <td>0.0</td>\n      <td>0.0</td>\n      <td>11643.0</td>\n      <td>Lesat Femoused</td>\n      <td>0</td>\n      <td>0.1814</td>\n      <td>0.6585</td>\n      <td>0</td>\n    </tr>\n    <tr>\n      <th>2700</th>\n      <td>2892_03</td>\n      <td>Earth</td>\n      <td>1</td>\n      <td>0.0</td>\n      <td>0</td>\n      <td>0.0</td>\n      <td>0.0</td>\n      <td>0.0</td>\n      <td>0.0</td>\n      <td>0.0</td>\n      <td>Sharie Gallenry</td>\n      <td>1</td>\n      <td>0.8186</td>\n      <td>0.4280</td>\n      <td>1</td>\n    </tr>\n    <tr>\n      <th>8127</th>\n      <td>8681_02</td>\n      <td>Mars</td>\n      <td>0</td>\n      <td>1.0</td>\n      <td>0</td>\n      <td>0.0</td>\n      <td>0.0</td>\n      <td>0.0</td>\n      <td>0.0</td>\n      <td>0.0</td>\n      <td>Rionk Facle</td>\n      <td>1</td>\n      <td>0.1814</td>\n      <td>0.5233</td>\n      <td>0</td>\n    </tr>\n    <tr>\n      <th>2821</th>\n      <td>3042_01</td>\n      <td>Earth</td>\n      <td>0</td>\n      <td>30.0</td>\n      <td>0</td>\n      <td>0.0</td>\n      <td>0.0</td>\n      <td>301.0</td>\n      <td>0.0</td>\n      <td>437.0</td>\n      <td>Maya Mejiaddox</td>\n      <td>0</td>\n      <td>0.1814</td>\n      <td>0.4280</td>\n      <td>0</td>\n    </tr>\n    <tr>\n      <th>2176</th>\n      <td>2325_01</td>\n      <td>Earth</td>\n      <td>1</td>\n      <td>22.0</td>\n      <td>0</td>\n      <td>0.0</td>\n      <td>0.0</td>\n      <td>0.0</td>\n      <td>0.0</td>\n      <td>0.0</td>\n      <td>Kimmie Hurchez</td>\n      <td>0</td>\n      <td>0.8186</td>\n      <td>0.4280</td>\n      <td>1</td>\n    </tr>\n    <tr>\n      <th>...</th>\n      <td>...</td>\n      <td>...</td>\n      <td>...</td>\n      <td>...</td>\n      <td>...</td>\n      <td>...</td>\n      <td>...</td>\n      <td>...</td>\n      <td>...</td>\n      <td>...</td>\n      <td>...</td>\n      <td>...</td>\n      <td>...</td>\n      <td>...</td>\n      <td>...</td>\n    </tr>\n    <tr>\n      <th>5315</th>\n      <td>5681_01</td>\n      <td>Earth</td>\n      <td>1</td>\n      <td>66.0</td>\n      <td>0</td>\n      <td>0.0</td>\n      <td>0.0</td>\n      <td>0.0</td>\n      <td>0.0</td>\n      <td>0.0</td>\n      <td>Jodip Ellson</td>\n      <td>1</td>\n      <td>0.8186</td>\n      <td>0.4280</td>\n      <td>1</td>\n    </tr>\n    <tr>\n      <th>2038</th>\n      <td>2182_01</td>\n      <td>Europa</td>\n      <td>0</td>\n      <td>31.0</td>\n      <td>0</td>\n      <td>46.0</td>\n      <td>1935.0</td>\n      <td>0.0</td>\n      <td>995.0</td>\n      <td>1254.0</td>\n      <td>Unukath Tiouserful</td>\n      <td>0</td>\n      <td>0.1814</td>\n      <td>0.6585</td>\n      <td>0</td>\n    </tr>\n    <tr>\n      <th>5786</th>\n      <td>6128_02</td>\n      <td>Earth</td>\n      <td>0</td>\n      <td>16.0</td>\n      <td>0</td>\n      <td>7.0</td>\n      <td>0.0</td>\n      <td>311.0</td>\n      <td>0.0</td>\n      <td>683.0</td>\n      <td>Belly Serry</td>\n      <td>0</td>\n      <td>0.1814</td>\n      <td>0.4280</td>\n      <td>0</td>\n    </tr>\n    <tr>\n      <th>5021</th>\n      <td>5365_01</td>\n      <td>Earth</td>\n      <td>0</td>\n      <td>60.0</td>\n      <td>0</td>\n      <td>943.0</td>\n      <td>53.0</td>\n      <td>0.0</td>\n      <td>0.0</td>\n      <td>0.0</td>\n      <td>Pristy Whiters</td>\n      <td>0</td>\n      <td>0.1814</td>\n      <td>0.4280</td>\n      <td>0</td>\n    </tr>\n    <tr>\n      <th>3438</th>\n      <td>3706_02</td>\n      <td>Mars</td>\n      <td>0</td>\n      <td>18.0</td>\n      <td>0</td>\n      <td>131.0</td>\n      <td>0.0</td>\n      <td>980.0</td>\n      <td>1.0</td>\n      <td>0.0</td>\n      <td>Honda Kidie</td>\n      <td>1</td>\n      <td>0.1814</td>\n      <td>0.5233</td>\n      <td>0</td>\n    </tr>\n  </tbody>\n</table>\n<p>3000 rows × 15 columns</p>\n</div>"
     },
     "execution_count": 218,
     "metadata": {},
     "output_type": "execute_result"
    }
   ],
   "source": [
    "df_rand"
   ],
   "metadata": {
    "collapsed": false,
    "ExecuteTime": {
     "start_time": "2023-05-28T20:26:27.133551Z",
     "end_time": "2023-05-28T20:26:27.165763Z"
    }
   }
  },
  {
   "cell_type": "code",
   "execution_count": 219,
   "outputs": [],
   "source": [
    "df_rand = df_rand.merge(df[[\"PassengerId\", \"Transported\"]], how=\"left\", on=\"PassengerId\")"
   ],
   "metadata": {
    "collapsed": false,
    "ExecuteTime": {
     "start_time": "2023-05-28T20:26:38.904971Z",
     "end_time": "2023-05-28T20:26:38.948880Z"
    }
   }
  },
  {
   "cell_type": "code",
   "execution_count": 220,
   "outputs": [],
   "source": [
    "def compare(df_rand):\n",
    "    if df_rand[\"Transported_predict\"] == df_rand[\"Transported_y\"]:\n",
    "        val = 1\n",
    "    else:\n",
    "        val = 0\n",
    "    return val"
   ],
   "metadata": {
    "collapsed": false,
    "ExecuteTime": {
     "start_time": "2023-05-28T20:26:41.571059Z",
     "end_time": "2023-05-28T20:26:41.598074Z"
    }
   }
  },
  {
   "cell_type": "code",
   "execution_count": 221,
   "outputs": [],
   "source": [
    "df_rand[\"Compare\"] = df_rand.apply(compare, axis=1)"
   ],
   "metadata": {
    "collapsed": false,
    "ExecuteTime": {
     "start_time": "2023-05-28T20:26:44.755574Z",
     "end_time": "2023-05-28T20:26:44.820241Z"
    }
   }
  },
  {
   "cell_type": "code",
   "execution_count": 222,
   "outputs": [
    {
     "data": {
      "text/plain": "     PassengerId HomePlanet  CryoSleep   Age  VIP  RoomService  FoodCourt  \\\n0        2280_01     Europa          0  18.0    0         20.0     1064.0   \n1        2892_03      Earth          1   0.0    0          0.0        0.0   \n2        8681_02       Mars          0   1.0    0          0.0        0.0   \n3        3042_01      Earth          0  30.0    0          0.0        0.0   \n4        2325_01      Earth          1  22.0    0          0.0        0.0   \n...          ...        ...        ...   ...  ...          ...        ...   \n2995     5681_01      Earth          1  66.0    0          0.0        0.0   \n2996     2182_01     Europa          0  31.0    0         46.0     1935.0   \n2997     6128_02      Earth          0  16.0    0          7.0        0.0   \n2998     5365_01      Earth          0  60.0    0        943.0       53.0   \n2999     3706_02       Mars          0  18.0    0        131.0        0.0   \n\n      ShoppingMall    Spa   VRDeck                Name  Transported_x  \\\n0              0.0    0.0  11643.0      Lesat Femoused              0   \n1              0.0    0.0      0.0     Sharie Gallenry              1   \n2              0.0    0.0      0.0         Rionk Facle              1   \n3            301.0    0.0    437.0      Maya Mejiaddox              0   \n4              0.0    0.0      0.0      Kimmie Hurchez              0   \n...            ...    ...      ...                 ...            ...   \n2995           0.0    0.0      0.0        Jodip Ellson              1   \n2996           0.0  995.0   1254.0  Unukath Tiouserful              0   \n2997         311.0    0.0    683.0         Belly Serry              0   \n2998           0.0    0.0      0.0      Pristy Whiters              0   \n2999         980.0    1.0      0.0         Honda Kidie              1   \n\n      Probability_cryosleep  Probability_home  Transported_predict  \\\n0                    0.1814            0.6585                    0   \n1                    0.8186            0.4280                    1   \n2                    0.1814            0.5233                    0   \n3                    0.1814            0.4280                    0   \n4                    0.8186            0.4280                    1   \n...                     ...               ...                  ...   \n2995                 0.8186            0.4280                    1   \n2996                 0.1814            0.6585                    0   \n2997                 0.1814            0.4280                    0   \n2998                 0.1814            0.4280                    0   \n2999                 0.1814            0.5233                    0   \n\n      Transported_y  Compare  \n0                 0        1  \n1                 1        1  \n2                 1        0  \n3                 0        1  \n4                 0        0  \n...             ...      ...  \n2995              1        1  \n2996              0        1  \n2997              0        1  \n2998              0        1  \n2999              1        0  \n\n[3000 rows x 17 columns]",
      "text/html": "<div>\n<style scoped>\n    .dataframe tbody tr th:only-of-type {\n        vertical-align: middle;\n    }\n\n    .dataframe tbody tr th {\n        vertical-align: top;\n    }\n\n    .dataframe thead th {\n        text-align: right;\n    }\n</style>\n<table border=\"1\" class=\"dataframe\">\n  <thead>\n    <tr style=\"text-align: right;\">\n      <th></th>\n      <th>PassengerId</th>\n      <th>HomePlanet</th>\n      <th>CryoSleep</th>\n      <th>Age</th>\n      <th>VIP</th>\n      <th>RoomService</th>\n      <th>FoodCourt</th>\n      <th>ShoppingMall</th>\n      <th>Spa</th>\n      <th>VRDeck</th>\n      <th>Name</th>\n      <th>Transported_x</th>\n      <th>Probability_cryosleep</th>\n      <th>Probability_home</th>\n      <th>Transported_predict</th>\n      <th>Transported_y</th>\n      <th>Compare</th>\n    </tr>\n  </thead>\n  <tbody>\n    <tr>\n      <th>0</th>\n      <td>2280_01</td>\n      <td>Europa</td>\n      <td>0</td>\n      <td>18.0</td>\n      <td>0</td>\n      <td>20.0</td>\n      <td>1064.0</td>\n      <td>0.0</td>\n      <td>0.0</td>\n      <td>11643.0</td>\n      <td>Lesat Femoused</td>\n      <td>0</td>\n      <td>0.1814</td>\n      <td>0.6585</td>\n      <td>0</td>\n      <td>0</td>\n      <td>1</td>\n    </tr>\n    <tr>\n      <th>1</th>\n      <td>2892_03</td>\n      <td>Earth</td>\n      <td>1</td>\n      <td>0.0</td>\n      <td>0</td>\n      <td>0.0</td>\n      <td>0.0</td>\n      <td>0.0</td>\n      <td>0.0</td>\n      <td>0.0</td>\n      <td>Sharie Gallenry</td>\n      <td>1</td>\n      <td>0.8186</td>\n      <td>0.4280</td>\n      <td>1</td>\n      <td>1</td>\n      <td>1</td>\n    </tr>\n    <tr>\n      <th>2</th>\n      <td>8681_02</td>\n      <td>Mars</td>\n      <td>0</td>\n      <td>1.0</td>\n      <td>0</td>\n      <td>0.0</td>\n      <td>0.0</td>\n      <td>0.0</td>\n      <td>0.0</td>\n      <td>0.0</td>\n      <td>Rionk Facle</td>\n      <td>1</td>\n      <td>0.1814</td>\n      <td>0.5233</td>\n      <td>0</td>\n      <td>1</td>\n      <td>0</td>\n    </tr>\n    <tr>\n      <th>3</th>\n      <td>3042_01</td>\n      <td>Earth</td>\n      <td>0</td>\n      <td>30.0</td>\n      <td>0</td>\n      <td>0.0</td>\n      <td>0.0</td>\n      <td>301.0</td>\n      <td>0.0</td>\n      <td>437.0</td>\n      <td>Maya Mejiaddox</td>\n      <td>0</td>\n      <td>0.1814</td>\n      <td>0.4280</td>\n      <td>0</td>\n      <td>0</td>\n      <td>1</td>\n    </tr>\n    <tr>\n      <th>4</th>\n      <td>2325_01</td>\n      <td>Earth</td>\n      <td>1</td>\n      <td>22.0</td>\n      <td>0</td>\n      <td>0.0</td>\n      <td>0.0</td>\n      <td>0.0</td>\n      <td>0.0</td>\n      <td>0.0</td>\n      <td>Kimmie Hurchez</td>\n      <td>0</td>\n      <td>0.8186</td>\n      <td>0.4280</td>\n      <td>1</td>\n      <td>0</td>\n      <td>0</td>\n    </tr>\n    <tr>\n      <th>...</th>\n      <td>...</td>\n      <td>...</td>\n      <td>...</td>\n      <td>...</td>\n      <td>...</td>\n      <td>...</td>\n      <td>...</td>\n      <td>...</td>\n      <td>...</td>\n      <td>...</td>\n      <td>...</td>\n      <td>...</td>\n      <td>...</td>\n      <td>...</td>\n      <td>...</td>\n      <td>...</td>\n      <td>...</td>\n    </tr>\n    <tr>\n      <th>2995</th>\n      <td>5681_01</td>\n      <td>Earth</td>\n      <td>1</td>\n      <td>66.0</td>\n      <td>0</td>\n      <td>0.0</td>\n      <td>0.0</td>\n      <td>0.0</td>\n      <td>0.0</td>\n      <td>0.0</td>\n      <td>Jodip Ellson</td>\n      <td>1</td>\n      <td>0.8186</td>\n      <td>0.4280</td>\n      <td>1</td>\n      <td>1</td>\n      <td>1</td>\n    </tr>\n    <tr>\n      <th>2996</th>\n      <td>2182_01</td>\n      <td>Europa</td>\n      <td>0</td>\n      <td>31.0</td>\n      <td>0</td>\n      <td>46.0</td>\n      <td>1935.0</td>\n      <td>0.0</td>\n      <td>995.0</td>\n      <td>1254.0</td>\n      <td>Unukath Tiouserful</td>\n      <td>0</td>\n      <td>0.1814</td>\n      <td>0.6585</td>\n      <td>0</td>\n      <td>0</td>\n      <td>1</td>\n    </tr>\n    <tr>\n      <th>2997</th>\n      <td>6128_02</td>\n      <td>Earth</td>\n      <td>0</td>\n      <td>16.0</td>\n      <td>0</td>\n      <td>7.0</td>\n      <td>0.0</td>\n      <td>311.0</td>\n      <td>0.0</td>\n      <td>683.0</td>\n      <td>Belly Serry</td>\n      <td>0</td>\n      <td>0.1814</td>\n      <td>0.4280</td>\n      <td>0</td>\n      <td>0</td>\n      <td>1</td>\n    </tr>\n    <tr>\n      <th>2998</th>\n      <td>5365_01</td>\n      <td>Earth</td>\n      <td>0</td>\n      <td>60.0</td>\n      <td>0</td>\n      <td>943.0</td>\n      <td>53.0</td>\n      <td>0.0</td>\n      <td>0.0</td>\n      <td>0.0</td>\n      <td>Pristy Whiters</td>\n      <td>0</td>\n      <td>0.1814</td>\n      <td>0.4280</td>\n      <td>0</td>\n      <td>0</td>\n      <td>1</td>\n    </tr>\n    <tr>\n      <th>2999</th>\n      <td>3706_02</td>\n      <td>Mars</td>\n      <td>0</td>\n      <td>18.0</td>\n      <td>0</td>\n      <td>131.0</td>\n      <td>0.0</td>\n      <td>980.0</td>\n      <td>1.0</td>\n      <td>0.0</td>\n      <td>Honda Kidie</td>\n      <td>1</td>\n      <td>0.1814</td>\n      <td>0.5233</td>\n      <td>0</td>\n      <td>1</td>\n      <td>0</td>\n    </tr>\n  </tbody>\n</table>\n<p>3000 rows × 17 columns</p>\n</div>"
     },
     "execution_count": 222,
     "metadata": {},
     "output_type": "execute_result"
    }
   ],
   "source": [
    "df_rand"
   ],
   "metadata": {
    "collapsed": false,
    "ExecuteTime": {
     "start_time": "2023-05-28T20:26:51.312520Z",
     "end_time": "2023-05-28T20:26:51.329460Z"
    }
   }
  },
  {
   "cell_type": "code",
   "execution_count": 223,
   "outputs": [
    {
     "data": {
      "text/plain": "1    0.709\n0    0.291\nName: Compare, dtype: float64"
     },
     "execution_count": 223,
     "metadata": {},
     "output_type": "execute_result"
    }
   ],
   "source": [
    "#успешность предсказания\n",
    "#1 - есть совпадение, 0 - нет совпадения\n",
    "df_rand[\"Compare\"].value_counts(normalize=True)"
   ],
   "metadata": {
    "collapsed": false,
    "ExecuteTime": {
     "start_time": "2023-05-28T20:27:02.368429Z",
     "end_time": "2023-05-28T20:27:02.399227Z"
    }
   }
  }
 ],
 "metadata": {
  "kernelspec": {
   "display_name": "Python 3",
   "language": "python",
   "name": "python3"
  },
  "language_info": {
   "codemirror_mode": {
    "name": "ipython",
    "version": 2
   },
   "file_extension": ".py",
   "mimetype": "text/x-python",
   "name": "python",
   "nbconvert_exporter": "python",
   "pygments_lexer": "ipython2",
   "version": "2.7.6"
  }
 },
 "nbformat": 4,
 "nbformat_minor": 0
}
