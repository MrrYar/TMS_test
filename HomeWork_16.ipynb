{
 "cells": [
  {
   "cell_type": "markdown",
   "source": [
    "# Logistic Regression\n",
    "\n",
    "Task:\n",
    "Обучить логистическую регрессию. Выбрать из возможных вариантов преобразования признаков и регуляризаций наилучшую модель.\n",
    "Data = Insulin\n",
    "\n",
    "Pregnancies: Number of times pregnant\n",
    "Glucose: Plasma glucose concentration a 2 hours in an oral glucose tolerance test\n",
    "BloodPressure: Diastolic blood pressure (mm Hg)\n",
    "SkinThickness: Triceps skin fold thickness (mm)\n",
    "Insulin: 2-Hour serum insulin (mu U/ml)\n",
    "BMI: Body mass index (weight in kg/(height in m)^2)\n",
    "DiabetesPedigreeFunction: Diabetes pedigree function\n",
    "Age: Age (years)\n",
    "Outcome: Class variable (0 or 1)"
   ],
   "metadata": {
    "collapsed": false
   }
  },
  {
   "cell_type": "code",
   "execution_count": 64,
   "outputs": [],
   "source": [
    "import numpy as np\n",
    "import pandas as pd\n",
    "from sklearn.linear_model import LogisticRegression\n",
    "from sklearn.model_selection import train_test_split\n",
    "from sklearn.preprocessing import StandardScaler\n",
    "from sklearn.metrics import confusion_matrix\n",
    "from sklearn.metrics import classification_report\n",
    "import matplotlib.pyplot as plt\n",
    "import seaborn as sns\n",
    "import statsmodels.api as sm"
   ],
   "metadata": {
    "collapsed": false,
    "ExecuteTime": {
     "start_time": "2023-07-21T20:28:08.921068Z",
     "end_time": "2023-07-21T20:28:08.948024Z"
    }
   }
  },
  {
   "cell_type": "code",
   "execution_count": 65,
   "outputs": [],
   "source": [
    "# Загрузка данных диабет\n",
    "\n",
    "url = \"https://raw.githubusercontent.com/jbrownlee/Datasets/master/pima-indians-diabetes.data.csv\"\n",
    "names = ['Pregnancies', 'Glucose', 'BloodPressure', 'SkinThickness', 'Insulin', 'BMI', 'DiabetesPedigreeFunction', 'Age', 'Outcome']\n",
    "data = pd.read_csv(url, names=names)"
   ],
   "metadata": {
    "collapsed": false,
    "ExecuteTime": {
     "start_time": "2023-07-21T20:28:11.048611Z",
     "end_time": "2023-07-21T20:28:11.657287Z"
    }
   }
  },
  {
   "cell_type": "markdown",
   "source": [
    "## EDA"
   ],
   "metadata": {
    "collapsed": false
   }
  },
  {
   "cell_type": "code",
   "execution_count": 66,
   "outputs": [
    {
     "name": "stdout",
     "output_type": "stream",
     "text": [
      "<class 'pandas.core.frame.DataFrame'>\n",
      "RangeIndex: 768 entries, 0 to 767\n",
      "Data columns (total 9 columns):\n",
      " #   Column                    Non-Null Count  Dtype  \n",
      "---  ------                    --------------  -----  \n",
      " 0   Pregnancies               768 non-null    int64  \n",
      " 1   Glucose                   768 non-null    int64  \n",
      " 2   BloodPressure             768 non-null    int64  \n",
      " 3   SkinThickness             768 non-null    int64  \n",
      " 4   Insulin                   768 non-null    int64  \n",
      " 5   BMI                       768 non-null    float64\n",
      " 6   DiabetesPedigreeFunction  768 non-null    float64\n",
      " 7   Age                       768 non-null    int64  \n",
      " 8   Outcome                   768 non-null    int64  \n",
      "dtypes: float64(2), int64(7)\n",
      "memory usage: 54.1 KB\n"
     ]
    }
   ],
   "source": [
    "data.info()"
   ],
   "metadata": {
    "collapsed": false,
    "ExecuteTime": {
     "start_time": "2023-07-21T20:28:13.458773Z",
     "end_time": "2023-07-21T20:28:13.490003Z"
    }
   }
  },
  {
   "cell_type": "code",
   "execution_count": 67,
   "outputs": [
    {
     "data": {
      "text/plain": "   Pregnancies  Glucose  BloodPressure  SkinThickness  Insulin   BMI  \\\n0            6      148             72             35        0  33.6   \n1            1       85             66             29        0  26.6   \n2            8      183             64              0        0  23.3   \n3            1       89             66             23       94  28.1   \n4            0      137             40             35      168  43.1   \n\n   DiabetesPedigreeFunction  Age  Outcome  \n0                     0.627   50        1  \n1                     0.351   31        0  \n2                     0.672   32        1  \n3                     0.167   21        0  \n4                     2.288   33        1  ",
      "text/html": "<div>\n<style scoped>\n    .dataframe tbody tr th:only-of-type {\n        vertical-align: middle;\n    }\n\n    .dataframe tbody tr th {\n        vertical-align: top;\n    }\n\n    .dataframe thead th {\n        text-align: right;\n    }\n</style>\n<table border=\"1\" class=\"dataframe\">\n  <thead>\n    <tr style=\"text-align: right;\">\n      <th></th>\n      <th>Pregnancies</th>\n      <th>Glucose</th>\n      <th>BloodPressure</th>\n      <th>SkinThickness</th>\n      <th>Insulin</th>\n      <th>BMI</th>\n      <th>DiabetesPedigreeFunction</th>\n      <th>Age</th>\n      <th>Outcome</th>\n    </tr>\n  </thead>\n  <tbody>\n    <tr>\n      <th>0</th>\n      <td>6</td>\n      <td>148</td>\n      <td>72</td>\n      <td>35</td>\n      <td>0</td>\n      <td>33.6</td>\n      <td>0.627</td>\n      <td>50</td>\n      <td>1</td>\n    </tr>\n    <tr>\n      <th>1</th>\n      <td>1</td>\n      <td>85</td>\n      <td>66</td>\n      <td>29</td>\n      <td>0</td>\n      <td>26.6</td>\n      <td>0.351</td>\n      <td>31</td>\n      <td>0</td>\n    </tr>\n    <tr>\n      <th>2</th>\n      <td>8</td>\n      <td>183</td>\n      <td>64</td>\n      <td>0</td>\n      <td>0</td>\n      <td>23.3</td>\n      <td>0.672</td>\n      <td>32</td>\n      <td>1</td>\n    </tr>\n    <tr>\n      <th>3</th>\n      <td>1</td>\n      <td>89</td>\n      <td>66</td>\n      <td>23</td>\n      <td>94</td>\n      <td>28.1</td>\n      <td>0.167</td>\n      <td>21</td>\n      <td>0</td>\n    </tr>\n    <tr>\n      <th>4</th>\n      <td>0</td>\n      <td>137</td>\n      <td>40</td>\n      <td>35</td>\n      <td>168</td>\n      <td>43.1</td>\n      <td>2.288</td>\n      <td>33</td>\n      <td>1</td>\n    </tr>\n  </tbody>\n</table>\n</div>"
     },
     "execution_count": 67,
     "metadata": {},
     "output_type": "execute_result"
    }
   ],
   "source": [
    "data.head()"
   ],
   "metadata": {
    "collapsed": false,
    "ExecuteTime": {
     "start_time": "2023-07-21T20:28:16.888142Z",
     "end_time": "2023-07-21T20:28:16.938318Z"
    }
   }
  },
  {
   "cell_type": "code",
   "execution_count": 68,
   "outputs": [
    {
     "data": {
      "text/plain": "<Figure size 432x288 with 1 Axes>",
      "image/png": "[encoded data removed]"
     },
     "metadata": {},
     "output_type": "display_data"
    }
   ],
   "source": [
    "sns.countplot(x='Outcome', data=data, palette='hls')\n",
    "plt.show()"
   ],
   "metadata": {
    "collapsed": false,
    "ExecuteTime": {
     "start_time": "2023-07-21T20:28:19.395050Z",
     "end_time": "2023-07-21T20:28:19.510735Z"
    }
   }
  },
  {
   "cell_type": "markdown",
   "source": [
    "Классы наших данных не сбалансированы, соотношение пациентов с диабетом и без 65:35."
   ],
   "metadata": {
    "collapsed": false
   }
  },
  {
   "cell_type": "code",
   "execution_count": 69,
   "outputs": [
    {
     "data": {
      "text/plain": "0    0.651042\n1    0.348958\nName: Outcome, dtype: float64"
     },
     "execution_count": 69,
     "metadata": {},
     "output_type": "execute_result"
    }
   ],
   "source": [
    "data.Outcome.value_counts(normalize=True)"
   ],
   "metadata": {
    "collapsed": false,
    "ExecuteTime": {
     "start_time": "2023-07-21T20:28:23.279564Z",
     "end_time": "2023-07-21T20:28:23.307572Z"
    }
   }
  },
  {
   "cell_type": "code",
   "execution_count": 70,
   "outputs": [
    {
     "data": {
      "text/plain": "<Figure size 720x720 with 9 Axes>",
      "image/png": "[encoded data removed]"
     },
     "metadata": {},
     "output_type": "display_data"
    }
   ],
   "source": [
    "#посмотрим распределение данных\n",
    "data.hist(xlabelsize=8, ylabelsize=8, figsize=(10, 10), bins=50)\n",
    "plt.show()"
   ],
   "metadata": {
    "collapsed": false,
    "ExecuteTime": {
     "start_time": "2023-07-21T20:28:25.425802Z",
     "end_time": "2023-07-21T20:28:26.868725Z"
    }
   }
  },
  {
   "cell_type": "code",
   "execution_count": 71,
   "outputs": [
    {
     "data": {
      "text/plain": "<Figure size 720x720 with 2 Axes>",
      "image/png": "[encoded data removed]"
     },
     "metadata": {},
     "output_type": "display_data"
    }
   ],
   "source": [
    "#рассчитаем коллеряцию, чтобы исключить мультиколлинеарность предиктов\n",
    "corr = data.corr()\n",
    "plt.subplots(figsize=(10, 10))\n",
    "sns.heatmap(\n",
    "    abs(corr),\n",
    "    vmax=1.0, vmin=0.0,\n",
    "    annot=True, annot_kws={'size': 10},\n",
    "    square=True, cmap='inferno'\n",
    ")\n",
    "plt.show()"
   ],
   "metadata": {
    "collapsed": false,
    "ExecuteTime": {
     "start_time": "2023-07-21T20:28:30.642069Z",
     "end_time": "2023-07-21T20:28:31.179064Z"
    }
   }
  },
  {
   "cell_type": "markdown",
   "source": [
    "Высокой корреляции не обнаружено (>0.7), есть некоторая взаимосвязь между возрастом и беременностью"
   ],
   "metadata": {
    "collapsed": false
   }
  },
  {
   "cell_type": "markdown",
   "source": [
    "## Model_1\n",
    "В модели учитываем все предикты"
   ],
   "metadata": {
    "collapsed": false
   }
  },
  {
   "cell_type": "code",
   "execution_count": 72,
   "outputs": [
    {
     "data": {
      "text/plain": "(     Pregnancies  Glucose  BloodPressure  SkinThickness  Insulin   BMI  \\\n 0              6      148             72             35        0  33.6   \n 1              1       85             66             29        0  26.6   \n 2              8      183             64              0        0  23.3   \n 3              1       89             66             23       94  28.1   \n 4              0      137             40             35      168  43.1   \n ..           ...      ...            ...            ...      ...   ...   \n 763           10      101             76             48      180  32.9   \n 764            2      122             70             27        0  36.8   \n 765            5      121             72             23      112  26.2   \n 766            1      126             60              0        0  30.1   \n 767            1       93             70             31        0  30.4   \n \n      DiabetesPedigreeFunction  Age  \n 0                       0.627   50  \n 1                       0.351   31  \n 2                       0.672   32  \n 3                       0.167   21  \n 4                       2.288   33  \n ..                        ...  ...  \n 763                     0.171   63  \n 764                     0.340   27  \n 765                     0.245   30  \n 766                     0.349   47  \n 767                     0.315   23  \n \n [768 rows x 8 columns],\n 0      1\n 1      0\n 2      1\n 3      0\n 4      1\n       ..\n 763    0\n 764    0\n 765    0\n 766    1\n 767    0\n Name: Outcome, Length: 768, dtype: int64)"
     },
     "execution_count": 72,
     "metadata": {},
     "output_type": "execute_result"
    }
   ],
   "source": [
    "# задаем параметры\n",
    "X1 = data.iloc[::,:8]\n",
    "y = data['Outcome']\n",
    "\n",
    "X1, y"
   ],
   "metadata": {
    "collapsed": false,
    "ExecuteTime": {
     "start_time": "2023-07-21T20:28:36.780047Z",
     "end_time": "2023-07-21T20:28:36.796083Z"
    }
   }
  },
  {
   "cell_type": "code",
   "execution_count": 73,
   "outputs": [
    {
     "name": "stdout",
     "output_type": "stream",
     "text": [
      "Optimization terminated successfully.\n",
      "         Current function value: 0.608498\n",
      "         Iterations 5\n",
      "                             Results: Logit\n",
      "========================================================================\n",
      "Model:                 Logit              Pseudo R-squared:   0.059     \n",
      "Dependent Variable:    Outcome            AIC:                950.6528  \n",
      "Date:                  2023-07-21 20:28   BIC:                987.8031  \n",
      "No. Observations:      768                Log-Likelihood:     -467.33   \n",
      "Df Model:              7                  LL-Null:            -496.74   \n",
      "Df Residuals:          760                LLR p-value:        2.5825e-10\n",
      "Converged:             1.0000             Scale:              1.0000    \n",
      "No. Iterations:        5.0000                                           \n",
      "------------------------------------------------------------------------\n",
      "                          Coef.  Std.Err.    z    P>|z|   [0.025  0.975]\n",
      "------------------------------------------------------------------------\n",
      "Pregnancies               0.1284   0.0286  4.4843 0.0000  0.0723  0.1845\n",
      "Glucose                   0.0129   0.0027  4.7568 0.0000  0.0076  0.0183\n",
      "BloodPressure            -0.0303   0.0047 -6.4806 0.0000 -0.0395 -0.0212\n",
      "SkinThickness             0.0002   0.0061  0.0323 0.9742 -0.0117  0.0121\n",
      "Insulin                   0.0007   0.0008  0.9420 0.3462 -0.0008  0.0023\n",
      "BMI                      -0.0048   0.0107 -0.4494 0.6531 -0.0258  0.0162\n",
      "DiabetesPedigreeFunction  0.3203   0.2399  1.3351 0.1818 -0.1499  0.7905\n",
      "Age                      -0.0156   0.0084 -1.8517 0.0641 -0.0322  0.0009\n",
      "========================================================================\n",
      "\n"
     ]
    }
   ],
   "source": [
    "logit_model=sm.Logit(y,X1)\n",
    "result=logit_model.fit()\n",
    "print(result.summary2())"
   ],
   "metadata": {
    "collapsed": false,
    "ExecuteTime": {
     "start_time": "2023-07-21T20:28:50.403087Z",
     "end_time": "2023-07-21T20:28:50.451780Z"
    }
   }
  },
  {
   "cell_type": "markdown",
   "source": [
    "Часть предиктов являются статистически незначимыми по отношению к нашей независимой переменной (p > 0.05)."
   ],
   "metadata": {
    "collapsed": false
   }
  },
  {
   "cell_type": "code",
   "execution_count": 74,
   "outputs": [],
   "source": [
    "# Разделение данных на обучающий и тестовый наборы\n",
    "X1_train, X1_test, y_train, y_test = train_test_split(X1, y, test_size=0.2, random_state=42)"
   ],
   "metadata": {
    "collapsed": false,
    "ExecuteTime": {
     "start_time": "2023-07-21T20:28:56.081888Z",
     "end_time": "2023-07-21T20:28:56.114505Z"
    }
   }
  },
  {
   "cell_type": "code",
   "execution_count": 75,
   "outputs": [
    {
     "data": {
      "text/plain": "(Pregnancies                   3.742671\n Glucose                     120.855049\n BloodPressure                69.415309\n SkinThickness                20.399023\n Insulin                      81.438111\n BMI                          31.983388\n DiabetesPedigreeFunction      0.469168\n Age                          32.907166\n dtype: float64,\n Pregnancies                   3.313264\n Glucose                      32.035057\n BloodPressure                18.512599\n SkinThickness                15.433974\n Insulin                     116.234835\n BMI                           7.740625\n DiabetesPedigreeFunction      0.336847\n Age                          11.503437\n dtype: float64)"
     },
     "execution_count": 75,
     "metadata": {},
     "output_type": "execute_result"
    }
   ],
   "source": [
    "X1_train.mean(axis=0), X1_train.std(axis=0)"
   ],
   "metadata": {
    "collapsed": false,
    "ExecuteTime": {
     "start_time": "2023-07-21T20:28:58.696130Z",
     "end_time": "2023-07-21T20:28:58.724383Z"
    }
   }
  },
  {
   "cell_type": "code",
   "execution_count": 76,
   "outputs": [
    {
     "data": {
      "text/plain": "(array([ 1.73585359e-17, -2.16981699e-17,  6.94341436e-17,  1.04151215e-16,\n        -2.60378038e-17, -5.69938595e-16,  1.56226823e-16, -3.76101611e-17]),\n array([1., 1., 1., 1., 1., 1., 1., 1.]))"
     },
     "execution_count": 76,
     "metadata": {},
     "output_type": "execute_result"
    }
   ],
   "source": [
    "# Нормализация данных\n",
    "scaler = StandardScaler().fit(X1_train)\n",
    "X1_train = scaler.transform(X1_train)\n",
    "X1_test = scaler.transform(X1_test)\n",
    "X1_train.mean(axis=0), X1_train.std(axis=0)"
   ],
   "metadata": {
    "collapsed": false,
    "ExecuteTime": {
     "start_time": "2023-07-21T20:29:03.184567Z",
     "end_time": "2023-07-21T20:29:03.239156Z"
    }
   }
  },
  {
   "cell_type": "code",
   "execution_count": 77,
   "outputs": [
    {
     "data": {
      "text/plain": "LogisticRegression(solver='liblinear')"
     },
     "execution_count": 77,
     "metadata": {},
     "output_type": "execute_result"
    }
   ],
   "source": [
    "# Создание экземпляра модели и её обучение\n",
    "model = LogisticRegression(penalty='l2', C=1.0, solver='liblinear')\n",
    "model.fit(X1_train, y_train)"
   ],
   "metadata": {
    "collapsed": false,
    "ExecuteTime": {
     "start_time": "2023-07-21T20:29:08.024391Z",
     "end_time": "2023-07-21T20:29:08.062221Z"
    }
   }
  },
  {
   "cell_type": "code",
   "execution_count": 78,
   "outputs": [
    {
     "data": {
      "text/plain": "(array([[ 0.21198421,  1.0692128 , -0.24724324,  0.04563169, -0.20074365,\n          0.77544936,  0.23055409,  0.41957156]]),\n array([-0.87581424]))"
     },
     "execution_count": 78,
     "metadata": {},
     "output_type": "execute_result"
    }
   ],
   "source": [
    "# коэффициенты\n",
    "model.coef_, model.intercept_"
   ],
   "metadata": {
    "collapsed": false,
    "ExecuteTime": {
     "start_time": "2023-07-21T20:29:18.860663Z",
     "end_time": "2023-07-21T20:29:18.897749Z"
    }
   }
  },
  {
   "cell_type": "code",
   "execution_count": 79,
   "outputs": [
    {
     "data": {
      "text/plain": "array([[1.23612837, 2.91308542, 0.78095071, 1.04668883, 0.81812213,\n        2.17156772, 1.25929758, 1.52130963]])"
     },
     "execution_count": 79,
     "metadata": {},
     "output_type": "execute_result"
    }
   ],
   "source": [
    "# экспонента коэффициентов\n",
    "np.exp(model.coef_)"
   ],
   "metadata": {
    "collapsed": false,
    "ExecuteTime": {
     "start_time": "2023-07-21T20:29:20.984586Z",
     "end_time": "2023-07-21T20:29:21.021355Z"
    }
   }
  },
  {
   "cell_type": "code",
   "execution_count": 80,
   "outputs": [
    {
     "name": "stdout",
     "output_type": "stream",
     "text": [
      "Accuracy of logistic regression classifier on test set: 0.75\n"
     ]
    }
   ],
   "source": [
    "# Предсказание на тестовом наборе данных\n",
    "y_pred = model.predict(X1_test)\n",
    "\n",
    "print('Accuracy of logistic regression classifier on test set: {:.2f}'.format(model.score(X1_test, y_test)))"
   ],
   "metadata": {
    "collapsed": false,
    "ExecuteTime": {
     "start_time": "2023-07-21T20:29:24.352732Z",
     "end_time": "2023-07-21T20:29:24.368431Z"
    }
   }
  },
  {
   "cell_type": "code",
   "execution_count": 81,
   "outputs": [
    {
     "name": "stdout",
     "output_type": "stream",
     "text": [
      "[[79 20]\n",
      " [18 37]]\n"
     ]
    }
   ],
   "source": [
    "# Построим матрицу путаницы [TP FP] // [FN TN]\n",
    "confusion_matrix = confusion_matrix(y_test, y_pred)\n",
    "print(confusion_matrix)"
   ],
   "metadata": {
    "collapsed": false,
    "ExecuteTime": {
     "start_time": "2023-07-21T20:32:49.023381Z",
     "end_time": "2023-07-21T20:32:49.039594Z"
    }
   }
  },
  {
   "cell_type": "code",
   "execution_count": 82,
   "outputs": [
    {
     "name": "stdout",
     "output_type": "stream",
     "text": [
      "              precision    recall  f1-score   support\n",
      "\n",
      "           0       0.81      0.80      0.81        99\n",
      "           1       0.65      0.67      0.66        55\n",
      "\n",
      "    accuracy                           0.75       154\n",
      "   macro avg       0.73      0.74      0.73       154\n",
      "weighted avg       0.76      0.75      0.75       154\n",
      "\n"
     ]
    }
   ],
   "source": [
    "# Результат модели_1\n",
    "print(classification_report(y_test, y_pred))"
   ],
   "metadata": {
    "collapsed": false,
    "ExecuteTime": {
     "start_time": "2023-07-21T20:33:38.225260Z",
     "end_time": "2023-07-21T20:33:38.258657Z"
    }
   }
  },
  {
   "cell_type": "markdown",
   "source": [
    "## Model_2\n",
    "Исключим из модели статистически незначимые предикты (p > 0.05)"
   ],
   "metadata": {
    "collapsed": false
   }
  },
  {
   "cell_type": "code",
   "execution_count": 85,
   "outputs": [
    {
     "data": {
      "text/plain": "(     Pregnancies  Glucose  BloodPressure\n 0              6      148             72\n 1              1       85             66\n 2              8      183             64\n 3              1       89             66\n 4              0      137             40\n ..           ...      ...            ...\n 763           10      101             76\n 764            2      122             70\n 765            5      121             72\n 766            1      126             60\n 767            1       93             70\n \n [768 rows x 3 columns],\n 0      1\n 1      0\n 2      1\n 3      0\n 4      1\n       ..\n 763    0\n 764    0\n 765    0\n 766    1\n 767    0\n Name: Outcome, Length: 768, dtype: int64)"
     },
     "execution_count": 85,
     "metadata": {},
     "output_type": "execute_result"
    }
   ],
   "source": [
    "X2 = data.iloc[::,:3]\n",
    "y = data['Outcome']\n",
    "\n",
    "X2, y"
   ],
   "metadata": {
    "collapsed": false,
    "ExecuteTime": {
     "start_time": "2023-07-21T20:37:33.598476Z",
     "end_time": "2023-07-21T20:37:33.612656Z"
    }
   }
  },
  {
   "cell_type": "code",
   "execution_count": 86,
   "outputs": [
    {
     "name": "stdout",
     "output_type": "stream",
     "text": [
      "Optimization terminated successfully.\n",
      "         Current function value: 0.613118\n",
      "         Iterations 5\n",
      "                         Results: Logit\n",
      "=================================================================\n",
      "Model:              Logit            Pseudo R-squared: 0.052     \n",
      "Dependent Variable: Outcome          AIC:              947.7495  \n",
      "Date:               2023-07-21 20:37 BIC:              961.6808  \n",
      "No. Observations:   768              Log-Likelihood:   -470.87   \n",
      "Df Model:           2                LL-Null:          -496.74   \n",
      "Df Residuals:       765              LLR p-value:      5.8346e-12\n",
      "Converged:          1.0000           Scale:            1.0000    \n",
      "No. Iterations:     5.0000                                       \n",
      "-----------------------------------------------------------------\n",
      "                   Coef.  Std.Err.    z    P>|z|   [0.025  0.975]\n",
      "-----------------------------------------------------------------\n",
      "Pregnancies        0.0951   0.0238  3.9956 0.0001  0.0484  0.1417\n",
      "Glucose            0.0122   0.0021  5.8041 0.0000  0.0081  0.0163\n",
      "BloodPressure     -0.0335   0.0039 -8.6920 0.0000 -0.0411 -0.0259\n",
      "=================================================================\n",
      "\n"
     ]
    }
   ],
   "source": [
    "logit_model=sm.Logit(y,X2)\n",
    "result=logit_model.fit()\n",
    "print(result.summary2())"
   ],
   "metadata": {
    "collapsed": false,
    "ExecuteTime": {
     "start_time": "2023-07-21T20:37:41.046412Z",
     "end_time": "2023-07-21T20:37:41.109868Z"
    }
   }
  },
  {
   "cell_type": "code",
   "execution_count": 87,
   "outputs": [
    {
     "data": {
      "text/plain": "(array([ 1.73585359e-17, -2.16981699e-17,  6.94341436e-17]),\n array([1., 1., 1.]))"
     },
     "execution_count": 87,
     "metadata": {},
     "output_type": "execute_result"
    }
   ],
   "source": [
    "# Разделение данных на обучающий и тестовый наборы\n",
    "X2_train, X2_test, y_train, y_test = train_test_split(X2, y, test_size=0.2, random_state=42)\n",
    "\n",
    "# Нормализация данных\n",
    "scaler = StandardScaler().fit(X2_train)\n",
    "X2_train = scaler.transform(X2_train)\n",
    "X2_test = scaler.transform(X2_test)\n",
    "X2_train.mean(axis=0), X2_train.std(axis=0)"
   ],
   "metadata": {
    "collapsed": false,
    "ExecuteTime": {
     "start_time": "2023-07-21T20:37:46.678383Z",
     "end_time": "2023-07-21T20:37:46.690292Z"
    }
   }
  },
  {
   "cell_type": "code",
   "execution_count": 88,
   "outputs": [
    {
     "data": {
      "text/plain": "LogisticRegression(solver='liblinear')"
     },
     "execution_count": 88,
     "metadata": {},
     "output_type": "execute_result"
    }
   ],
   "source": [
    "# Создание экземпляра модели и её обучение\n",
    "model = LogisticRegression(penalty='l2', C=1.0, solver='liblinear')\n",
    "model.fit(X2_train, y_train)"
   ],
   "metadata": {
    "collapsed": false,
    "ExecuteTime": {
     "start_time": "2023-07-21T20:37:50.488356Z",
     "end_time": "2023-07-21T20:37:50.510544Z"
    }
   }
  },
  {
   "cell_type": "code",
   "execution_count": 89,
   "outputs": [
    {
     "data": {
      "text/plain": "array([[1.43516193, 3.15943819, 0.96316122]])"
     },
     "execution_count": 89,
     "metadata": {},
     "output_type": "execute_result"
    }
   ],
   "source": [
    "# экспонента коэффициентов\n",
    "np.exp(model.coef_)"
   ],
   "metadata": {
    "collapsed": false,
    "ExecuteTime": {
     "start_time": "2023-07-21T20:37:53.209487Z",
     "end_time": "2023-07-21T20:37:53.249239Z"
    }
   }
  },
  {
   "cell_type": "code",
   "execution_count": 90,
   "outputs": [
    {
     "name": "stdout",
     "output_type": "stream",
     "text": [
      "Accuracy of logistic regression classifier on test set: 0.77\n"
     ]
    }
   ],
   "source": [
    "# Предсказание на тестовом наборе данных\n",
    "y_pred_2 = model.predict(X2_test)\n",
    "print('Accuracy of logistic regression classifier on test set: {:.2f}'.format(model.score(X2_test, y_test)))"
   ],
   "metadata": {
    "collapsed": false,
    "ExecuteTime": {
     "start_time": "2023-07-21T20:37:57.198332Z",
     "end_time": "2023-07-21T20:37:57.217205Z"
    }
   }
  },
  {
   "cell_type": "code",
   "execution_count": 91,
   "outputs": [
    {
     "name": "stdout",
     "output_type": "stream",
     "text": [
      "[[86 13]\n",
      " [22 33]]\n"
     ]
    }
   ],
   "source": [
    "from sklearn.metrics import confusion_matrix\n",
    "confusion_matrix = confusion_matrix(y_test, y_pred_2)\n",
    "print(confusion_matrix)"
   ],
   "metadata": {
    "collapsed": false,
    "ExecuteTime": {
     "start_time": "2023-07-21T20:37:59.661875Z",
     "end_time": "2023-07-21T20:37:59.742092Z"
    }
   }
  },
  {
   "cell_type": "code",
   "execution_count": 92,
   "outputs": [
    {
     "name": "stdout",
     "output_type": "stream",
     "text": [
      "              precision    recall  f1-score   support\n",
      "\n",
      "           0       0.80      0.87      0.83        99\n",
      "           1       0.72      0.60      0.65        55\n",
      "\n",
      "    accuracy                           0.77       154\n",
      "   macro avg       0.76      0.73      0.74       154\n",
      "weighted avg       0.77      0.77      0.77       154\n",
      "\n"
     ]
    }
   ],
   "source": [
    "from sklearn.metrics import classification_report\n",
    "print(classification_report(y_test, y_pred_2))"
   ],
   "metadata": {
    "collapsed": false,
    "ExecuteTime": {
     "start_time": "2023-07-21T20:38:02.541669Z",
     "end_time": "2023-07-21T20:38:02.552222Z"
    }
   }
  },
  {
   "cell_type": "markdown",
   "source": [
    "## Результаты\n",
    "\n",
    "Точность (accuracy) второй модели оказалась выше (модель_1 - 75%, модель_2 - 77%).\n",
    "\n",
    "Способность модели_1 найти все истинные примеры (recall): пациентов без диабета составила 80%, пациентов с диабетом - 67%.\n",
    "Способность модели_2 найти все истинные примеры (recall): пациентов без диабета составила 87%, пациентов с диабетом - 60%.\n",
    "\n",
    "Точность (precision) модели_1 по пациентам без диабета 81%, с диабетов - 65%.\n",
    "Точность (precision) модели_2 по пациентам без диабета 80%, с диабетов - 72%."
   ],
   "metadata": {
    "collapsed": false
   }
  }
 ],
 "metadata": {
  "kernelspec": {
   "display_name": "Python 3",
   "language": "python",
   "name": "python3"
  },
  "language_info": {
   "codemirror_mode": {
    "name": "ipython",
    "version": 2
   },
   "file_extension": ".py",
   "mimetype": "text/x-python",
   "name": "python",
   "nbconvert_exporter": "python",
   "pygments_lexer": "ipython2",
   "version": "2.7.6"
  }
 },
 "nbformat": 4,
 "nbformat_minor": 0
}
