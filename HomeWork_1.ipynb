{
 "cells": [
  {
   "cell_type": "markdown",
   "source": [
    "# Home work #1"
   ],
   "metadata": {
    "collapsed": false
   }
  },
  {
   "cell_type": "markdown",
   "source": [
    "1. Реализуйте алгоритм сортировки списка без использования встроенных методов (sort и альтернативы из сторонних модулей). Конкретный алгоритм сортировки неважен. Главное - попробуйте сделать своими силами."
   ],
   "metadata": {
    "collapsed": false
   }
  },
  {
   "cell_type": "code",
   "execution_count": 1,
   "outputs": [
    {
     "name": "stdout",
     "output_type": "stream",
     "text": [
      "[-7, 1, 2, 3, 4, 4, 5, 6, 8, 10, 100]\n"
     ]
    }
   ],
   "source": [
    "numbers = [4, 2, 8, 6, 5, 3, 10, 4, 100, 1, -7]\n",
    "numbers.sort()\n",
    "print(numbers)"
   ],
   "metadata": {
    "collapsed": false,
    "ExecuteTime": {
     "start_time": "2023-05-15T17:05:18.725544Z",
     "end_time": "2023-05-15T17:05:18.756740Z"
    }
   }
  },
  {
   "cell_type": "code",
   "execution_count": 2,
   "outputs": [
    {
     "name": "stdout",
     "output_type": "stream",
     "text": [
      "[-7, 1, 2, 3, 4, 4, 5, 6, 8, 10, 100]\n"
     ]
    }
   ],
   "source": [
    "num = [4, 2, 8, 6, 5, 3, 10, 4, 100, 1, -7]\n",
    "n = len(num)\n",
    "for i in range (n - 1):\n",
    "    for j in range(n - i - 1):\n",
    "        if num[j] > num[j + 1]:\n",
    "            num[j], num[j + 1] = num[j + 1], num[j]\n",
    "print(num)"
   ],
   "metadata": {
    "collapsed": false,
    "ExecuteTime": {
     "start_time": "2023-05-15T17:05:22.977357Z",
     "end_time": "2023-05-15T17:05:22.984535Z"
    }
   }
  },
  {
   "cell_type": "markdown",
   "source": [
    "2. Напишите отдельную функцию для выбора каждого нечетного числа из отсортированного списка\n",
    "На вход функции подается отсортированный список в порядке возрастания (1, 2, 3, 4) на выходе (1, 3)"
   ],
   "metadata": {
    "collapsed": false
   }
  },
  {
   "cell_type": "code",
   "execution_count": 25,
   "outputs": [],
   "source": [
    "def foo(x):\n",
    "    new_num = []\n",
    "    for i, el in enumerate(x):\n",
    "        if x[i]%2 != 0:\n",
    "            new_num.append(x[i])\n",
    "    print(*new_num)"
   ],
   "metadata": {
    "collapsed": false,
    "ExecuteTime": {
     "start_time": "2023-05-15T17:12:39.556823Z",
     "end_time": "2023-05-15T17:12:39.567759Z"
    }
   }
  },
  {
   "cell_type": "code",
   "execution_count": 26,
   "outputs": [
    {
     "name": "stdout",
     "output_type": "stream",
     "text": [
      "-7 1 3 5\n"
     ]
    }
   ],
   "source": [
    "foo(num)"
   ],
   "metadata": {
    "collapsed": false,
    "ExecuteTime": {
     "start_time": "2023-05-15T17:12:41.763321Z",
     "end_time": "2023-05-15T17:12:41.784262Z"
    }
   }
  },
  {
   "cell_type": "markdown",
   "source": [
    "3. Напишите отдельную функцию для выборки каждого нечетного по индексу числа.\n",
    "На вход функции подается отсортированный список в порядке возрастания (4, 9, 11, 12) на выходе (9, 12)"
   ],
   "metadata": {
    "collapsed": false
   }
  },
  {
   "cell_type": "code",
   "execution_count": 22,
   "outputs": [],
   "source": [
    "def foo_ind(x):\n",
    "    num_ind = []\n",
    "    for i in range (1, len(x), 2):\n",
    "        num_ind.append(x[i])\n",
    "    print(*num_ind)"
   ],
   "metadata": {
    "collapsed": false,
    "ExecuteTime": {
     "start_time": "2023-05-15T17:12:12.337737Z",
     "end_time": "2023-05-15T17:12:12.348696Z"
    }
   }
  },
  {
   "cell_type": "code",
   "execution_count": 23,
   "outputs": [
    {
     "name": "stdout",
     "output_type": "stream",
     "text": [
      "1 3 4 6 10\n"
     ]
    }
   ],
   "source": [
    "foo_ind(num)"
   ],
   "metadata": {
    "collapsed": false,
    "ExecuteTime": {
     "start_time": "2023-05-15T17:12:14.454781Z",
     "end_time": "2023-05-15T17:12:14.474111Z"
    }
   }
  },
  {
   "cell_type": "markdown",
   "source": [
    "4. Прочитайте про запись данных в простой текстовый файл. Добавьте сохранение данных в файл из функций 2 и 3."
   ],
   "metadata": {
    "collapsed": false
   }
  },
  {
   "cell_type": "code",
   "execution_count": 33,
   "outputs": [
    {
     "ename": "NameError",
     "evalue": "name 'num_ind' is not defined",
     "output_type": "error",
     "traceback": [
      "\u001B[1;31m---------------------------------------------------------------------------\u001B[0m",
      "\u001B[1;31mNameError\u001B[0m                                 Traceback (most recent call last)",
      "Input \u001B[1;32mIn [33]\u001B[0m, in \u001B[0;36m<cell line: 1>\u001B[1;34m()\u001B[0m\n\u001B[0;32m      1\u001B[0m \u001B[38;5;28;01mwith\u001B[39;00m \u001B[38;5;28mopen\u001B[39m(\u001B[38;5;124m\"\u001B[39m\u001B[38;5;124mlist.txt\u001B[39m\u001B[38;5;124m\"\u001B[39m, \u001B[38;5;124m\"\u001B[39m\u001B[38;5;124mw\u001B[39m\u001B[38;5;124m\"\u001B[39m) \u001B[38;5;28;01mas\u001B[39;00m file:\n\u001B[1;32m----> 2\u001B[0m     file\u001B[38;5;241m.\u001B[39mwrite (\u001B[38;5;28mstr\u001B[39m(\u001B[43mnum_ind\u001B[49m))\n",
      "\u001B[1;31mNameError\u001B[0m: name 'num_ind' is not defined"
     ]
    }
   ],
   "source": [
    "with open(\"list.txt\", \"w\") as file:\n",
    "    file.write (str(num_ind)) #не понимаю, почему не видет переменную?"
   ],
   "metadata": {
    "collapsed": false,
    "ExecuteTime": {
     "start_time": "2023-05-15T17:14:33.690451Z",
     "end_time": "2023-05-15T17:14:33.737076Z"
    }
   }
  },
  {
   "cell_type": "code",
   "execution_count": 30,
   "outputs": [
    {
     "ename": "NameError",
     "evalue": "name 'new_num' is not defined",
     "output_type": "error",
     "traceback": [
      "\u001B[1;31m---------------------------------------------------------------------------\u001B[0m",
      "\u001B[1;31mNameError\u001B[0m                                 Traceback (most recent call last)",
      "Input \u001B[1;32mIn [30]\u001B[0m, in \u001B[0;36m<cell line: 1>\u001B[1;34m()\u001B[0m\n\u001B[0;32m      1\u001B[0m \u001B[38;5;28;01mwith\u001B[39;00m \u001B[38;5;28mopen\u001B[39m(\u001B[38;5;124m\"\u001B[39m\u001B[38;5;124mlist.txt\u001B[39m\u001B[38;5;124m\"\u001B[39m, \u001B[38;5;124m\"\u001B[39m\u001B[38;5;124mw\u001B[39m\u001B[38;5;124m\"\u001B[39m) \u001B[38;5;28;01mas\u001B[39;00m file:\n\u001B[1;32m----> 2\u001B[0m     file\u001B[38;5;241m.\u001B[39mwrite (\u001B[38;5;28mstr\u001B[39m(\u001B[43mnew_num\u001B[49m))\n",
      "\u001B[1;31mNameError\u001B[0m: name 'new_num' is not defined"
     ]
    }
   ],
   "source": [
    "with open(\"list.txt\", \"w\") as file:\n",
    "    file.write (str(new_num))"
   ],
   "metadata": {
    "collapsed": false,
    "ExecuteTime": {
     "start_time": "2023-05-15T16:47:34.996504Z",
     "end_time": "2023-05-15T16:47:35.014663Z"
    }
   }
  }
 ],
 "metadata": {
  "kernelspec": {
   "display_name": "Python 3",
   "language": "python",
   "name": "python3"
  },
  "language_info": {
   "codemirror_mode": {
    "name": "ipython",
    "version": 2
   },
   "file_extension": ".py",
   "mimetype": "text/x-python",
   "name": "python",
   "nbconvert_exporter": "python",
   "pygments_lexer": "ipython2",
   "version": "2.7.6"
  }
 },
 "nbformat": 4,
 "nbformat_minor": 0
}
