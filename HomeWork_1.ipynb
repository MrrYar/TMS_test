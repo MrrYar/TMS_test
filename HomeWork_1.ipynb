{
 "cells": [
  {
   "cell_type": "markdown",
   "source": [
    "# Home work #1"
   ],
   "metadata": {
    "collapsed": false
   }
  },
  {
   "cell_type": "markdown",
   "source": [
    "1. Реализуйте алгоритм сортировки списка без использования встроенных методов (sort и альтернативы из сторонних модулей). Конкретный алгоритм сортировки неважен. Главное - попробуйте сделать своими силами."
   ],
   "metadata": {
    "collapsed": false
   }
  },
  {
   "cell_type": "code",
   "execution_count": 1,
   "outputs": [
    {
     "name": "stdout",
     "output_type": "stream",
     "text": [
      "[-7, 1, 2, 3, 4, 4, 5, 6, 8, 10, 100]\n"
     ]
    }
   ],
   "source": [
    "numbers = [4, 2, 8, 6, 5, 3, 10, 4, 100, 1, -7]\n",
    "numbers.sort()\n",
    "print(numbers)"
   ],
   "metadata": {
    "collapsed": false,
    "ExecuteTime": {
     "start_time": "2023-05-15T17:05:18.725544Z",
     "end_time": "2023-05-15T17:05:18.756740Z"
    }
   }
  },
  {
   "cell_type": "code",
   "execution_count": 3,
   "outputs": [
    {
     "name": "stdout",
     "output_type": "stream",
     "text": [
      "[-7, 1, 2, 3, 4, 4, 5, 6, 8, 10, 100]\n"
     ]
    }
   ],
   "source": [
    "num = [4, 2, 8, 6, 5, 3, 10, 4, 100, 1, -7]\n",
    "n = len(num)\n",
    "for i in range (n - 1):\n",
    "    for j in range(n - i - 1):\n",
    "        if num[j] > num[j + 1]:\n",
    "            num[j], num[j + 1] = num[j + 1], num[j]\n",
    "print(num)"
   ],
   "metadata": {
    "collapsed": false,
    "ExecuteTime": {
     "start_time": "2023-05-16T08:39:13.990603Z",
     "end_time": "2023-05-16T08:39:14.013540Z"
    }
   }
  },
  {
   "cell_type": "markdown",
   "source": [
    "2. Напишите отдельную функцию для выбора каждого нечетного числа из отсортированного списка\n",
    "На вход функции подается отсортированный список в порядке возрастания (1, 2, 3, 4) на выходе (1, 3)"
   ],
   "metadata": {
    "collapsed": false
   }
  },
  {
   "cell_type": "code",
   "execution_count": 14,
   "outputs": [],
   "source": [
    "new_num = [] # отсортированный список по нечетным числам\n",
    "def foo(x: list) -> list:\n",
    "    global new_num\n",
    "    for i, el in enumerate(x):\n",
    "        if x[i]%2 != 0:\n",
    "            new_num.append(x[i])\n",
    "    return new_num"
   ],
   "metadata": {
    "collapsed": false,
    "ExecuteTime": {
     "start_time": "2023-05-16T08:48:23.405725Z",
     "end_time": "2023-05-16T08:48:23.435769Z"
    }
   }
  },
  {
   "cell_type": "code",
   "execution_count": 15,
   "outputs": [
    {
     "data": {
      "text/plain": "[-7, 1, 3, 5]"
     },
     "execution_count": 15,
     "metadata": {},
     "output_type": "execute_result"
    }
   ],
   "source": [
    "foo(num)"
   ],
   "metadata": {
    "collapsed": false,
    "ExecuteTime": {
     "start_time": "2023-05-16T08:48:25.927056Z",
     "end_time": "2023-05-16T08:48:25.944177Z"
    }
   }
  },
  {
   "cell_type": "markdown",
   "source": [
    "3. Напишите отдельную функцию для выборки каждого нечетного по индексу числа.\n",
    "На вход функции подается отсортированный список в порядке возрастания (4, 9, 11, 12) на выходе (9, 12)"
   ],
   "metadata": {
    "collapsed": false
   }
  },
  {
   "cell_type": "code",
   "execution_count": 17,
   "outputs": [],
   "source": [
    "num_ind = [] # отсортированный список по нечетным индексам\n",
    "def foo_ind(x:list) -> list:\n",
    "    global num_ind\n",
    "    for i in range (1, len(x), 2):\n",
    "        num_ind.append(x[i])\n",
    "    return num_ind"
   ],
   "metadata": {
    "collapsed": false,
    "ExecuteTime": {
     "start_time": "2023-05-16T08:49:37.024928Z",
     "end_time": "2023-05-16T08:49:37.043777Z"
    }
   }
  },
  {
   "cell_type": "code",
   "execution_count": 18,
   "outputs": [
    {
     "data": {
      "text/plain": "[1, 3, 4, 6, 10]"
     },
     "execution_count": 18,
     "metadata": {},
     "output_type": "execute_result"
    }
   ],
   "source": [
    "foo_ind(num)"
   ],
   "metadata": {
    "collapsed": false,
    "ExecuteTime": {
     "start_time": "2023-05-16T08:49:40.171580Z",
     "end_time": "2023-05-16T08:49:40.195361Z"
    }
   }
  },
  {
   "cell_type": "markdown",
   "source": [
    "4. Прочитайте про запись данных в простой текстовый файл. Добавьте сохранение данных в файл из функций 2 и 3."
   ],
   "metadata": {
    "collapsed": false
   }
  },
  {
   "cell_type": "code",
   "execution_count": 36,
   "outputs": [],
   "source": [
    "with open(\"list.txt\", \"w\") as file:\n",
    "        file.write (str(new_num))\n",
    "with open(\"list.txt\", \"a\") as file:\n",
    "        file.write (str(num_ind))"
   ],
   "metadata": {
    "collapsed": false,
    "ExecuteTime": {
     "start_time": "2023-05-16T09:04:13.334033Z",
     "end_time": "2023-05-16T09:04:13.353980Z"
    }
   }
  }
 ],
 "metadata": {
  "kernelspec": {
   "display_name": "Python 3",
   "language": "python",
   "name": "python3"
  },
  "language_info": {
   "codemirror_mode": {
    "name": "ipython",
    "version": 2
   },
   "file_extension": ".py",
   "mimetype": "text/x-python",
   "name": "python",
   "nbconvert_exporter": "python",
   "pygments_lexer": "ipython2",
   "version": "2.7.6"
  }
 },
 "nbformat": 4,
 "nbformat_minor": 0
}
