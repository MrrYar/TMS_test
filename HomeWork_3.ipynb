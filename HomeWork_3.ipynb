{
 "cells": [
  {
   "cell_type": "markdown",
   "source": [
    "# Home work #3"
   ],
   "metadata": {
    "collapsed": false
   }
  },
  {
   "cell_type": "markdown",
   "source": [
    "Tasks:\n",
    "- Сделать класс Animal абстрактным, добавьте 2 абстрактных метода\n",
    "- Один из методов должен быть метод передвижения (move). В данном методе нужно использовать временную задержку time.sleep(sec).\n",
    "- Напишите свой декоратор, который считает время выполнения функции.\n",
    "- Напишите свой декоратор, который сохраняет в файлик результат выполнения функции и ее имя в формате: <name>: result. Для доступа к имени функции используйте func.name\n",
    "- Оберните метод move в декораторы\n",
    "- В методе move используйте аттрибут класса speed. Speed должен быть задан в виде лямбда функции (можете высчитывать на основе веса животного, допустим)\n",
    "- Каждый класс должен иметь свое текстовое описание\n",
    "- Животных можно друг с другом совмещать. Но стоит помнить, что межвидовые связи недоступны\n",
    "- Напишите класс ветеринара, который производит осмотр животного и формирует отчет в виде текстового файла. В данном классе используйте статические методы."
   ],
   "metadata": {
    "collapsed": false
   }
  },
  {
   "cell_type": "code",
   "execution_count": 4,
   "outputs": [],
   "source": [
    "import abc, time, random"
   ],
   "metadata": {
    "collapsed": false,
    "ExecuteTime": {
     "start_time": "2023-05-24T12:23:19.752887Z",
     "end_time": "2023-05-24T12:23:19.778772Z"
    }
   }
  },
  {
   "cell_type": "code",
   "execution_count": 5,
   "outputs": [],
   "source": [
    "# создание декоратора, который считает время выполнения функции\n",
    "\n",
    "def time_rec(func):\n",
    "    def wrapper(self):\n",
    "        start = time.time()\n",
    "        f = func(self)\n",
    "        end = time.time()\n",
    "        return f, f'Run-time: {round((end - start),2)} sec'\n",
    "    return wrapper"
   ],
   "metadata": {
    "collapsed": false,
    "ExecuteTime": {
     "start_time": "2023-05-24T12:23:24.273733Z",
     "end_time": "2023-05-24T12:23:24.293675Z"
    }
   }
  },
  {
   "cell_type": "code",
   "execution_count": 6,
   "outputs": [],
   "source": [
    "# создание декоратора, который созраняет результат функции в текстовый файл\n",
    "def save_f(func):\n",
    "    def wrapper(self):\n",
    "        f = func(self)\n",
    "        with open(\"log.txt\", \"a\") as file:\n",
    "            file.write (f'{func.__name__} : {str(f)}' + '\\n')\n",
    "    return wrapper"
   ],
   "metadata": {
    "collapsed": false,
    "ExecuteTime": {
     "start_time": "2023-05-24T12:23:26.638254Z",
     "end_time": "2023-05-24T12:23:26.656217Z"
    }
   }
  },
  {
   "cell_type": "code",
   "execution_count": 7,
   "outputs": [],
   "source": [
    "class Animal(abc.ABC):\n",
    "\n",
    "    def __init__(self, name: str, color: str, weight: int, paws=4):\n",
    "        self.name = name\n",
    "        self.color = color\n",
    "        self.weight = weight\n",
    "        self.paws = paws\n",
    "        self._speed = lambda x: self.weight**x\n",
    "        self._health = random.randint(0, 10)\n",
    "\n",
    "    @abc.abstractmethod\n",
    "    def voice(self):\n",
    "        pass\n",
    "\n",
    "    @abc.abstractmethod\n",
    "    def move(self):\n",
    "        pass\n",
    "\n",
    "    @abc.abstractmethod\n",
    "    def info(self):\n",
    "        pass\n",
    "\n",
    "    @abc.abstractmethod\n",
    "    def get_state(self):\n",
    "        pass"
   ],
   "metadata": {
    "collapsed": false,
    "ExecuteTime": {
     "start_time": "2023-05-24T12:23:31.196390Z",
     "end_time": "2023-05-24T12:23:31.216438Z"
    }
   }
  },
  {
   "cell_type": "code",
   "execution_count": 8,
   "outputs": [],
   "source": [
    "class Dog(Animal):\n",
    "    def __init__(self, name: str, color: str, weight: int):\n",
    "        super().__init__(name, color, weight, paws=4)\n",
    "        self.claws = True\n",
    "        self._health = random.randint(0, 10)\n",
    "\n",
    "    def voice(self):\n",
    "        print(f\"{self.name} says: Woof\")\n",
    "\n",
    "    @save_f\n",
    "    @time_rec\n",
    "    def move(self):\n",
    "        time.sleep(2)\n",
    "        return f\"{self.name}'s speed is {round(self._speed(0.17),2)}\"\n",
    "\n",
    "    def info(self):\n",
    "        return f'The Animal is a dog by name {self.name}. The color is {self.color}. The weight is {self.weight}.'\n",
    "\n",
    "    def get_state(self):\n",
    "        return self._health"
   ],
   "metadata": {
    "collapsed": false,
    "ExecuteTime": {
     "start_time": "2023-05-24T12:23:34.289578Z",
     "end_time": "2023-05-24T12:23:34.311466Z"
    }
   }
  },
  {
   "cell_type": "code",
   "execution_count": 9,
   "outputs": [],
   "source": [
    "class Cat(Animal):\n",
    "    def __init__(self, name: str, color: str, weight: int):\n",
    "        super().__init__(name, color, weight, paws=4)\n",
    "        self.claws = True\n",
    "        self._health = random.randint(0, 10)\n",
    "\n",
    "    def voice(self):\n",
    "        print(f\"{self.name} says: Meow\")\n",
    "\n",
    "    @save_f\n",
    "    @time_rec\n",
    "    def move(self):\n",
    "        time.sleep(1.5)\n",
    "        return f\"{self.name}'s speed is {round(self._speed(0.17),2)}\"\n",
    "\n",
    "    def info(self):\n",
    "        return f'The Animal is a cat by name {self.name}. The color is {self.color}. The weight is {self.weight}.'\n",
    "\n",
    "    def get_state(self):\n",
    "        return self._health"
   ],
   "metadata": {
    "collapsed": false,
    "ExecuteTime": {
     "start_time": "2023-05-24T12:23:37.547076Z",
     "end_time": "2023-05-24T12:23:37.570040Z"
    }
   }
  },
  {
   "cell_type": "code",
   "execution_count": 10,
   "outputs": [],
   "source": [
    "class Horse(Animal):\n",
    "    def __init__(self, name: str, color: str, weight: int):\n",
    "        super().__init__(name, color, weight, paws=4)\n",
    "        self.claws = False\n",
    "        self._health = random.randint(0, 10)\n",
    "\n",
    "    def voice(self):\n",
    "        print(f\"{self.name} says:Neigh\")\n",
    "\n",
    "    @save_f\n",
    "    @time_rec\n",
    "    def move(self):\n",
    "        time.sleep(0.8)\n",
    "        return f\"{self.name}'s speed is {round(self._speed(0.17),2)}\"\n",
    "\n",
    "    def info(self):\n",
    "        return f'The Animal is a horse by name {self.name}. The color is {self.color}. The weight is {self.weight}.'\n",
    "\n",
    "    def get_state(self):\n",
    "        return self._health"
   ],
   "metadata": {
    "collapsed": false,
    "ExecuteTime": {
     "start_time": "2023-05-24T12:23:41.024325Z",
     "end_time": "2023-05-24T12:23:41.040916Z"
    }
   }
  },
  {
   "cell_type": "code",
   "execution_count": 11,
   "outputs": [
    {
     "name": "stdout",
     "output_type": "stream",
     "text": [
      "Bonny says: Woof\n"
     ]
    }
   ],
   "source": [
    "dog_bonny = Dog(\"Bonny\", \"Black\", 50)\n",
    "dog_bonny.voice()\n",
    "dog_bonny.move()"
   ],
   "metadata": {
    "collapsed": false,
    "ExecuteTime": {
     "start_time": "2023-05-24T12:23:44.711207Z",
     "end_time": "2023-05-24T12:23:46.739547Z"
    }
   }
  },
  {
   "cell_type": "code",
   "execution_count": 12,
   "outputs": [
    {
     "name": "stdout",
     "output_type": "stream",
     "text": [
      "Shel says:Neigh\n"
     ]
    }
   ],
   "source": [
    "horse_shel = Horse(\"Shel\",\"Brown\", 150)\n",
    "horse_shel.voice()\n",
    "horse_shel.move()"
   ],
   "metadata": {
    "collapsed": false,
    "ExecuteTime": {
     "start_time": "2023-05-24T12:23:49.576220Z",
     "end_time": "2023-05-24T12:23:50.398186Z"
    }
   }
  },
  {
   "cell_type": "code",
   "execution_count": 13,
   "outputs": [
    {
     "name": "stdout",
     "output_type": "stream",
     "text": [
      "Kit says: Meow\n"
     ]
    }
   ],
   "source": [
    "cat_kit = Cat(\"Kit\", \"Gray\", 30)\n",
    "cat_kit.voice()\n",
    "cat_kit.move()"
   ],
   "metadata": {
    "collapsed": false,
    "ExecuteTime": {
     "start_time": "2023-05-24T12:24:00.462009Z",
     "end_time": "2023-05-24T12:24:01.987289Z"
    }
   }
  },
  {
   "cell_type": "code",
   "execution_count": 14,
   "outputs": [
    {
     "data": {
      "text/plain": "'The Animal is a cat by name Kit. The color is Gray. The weight is 30.'"
     },
     "execution_count": 14,
     "metadata": {},
     "output_type": "execute_result"
    }
   ],
   "source": [
    "cat_kit.info()"
   ],
   "metadata": {
    "collapsed": false,
    "ExecuteTime": {
     "start_time": "2023-05-24T12:24:04.224953Z",
     "end_time": "2023-05-24T12:24:04.249886Z"
    }
   }
  },
  {
   "cell_type": "code",
   "execution_count": 15,
   "outputs": [
    {
     "data": {
      "text/plain": "'The Animal is a dog by name Bonny. The color is Black. The weight is 50.'"
     },
     "execution_count": 15,
     "metadata": {},
     "output_type": "execute_result"
    }
   ],
   "source": [
    "dog_bonny.info()"
   ],
   "metadata": {
    "collapsed": false,
    "ExecuteTime": {
     "start_time": "2023-05-24T12:24:07.111256Z",
     "end_time": "2023-05-24T12:24:07.131197Z"
    }
   }
  },
  {
   "cell_type": "code",
   "execution_count": 16,
   "outputs": [
    {
     "data": {
      "text/plain": "'The Animal is a horse by name Shel. The color is Brown. The weight is 150.'"
     },
     "execution_count": 16,
     "metadata": {},
     "output_type": "execute_result"
    }
   ],
   "source": [
    "horse_shel.info()"
   ],
   "metadata": {
    "collapsed": false,
    "ExecuteTime": {
     "start_time": "2023-05-24T12:24:09.248355Z",
     "end_time": "2023-05-24T12:24:09.270294Z"
    }
   }
  },
  {
   "cell_type": "code",
   "execution_count": 23,
   "outputs": [],
   "source": [
    "class Vet:\n",
    "\n",
    "    @staticmethod\n",
    "    def prev_info(self, animal):\n",
    "        return animal.info()\n",
    "\n",
    "    @staticmethod\n",
    "    def report(self, animal):\n",
    "        state: int = animal.get_state()\n",
    "        result = ''\n",
    "        if state > 5:\n",
    "            result = f'{animal.name} is healthy'\n",
    "        else:\n",
    "            result = f'{animal.name} has some problems. Needs more tests.'\n",
    "        with open(f\"Result {animal.name}.txt\", \"w\") as file:\n",
    "            file.write (result)\n",
    "        return result"
   ],
   "metadata": {
    "collapsed": false,
    "ExecuteTime": {
     "start_time": "2023-05-24T12:25:50.553927Z",
     "end_time": "2023-05-24T12:25:50.568586Z"
    }
   }
  },
  {
   "cell_type": "code",
   "execution_count": 21,
   "outputs": [
    {
     "data": {
      "text/plain": "'The Animal is a dog by name Buster. The color is White. The weight is 40.'"
     },
     "execution_count": 21,
     "metadata": {},
     "output_type": "execute_result"
    }
   ],
   "source": [
    "suffer = Dog(\"Buster\", \"White\", 40)\n",
    "vet = Vet()\n",
    "vet.prev_info(suffer)"
   ],
   "metadata": {
    "collapsed": false,
    "ExecuteTime": {
     "start_time": "2023-05-24T12:25:05.127994Z",
     "end_time": "2023-05-24T12:25:05.154644Z"
    }
   }
  },
  {
   "cell_type": "code",
   "execution_count": 24,
   "outputs": [
    {
     "data": {
      "text/plain": "'Buster has some problems. Needs more tests.'"
     },
     "execution_count": 24,
     "metadata": {},
     "output_type": "execute_result"
    }
   ],
   "source": [
    "vet.report(suffer)"
   ],
   "metadata": {
    "collapsed": false,
    "ExecuteTime": {
     "start_time": "2023-05-24T12:25:54.055910Z",
     "end_time": "2023-05-24T12:25:54.078875Z"
    }
   }
  }
 ],
 "metadata": {
  "kernelspec": {
   "display_name": "Python 3",
   "language": "python",
   "name": "python3"
  },
  "language_info": {
   "codemirror_mode": {
    "name": "ipython",
    "version": 2
   },
   "file_extension": ".py",
   "mimetype": "text/x-python",
   "name": "python",
   "nbconvert_exporter": "python",
   "pygments_lexer": "ipython2",
   "version": "2.7.6"
  }
 },
 "nbformat": 4,
 "nbformat_minor": 0
}
