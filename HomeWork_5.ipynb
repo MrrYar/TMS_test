{
 "cells": [
  {
   "cell_type": "markdown",
   "source": [
    "# Home Work #5"
   ],
   "metadata": {
    "collapsed": false
   }
  },
  {
   "cell_type": "code",
   "execution_count": 1,
   "outputs": [],
   "source": [
    "import numpy as np"
   ],
   "metadata": {
    "collapsed": false,
    "ExecuteTime": {
     "start_time": "2023-06-06T21:20:25.268992Z",
     "end_time": "2023-06-06T21:20:25.399978Z"
    }
   }
  },
  {
   "cell_type": "code",
   "execution_count": 3,
   "outputs": [],
   "source": [
    "scalar = 2\n",
    "vector = np.array([1, 2, 3, 4])\n",
    "matrix = np.array([\n",
    "    [2, 4, 8, 6],\n",
    "    [7, 5, 3, 1]\n",
    "])"
   ],
   "metadata": {
    "collapsed": false,
    "ExecuteTime": {
     "start_time": "2023-06-06T21:22:56.174973Z",
     "end_time": "2023-06-06T21:22:56.192971Z"
    }
   }
  },
  {
   "cell_type": "markdown",
   "source": [
    "__Суммы__"
   ],
   "metadata": {
    "collapsed": false
   }
  },
  {
   "cell_type": "markdown",
   "source": [
    "__Вектор и скаляр__"
   ],
   "metadata": {
    "collapsed": false
   }
  },
  {
   "cell_type": "code",
   "execution_count": 8,
   "outputs": [
    {
     "name": "stdout",
     "output_type": "stream",
     "text": [
      "[3, 4, 5, 6] = [3 4 5 6]\n"
     ]
    }
   ],
   "source": [
    "def matsum_vector_scalar(vector, scalar):\n",
    "    return [v + scalar for v in vector]\n",
    "\n",
    "print(f\"{matsum_vector_scalar(vector, scalar)} = {vector + scalar}\")"
   ],
   "metadata": {
    "collapsed": false,
    "ExecuteTime": {
     "start_time": "2023-06-06T21:31:23.076244Z",
     "end_time": "2023-06-06T21:31:23.090154Z"
    }
   }
  },
  {
   "cell_type": "markdown",
   "source": [
    "__Матрица и скаляр__"
   ],
   "metadata": {
    "collapsed": false
   }
  },
  {
   "cell_type": "code",
   "execution_count": 72,
   "outputs": [
    {
     "name": "stdout",
     "output_type": "stream",
     "text": [
      "[[4, 6, 10, 8], [9, 7, 5, 3]] = [[4, 6, 10, 8], [9, 7, 5, 3]]\n"
     ]
    }
   ],
   "source": [
    "def matsum_matrix_scalar(matrix, scalar):\n",
    "    return [[v + scalar for v in row] for row in matrix]\n",
    "\n",
    "print(f\"{matsum_matrix_scalar(matrix, scalar)} = {(matrix + scalar).tolist()}\")"
   ],
   "metadata": {
    "collapsed": false,
    "ExecuteTime": {
     "start_time": "2023-06-06T23:31:30.659706Z",
     "end_time": "2023-06-06T23:31:30.678772Z"
    }
   }
  },
  {
   "cell_type": "markdown",
   "source": [
    "__Вектор и вектор__"
   ],
   "metadata": {
    "collapsed": false
   }
  },
  {
   "cell_type": "code",
   "execution_count": 17,
   "outputs": [
    {
     "name": "stdout",
     "output_type": "stream",
     "text": [
      "[2, 4, 6, 8] = [2 4 6 8]\n"
     ]
    }
   ],
   "source": [
    "def matsum_vector_vector(vector_1, vector_2):\n",
    "    s = []\n",
    "    for v_1, v_2 in zip(vector_1, vector_2):\n",
    "        s.append(v_1 + v_2)\n",
    "    return s\n",
    "\n",
    "print(f\"{matsum_vector_vector(vector, vector)} = {vector + vector}\")"
   ],
   "metadata": {
    "collapsed": false,
    "ExecuteTime": {
     "start_time": "2023-06-06T21:55:36.148656Z",
     "end_time": "2023-06-06T21:55:36.171593Z"
    }
   }
  },
  {
   "cell_type": "markdown",
   "source": [
    "__Вектор и матрица__"
   ],
   "metadata": {
    "collapsed": false
   }
  },
  {
   "cell_type": "code",
   "execution_count": 48,
   "outputs": [
    {
     "name": "stdout",
     "output_type": "stream",
     "text": [
      "[[3, 6, 11, 10], [8, 7, 6, 5]] = [[3, 6, 11, 10], [8, 7, 6, 5]]\n"
     ]
    }
   ],
   "source": [
    "def matsum_vector_matrix(matrix, vector):\n",
    "    s = []\n",
    "    for row in matrix:\n",
    "        r = []\n",
    "        for m_v, v in zip(row, vector):\n",
    "            r.append(m_v + v)\n",
    "        s.append(r)\n",
    "    return s\n",
    "\n",
    "print(f\"{matsum_vector_matrix(matrix, vector)} = {(matrix + vector).tolist()}\")"
   ],
   "metadata": {
    "collapsed": false,
    "ExecuteTime": {
     "start_time": "2023-06-06T23:08:37.923479Z",
     "end_time": "2023-06-06T23:08:37.945847Z"
    }
   }
  },
  {
   "cell_type": "markdown",
   "source": [
    "__Матрица и матрица__"
   ],
   "metadata": {
    "collapsed": false
   }
  },
  {
   "cell_type": "code",
   "execution_count": 52,
   "outputs": [
    {
     "name": "stdout",
     "output_type": "stream",
     "text": [
      "[[4, 8, 16, 12], [14, 10, 6, 2]] = [[4, 8, 16, 12], [14, 10, 6, 2]]\n"
     ]
    }
   ],
   "source": [
    "def matsum_matrix_matrix(matrix_1, matrix_2):\n",
    "    assert matrix_1.shape == matrix_2.shape, 'Размер матриц не совпадает'\n",
    "    s = []\n",
    "    for row_1, row_2 in zip(matrix_1, matrix_2):\n",
    "        r = []\n",
    "        for v_1, v_2 in zip(row_1, row_2):\n",
    "            r.append(v_1 + v_2)\n",
    "        s.append(r)\n",
    "    return s\n",
    "\n",
    "print(f\"{matsum_matrix_matrix(matrix, matrix)} = {(matrix + matrix).tolist()}\")"
   ],
   "metadata": {
    "collapsed": false,
    "ExecuteTime": {
     "start_time": "2023-06-06T23:18:00.406772Z",
     "end_time": "2023-06-06T23:18:00.422714Z"
    }
   }
  },
  {
   "cell_type": "code",
   "execution_count": 70,
   "outputs": [
    {
     "ename": "AssertionError",
     "evalue": "Размер матриц не совпадает",
     "output_type": "error",
     "traceback": [
      "\u001B[1;31m---------------------------------------------------------------------------\u001B[0m",
      "\u001B[1;31mAssertionError\u001B[0m                            Traceback (most recent call last)",
      "Input \u001B[1;32mIn [70]\u001B[0m, in \u001B[0;36m<cell line: 7>\u001B[1;34m()\u001B[0m\n\u001B[0;32m      1\u001B[0m matrix_new \u001B[38;5;241m=\u001B[39m np\u001B[38;5;241m.\u001B[39marray([\n\u001B[0;32m      2\u001B[0m     [\u001B[38;5;241m2\u001B[39m, \u001B[38;5;241m4\u001B[39m, \u001B[38;5;241m8\u001B[39m, \u001B[38;5;241m6\u001B[39m, \u001B[38;5;241m6\u001B[39m],\n\u001B[0;32m      3\u001B[0m     [\u001B[38;5;241m7\u001B[39m, \u001B[38;5;241m5\u001B[39m, \u001B[38;5;241m3\u001B[39m, \u001B[38;5;241m1\u001B[39m, \u001B[38;5;241m4\u001B[39m],\n\u001B[0;32m      4\u001B[0m     [\u001B[38;5;241m4\u001B[39m, \u001B[38;5;241m5\u001B[39m, \u001B[38;5;241m6\u001B[39m, \u001B[38;5;241m9\u001B[39m, \u001B[38;5;241m0\u001B[39m]\n\u001B[0;32m      5\u001B[0m ])\n\u001B[1;32m----> 7\u001B[0m \u001B[43mmatsum_matrix_matrix\u001B[49m\u001B[43m(\u001B[49m\u001B[43mmatrix\u001B[49m\u001B[43m,\u001B[49m\u001B[43m \u001B[49m\u001B[43mmatrix_new\u001B[49m\u001B[43m)\u001B[49m\n",
      "Input \u001B[1;32mIn [52]\u001B[0m, in \u001B[0;36mmatsum_matrix_matrix\u001B[1;34m(matrix_1, matrix_2)\u001B[0m\n\u001B[0;32m      1\u001B[0m \u001B[38;5;28;01mdef\u001B[39;00m \u001B[38;5;21mmatsum_matrix_matrix\u001B[39m(matrix_1, matrix_2):\n\u001B[1;32m----> 2\u001B[0m     \u001B[38;5;28;01massert\u001B[39;00m matrix_1\u001B[38;5;241m.\u001B[39mshape \u001B[38;5;241m==\u001B[39m matrix_2\u001B[38;5;241m.\u001B[39mshape, \u001B[38;5;124m'\u001B[39m\u001B[38;5;124mРазмер матриц не совпадает\u001B[39m\u001B[38;5;124m'\u001B[39m\n\u001B[0;32m      3\u001B[0m     s \u001B[38;5;241m=\u001B[39m []\n\u001B[0;32m      4\u001B[0m     \u001B[38;5;28;01mfor\u001B[39;00m row_1, row_2 \u001B[38;5;129;01min\u001B[39;00m \u001B[38;5;28mzip\u001B[39m(matrix_1, matrix_2):\n",
      "\u001B[1;31mAssertionError\u001B[0m: Размер матриц не совпадает"
     ]
    }
   ],
   "source": [
    "matrix_new = np.array([\n",
    "    [2, 4, 8, 6, 6],\n",
    "    [7, 5, 3, 1, 4],\n",
    "    [4, 5, 6, 9, 0]\n",
    "])\n",
    "\n",
    "matsum_matrix_matrix(matrix, matrix_new)"
   ],
   "metadata": {
    "collapsed": false
   }
  },
  {
   "cell_type": "markdown",
   "source": [
    "# Произведение"
   ],
   "metadata": {
    "collapsed": false
   }
  },
  {
   "cell_type": "markdown",
   "source": [
    "__Вектор и вектор__"
   ],
   "metadata": {
    "collapsed": false
   }
  },
  {
   "cell_type": "code",
   "execution_count": 12,
   "outputs": [
    {
     "name": "stdout",
     "output_type": "stream",
     "text": [
      "30 = 30\n"
     ]
    }
   ],
   "source": [
    "def matmul_vector_vector(vector_first, vector_second):\n",
    "    result = 0\n",
    "    for v_f, v_s in zip(vector_first, vector_second):\n",
    "        result += v_f * v_s\n",
    "    return result\n",
    "\n",
    "print(f\"{matmul_vector_vector(vector, vector)} = {np.dot(vector, vector)}\")"
   ],
   "metadata": {
    "collapsed": false,
    "ExecuteTime": {
     "start_time": "2023-06-06T21:34:47.275397Z",
     "end_time": "2023-06-06T21:34:47.287287Z"
    }
   }
  },
  {
   "cell_type": "markdown",
   "source": [
    "__Матрица и вектор__"
   ],
   "metadata": {
    "collapsed": false
   }
  },
  {
   "cell_type": "code",
   "execution_count": 68,
   "outputs": [
    {
     "name": "stdout",
     "output_type": "stream",
     "text": [
      "[58, 30] = [58 30]\n"
     ]
    }
   ],
   "source": [
    "def matmul_vector_matrix(matrix, vector):\n",
    "    assert matrix.shape[1] == vector.shape[0], 'Число столбцов matrix не совпадает c числом строк vector'\n",
    "    result = []\n",
    "    for row in matrix:\n",
    "        tmp = 0\n",
    "        for m_v, v in zip(row, vector):\n",
    "            tmp += m_v * v\n",
    "        result.append(tmp)\n",
    "    return result\n",
    "\n",
    "print(f\"{matmul_vector_matrix(matrix, vector)} = {np.dot(matrix, vector)}\")"
   ],
   "metadata": {
    "collapsed": false,
    "ExecuteTime": {
     "start_time": "2023-06-06T23:28:21.562697Z",
     "end_time": "2023-06-06T23:28:21.610854Z"
    }
   }
  },
  {
   "cell_type": "code",
   "execution_count": 71,
   "outputs": [
    {
     "ename": "AssertionError",
     "evalue": "Число столбцов matrix не совпадает c числом строк vector",
     "output_type": "error",
     "traceback": [
      "\u001B[1;31m---------------------------------------------------------------------------\u001B[0m",
      "\u001B[1;31mAssertionError\u001B[0m                            Traceback (most recent call last)",
      "Input \u001B[1;32mIn [71]\u001B[0m, in \u001B[0;36m<cell line: 1>\u001B[1;34m()\u001B[0m\n\u001B[1;32m----> 1\u001B[0m \u001B[43mmatmul_vector_matrix\u001B[49m\u001B[43m(\u001B[49m\u001B[43mmatrix_new\u001B[49m\u001B[43m,\u001B[49m\u001B[43m \u001B[49m\u001B[43mvector\u001B[49m\u001B[43m)\u001B[49m\n",
      "Input \u001B[1;32mIn [68]\u001B[0m, in \u001B[0;36mmatmul_vector_matrix\u001B[1;34m(matrix, vector)\u001B[0m\n\u001B[0;32m      1\u001B[0m \u001B[38;5;28;01mdef\u001B[39;00m \u001B[38;5;21mmatmul_vector_matrix\u001B[39m(matrix, vector):\n\u001B[1;32m----> 2\u001B[0m     \u001B[38;5;28;01massert\u001B[39;00m matrix\u001B[38;5;241m.\u001B[39mshape[\u001B[38;5;241m1\u001B[39m] \u001B[38;5;241m==\u001B[39m vector\u001B[38;5;241m.\u001B[39mshape[\u001B[38;5;241m0\u001B[39m], \u001B[38;5;124m'\u001B[39m\u001B[38;5;124mЧисло столбцов matrix не совпадает c числом строк vector\u001B[39m\u001B[38;5;124m'\u001B[39m\n\u001B[0;32m      3\u001B[0m     result \u001B[38;5;241m=\u001B[39m []\n\u001B[0;32m      4\u001B[0m     \u001B[38;5;28;01mfor\u001B[39;00m row \u001B[38;5;129;01min\u001B[39;00m matrix:\n",
      "\u001B[1;31mAssertionError\u001B[0m: Число столбцов matrix не совпадает c числом строк vector"
     ]
    }
   ],
   "source": [
    "matmul_vector_matrix(matrix_new, vector)"
   ],
   "metadata": {
    "collapsed": false,
    "ExecuteTime": {
     "start_time": "2023-06-06T23:28:43.499280Z",
     "end_time": "2023-06-06T23:28:43.519043Z"
    }
   }
  },
  {
   "cell_type": "markdown",
   "source": [
    "__Матрица и скаляр__"
   ],
   "metadata": {
    "collapsed": false
   }
  },
  {
   "cell_type": "code",
   "execution_count": 73,
   "outputs": [
    {
     "name": "stdout",
     "output_type": "stream",
     "text": [
      "[[4, 8, 16, 12], [14, 10, 6, 2]] = [[4, 8, 16, 12], [14, 10, 6, 2]]\n"
     ]
    }
   ],
   "source": [
    "def matmul_matrix_scalar(matrix, scalar):\n",
    "    return [[v * scalar for v in row] for row in matrix]\n",
    "\n",
    "print(f\"{matmul_matrix_scalar(matrix, scalar)} = {(matrix * scalar).tolist()}\")"
   ],
   "metadata": {
    "collapsed": false,
    "ExecuteTime": {
     "start_time": "2023-06-06T23:31:54.358079Z",
     "end_time": "2023-06-06T23:31:54.382134Z"
    }
   }
  },
  {
   "cell_type": "markdown",
   "source": [
    "__Вектор и скаляр__"
   ],
   "metadata": {
    "collapsed": false
   }
  },
  {
   "cell_type": "code",
   "execution_count": 31,
   "outputs": [
    {
     "name": "stdout",
     "output_type": "stream",
     "text": [
      "[2, 4, 6, 8] = [2 4 6 8]\n"
     ]
    }
   ],
   "source": [
    "def matmul_vector_scalar(vector, scalar):\n",
    "    return [v * scalar for v in vector]\n",
    "\n",
    "print(f\"{matmul_vector_scalar(vector, scalar)} = {vector * scalar}\")"
   ],
   "metadata": {
    "collapsed": false,
    "ExecuteTime": {
     "start_time": "2023-06-06T22:51:11.410523Z",
     "end_time": "2023-06-06T22:51:11.425488Z"
    }
   }
  }
 ],
 "metadata": {
  "kernelspec": {
   "display_name": "Python 3",
   "language": "python",
   "name": "python3"
  },
  "language_info": {
   "codemirror_mode": {
    "name": "ipython",
    "version": 2
   },
   "file_extension": ".py",
   "mimetype": "text/x-python",
   "name": "python",
   "nbconvert_exporter": "python",
   "pygments_lexer": "ipython2",
   "version": "2.7.6"
  }
 },
 "nbformat": 4,
 "nbformat_minor": 0
}
