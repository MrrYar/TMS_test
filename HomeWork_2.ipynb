{
 "cells": [
  {
   "cell_type": "markdown",
   "source": [
    "# Home work #2"
   ],
   "metadata": {
    "collapsed": false
   }
  },
  {
   "cell_type": "markdown",
   "source": [
    "Реализуйте следующие классы:\n",
    "\n",
    "* Animal - родительский класс\n",
    "* Dog - дочерний от Animal\n",
    "* Cat - дочерний от Animal\n",
    "* Horse - дочерний от Animal"
   ],
   "metadata": {
    "collapsed": false
   }
  },
  {
   "cell_type": "code",
   "execution_count": 48,
   "outputs": [],
   "source": [
    "class Animal:\n",
    "\n",
    "    def __init__(self, color: str, height: int, paws=4):\n",
    "        self.color = color\n",
    "        self.height = height\n",
    "        self.paws = paws"
   ],
   "metadata": {
    "collapsed": false,
    "ExecuteTime": {
     "start_time": "2023-05-16T16:55:31.699879Z",
     "end_time": "2023-05-16T16:55:31.716474Z"
    }
   }
  },
  {
   "cell_type": "code",
   "execution_count": 49,
   "outputs": [],
   "source": [
    "class Dog(Animal):\n",
    "    def __init__(self, name: str, color: str, height: int):\n",
    "        super().__init__(color, height, paws=4)\n",
    "        self.name = name\n",
    "        self.claws = True\n",
    "\n",
    "    def voice(self):\n",
    "        print(\"Woof\")"
   ],
   "metadata": {
    "collapsed": false,
    "ExecuteTime": {
     "start_time": "2023-05-16T16:55:53.526521Z",
     "end_time": "2023-05-16T16:55:53.547455Z"
    }
   }
  },
  {
   "cell_type": "code",
   "execution_count": 50,
   "outputs": [],
   "source": [
    "class Cat(Animal):\n",
    "    def __init__(self, name: str, color: str, height: int):\n",
    "        super().__init__(color, height, paws=4)\n",
    "        self.name = name\n",
    "        self.claws = True\n",
    "\n",
    "    def voice(self):\n",
    "        print(\"Meow\")"
   ],
   "metadata": {
    "collapsed": false,
    "ExecuteTime": {
     "start_time": "2023-05-16T16:57:27.619424Z",
     "end_time": "2023-05-16T16:57:27.632388Z"
    }
   }
  },
  {
   "cell_type": "code",
   "execution_count": 51,
   "outputs": [],
   "source": [
    "class Horse(Animal):\n",
    "    def __init__(self, color: str, height: int):\n",
    "        super().__init__(color, height, paws=4)\n",
    "        self.claws = False\n",
    "\n",
    "    def voice(self):\n",
    "        print(\"Neigh\")"
   ],
   "metadata": {
    "collapsed": false,
    "ExecuteTime": {
     "start_time": "2023-05-16T16:57:30.198619Z",
     "end_time": "2023-05-16T16:57:30.219257Z"
    }
   }
  },
  {
   "cell_type": "code",
   "execution_count": 52,
   "outputs": [],
   "source": [
    "horse_shel = Horse(\"Brown\", 150)"
   ],
   "metadata": {
    "collapsed": false,
    "ExecuteTime": {
     "start_time": "2023-05-16T16:58:09.754824Z",
     "end_time": "2023-05-16T16:58:09.766826Z"
    }
   }
  },
  {
   "cell_type": "code",
   "execution_count": 53,
   "outputs": [
    {
     "name": "stdout",
     "output_type": "stream",
     "text": [
      "Neigh\n"
     ]
    },
    {
     "data": {
      "text/plain": "False"
     },
     "execution_count": 53,
     "metadata": {},
     "output_type": "execute_result"
    }
   ],
   "source": [
    "horse_shel.voice()\n",
    "horse_shel.claws"
   ],
   "metadata": {
    "collapsed": false,
    "ExecuteTime": {
     "start_time": "2023-05-16T16:58:13.085842Z",
     "end_time": "2023-05-16T16:58:13.107332Z"
    }
   }
  },
  {
   "cell_type": "code",
   "execution_count": 54,
   "outputs": [
    {
     "name": "stdout",
     "output_type": "stream",
     "text": [
      "Woof\n"
     ]
    },
    {
     "data": {
      "text/plain": "True"
     },
     "execution_count": 54,
     "metadata": {},
     "output_type": "execute_result"
    }
   ],
   "source": [
    "dog_bonny = Dog(\"Bonny\", \"Black\", 50)\n",
    "dog_bonny.voice()\n",
    "dog_bonny.paws\n",
    "dog_bonny.claws"
   ],
   "metadata": {
    "collapsed": false,
    "ExecuteTime": {
     "start_time": "2023-05-16T16:58:16.912403Z",
     "end_time": "2023-05-16T16:58:16.927361Z"
    }
   }
  },
  {
   "cell_type": "code",
   "execution_count": 55,
   "outputs": [
    {
     "name": "stdout",
     "output_type": "stream",
     "text": [
      "Meow\n"
     ]
    },
    {
     "data": {
      "text/plain": "4"
     },
     "execution_count": 55,
     "metadata": {},
     "output_type": "execute_result"
    }
   ],
   "source": [
    "cat_kit = Cat(\"Kit\", \"Gray\", 30)\n",
    "cat_kit.voice()\n",
    "cat_kit.paws"
   ],
   "metadata": {
    "collapsed": false,
    "ExecuteTime": {
     "start_time": "2023-05-16T16:58:20.695772Z",
     "end_time": "2023-05-16T16:58:20.721112Z"
    }
   }
  }
 ],
 "metadata": {
  "kernelspec": {
   "display_name": "Python 3",
   "language": "python",
   "name": "python3"
  },
  "language_info": {
   "codemirror_mode": {
    "name": "ipython",
    "version": 2
   },
   "file_extension": ".py",
   "mimetype": "text/x-python",
   "name": "python",
   "nbconvert_exporter": "python",
   "pygments_lexer": "ipython2",
   "version": "2.7.6"
  }
 },
 "nbformat": 4,
 "nbformat_minor": 0
}
